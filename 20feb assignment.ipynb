{
 "cells": [
  {
   "cell_type": "code",
   "execution_count": null,
   "id": "4578a163-3c7a-4437-9c90-be967ddb36dc",
   "metadata": {},
   "outputs": [],
   "source": [
    "GET and POST are two HTTP methods used in client-server communication to exchange data between a client (such as a web browser) and a server (such as a web server). Here's an explanation of both:\n",
    "GET:\n",
    "The GET method is used to retrieve data from the server. When a client sends a GET request, it sends a request for a specific resource, and the server responds by sending back the requested data. The data is usually sent in the form of a URL query string that contains key-value pairs.\n",
    "POST:\n",
    "The POST method is used to submit data to the server. When a client sends a POST request, it sends data in the request body to the server. This data can be in the form of text, JSON, XML, or binary data, and is used to create or update a resource on the server"
   ]
  },
  {
   "cell_type": "code",
   "execution_count": null,
   "id": "c675c101-eb8a-4e68-901b-9803c1ceb5e7",
   "metadata": {},
   "outputs": [],
   "source": [
    "Q2. Why is request used in Flask?"
   ]
  },
  {
   "cell_type": "code",
   "execution_count": null,
   "id": "cf6e39dd-fdc0-4bb6-927a-64561008b4e3",
   "metadata": {},
   "outputs": [],
   "source": [
    "In Flask, the request object is used to access incoming HTTP request data sent by a client to the server. It is a global variable that is available within the context of a request and can be used to access data such as form data, cookies, headers, and files.\n",
    "The request object is used in Flask to allow the server to receive data from the client and to provide a way for the server to interact with the client. When a client sends a request to the server, the request object is created automatically by Flask and contains information about the request, such as the HTTP method (GET, POST, etc.), URL, headers, and data.\n",
    "By using the request object in Flask, developers can build web applications that are capable of handling various types of requests from clients and provide appropriate responses based on the data received from the client."
   ]
  },
  {
   "cell_type": "code",
   "execution_count": null,
   "id": "9b771e04-0a4e-4ace-a0f6-d0ae83c523ac",
   "metadata": {},
   "outputs": [],
   "source": [
    "Q3. Why is redirect() used in Flask?"
   ]
  },
  {
   "cell_type": "code",
   "execution_count": null,
   "id": "bbd12309-1588-4b6e-bb8b-c7807bddf156",
   "metadata": {},
   "outputs": [],
   "source": [
    "In Flask, the redirect() function is used to redirect a client to a different URL. It is a helper function that simplifies the process of sending a redirect response to the client. When a client sends a request to a Flask application, the application can use the redirect() function to send a response to the client that instructs it to request a different URL.\n",
    "\n",
    "There are several reasons why the redirect() function may be used in a Flask application. Some of the common use cases are:\n",
    "\n",
    "1.Redirecting after a form submission: When a user submits a form, the application may need to redirect the user to a different page, such as a thank you page or a confirmation page.\n",
    "\n",
    "2.Handling authentication and authorization: When a user attempts to access a protected resource, such as a page that requires authentication, the application may redirect the user to a login page.\n",
    "\n",
    "3.Handling errors: When an error occurs in the application, the application may redirect the user to an error page that provides information about the error."
   ]
  },
  {
   "cell_type": "code",
   "execution_count": null,
   "id": "8bcabbd0-f883-4ac9-99fb-35e5be4c6a47",
   "metadata": {},
   "outputs": [],
   "source": [
    "Q4. What are templates in Flask? Why is the render_template() function used?"
   ]
  },
  {
   "cell_type": "code",
   "execution_count": null,
   "id": "414cbe9f-3e4c-47cc-9778-8f61bdf1914e",
   "metadata": {},
   "outputs": [],
   "source": [
    "In Flask, a template is a file that is used to generate HTML dynamically. It contains placeholders for dynamic content, such as variables, control structures (loops, conditions), and other dynamic elements. When a template is rendered, the placeholders are replaced with actual values or content.\n",
    "\n",
    "Templates are used in Flask to separate the presentation logic from the application logic. They allow developers to create reusable HTML layouts and to dynamically generate content based on user input or other factors.\n",
    "\n",
    "The render_template() function is used in Flask to render a template and generate HTML dynamically. It takes the name of the template file as an argument and any additional context variables that are needed to render the template."
   ]
  },
  {
   "cell_type": "code",
   "execution_count": null,
   "id": "c4c04fbd-2475-45c9-acce-36ab3a8c9ed9",
   "metadata": {},
   "outputs": [],
   "source": [
    "Q5. Create a simple API. Use Postman to test it. Attach the screenshot of the output in the Jupyter Notebook."
   ]
  },
  {
   "cell_type": "code",
   "execution_count": null,
   "id": "ae542128-07f2-4c9a-9a3d-0674349229fc",
   "metadata": {},
   "outputs": [],
   "source": [
    "from flask import Flask, jsonify\n",
    "\n",
    "app = Flask(__name__)\n",
    "\n",
    "@app.route('/api')\n",
    "def hello():\n",
    "    return jsonify({'message': 'Hello, World!'})\n",
    "\n",
    "if __name__ == '__main__':\n",
    "    app.run()\n",
    "    \n",
    "##i am unable to attach screenshot of this because pwlab does not support it \n"
   ]
  }
 ],
 "metadata": {
  "kernelspec": {
   "display_name": "Python 3 (ipykernel)",
   "language": "python",
   "name": "python3"
  },
  "language_info": {
   "codemirror_mode": {
    "name": "ipython",
    "version": 3
   },
   "file_extension": ".py",
   "mimetype": "text/x-python",
   "name": "python",
   "nbconvert_exporter": "python",
   "pygments_lexer": "ipython3",
   "version": "3.10.8"
  }
 },
 "nbformat": 4,
 "nbformat_minor": 5
}
