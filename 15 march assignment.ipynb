{
 "cells": [
  {
   "cell_type": "code",
   "execution_count": null,
   "id": "0076b880-6fd6-4b4e-8048-847b0991fda7",
   "metadata": {},
   "outputs": [],
   "source": [
    "Q1- Explain the following with an example\n",
    "1) Artificial intelligence\n",
    "2) Machine Learning\n",
    "3) deep Learning"
   ]
  },
  {
   "cell_type": "code",
   "execution_count": null,
   "id": "d8c2120e-25e5-4cd1-8377-fc36615df28b",
   "metadata": {},
   "outputs": [],
   "source": [
    "1.Artificial intelligence-it is an smart application that can perform its own task without any human interferance.example:self driving cars,google alexa,Robots\n",
    "2.Machine Learning-ML is an subset of AI and it provides statstool to analyze,visuallize,prediction module,forecast.example: Recommendation systems in websites like Netflix and Spotify.\n",
    "3.Deep learning-its main is to mimic the human brain.example:object detection, Image recognition."
   ]
  },
  {
   "cell_type": "code",
   "execution_count": null,
   "id": "344c285c-600e-4408-8cac-b6bab7aa6662",
   "metadata": {},
   "outputs": [],
   "source": [
    "Q2- What is supervised learning? List some examples of supervised learning."
   ]
  },
  {
   "cell_type": "code",
   "execution_count": null,
   "id": "a8955fce-e5c9-4a26-a403-3d267e7cc5f3",
   "metadata": {},
   "outputs": [],
   "source": [
    "Supervised learning is a type of machine learning in which an algorithm is trained on labeled data, meaning that the data includes both input variables and corresponding output variables. The goal of supervised learning is for the algorithm to learn the mapping between the input variables and the output variables, so that it can accurately predict the output variable for new, unseen input data.\n",
    "Some examples of supervised learning include:\n",
    "1.Image classification\n",
    "2.Speech recognition"
   ]
  },
  {
   "cell_type": "code",
   "execution_count": null,
   "id": "1e6b7b58-f99d-4a64-beb0-d940aec36b5f",
   "metadata": {},
   "outputs": [],
   "source": [
    "Q3- What is unsupervised learning? List some examples of unsupervised learning."
   ]
  },
  {
   "cell_type": "code",
   "execution_count": null,
   "id": "61a896f1-978c-4bea-8e11-eb221197ec51",
   "metadata": {},
   "outputs": [],
   "source": [
    "Unsupervised learning is a type of machine learning in which an algorithm is trained on unlabeled data, meaning that the data does not includes output variables.\n",
    "some examples of unsupervised learning:\n",
    "1.clustering\n",
    "2.Dimensionality reduction"
   ]
  },
  {
   "cell_type": "code",
   "execution_count": null,
   "id": "e97830fc-d414-4c9f-9c1f-e4134b67f90b",
   "metadata": {},
   "outputs": [],
   "source": [
    "Q4- What is the difference between AI, ML, DL, and DS?"
   ]
  },
  {
   "cell_type": "code",
   "execution_count": null,
   "id": "83699c6c-5718-4426-b948-e7144b15d999",
   "metadata": {},
   "outputs": [],
   "source": [
    " AI is the umbrella term for creating intelligent machines, ML is a subset of AI that involves learning from data, DL is a subset of ML that involves deep neural networks, and DS is the interdisciplinary field that involves using data to gain insights and make decisions."
   ]
  },
  {
   "cell_type": "code",
   "execution_count": null,
   "id": "82bcf53a-5b7a-4da1-a4bd-f0a1b0c29275",
   "metadata": {},
   "outputs": [],
   "source": [
    "Q5- What are the main differences between supervised, unsupervised, and semi-supervised learning?"
   ]
  },
  {
   "cell_type": "code",
   "execution_count": null,
   "id": "44335297-257c-4494-b93e-09a8f87077c0",
   "metadata": {},
   "outputs": [],
   "source": [
    "Supervised learning is a type of machine learning in which an algorithm is trained on labeled data, meaning that the data includes both input variables and corresponding output variables. The goal of supervised learning is for the algorithm to learn the mapping between the input variables and the output variables, so that it can accurately predict the output variable for new, unseen input data.\n",
    "Unsupervised learning is a type of machine learning in which an algorithm is trained on unlabeled data, meaning that the data does not includes output variables.\n",
    "Semi-supervised learning is a type of machine learning that combines both labeled and unlabeled data to improve the accuracy of the model."
   ]
  },
  {
   "cell_type": "code",
   "execution_count": null,
   "id": "006b1791-7c52-413e-a519-d79f97b64a82",
   "metadata": {},
   "outputs": [],
   "source": [
    "Q6- What is train, test and validation split? Explain the importance of each term."
   ]
  },
  {
   "cell_type": "code",
   "execution_count": null,
   "id": "6848df0f-f203-4e04-a7ec-3ab3c2c8158e",
   "metadata": {},
   "outputs": [],
   "source": [
    "The data is usually divided into three subsets:\n",
    "\n",
    "1.Training Set: The subset of data that is used to train the machine learning model.\n",
    "2.Test Set: The subset of data that is used to evaluate the performance of the model after it has been trained. The test set is unseen by the model during training.\n",
    "3.Validation Set: The subset of data that is used to fine-tune the model and prevent overfitting. The validation set is used to evaluate the model during training and to select the best hyperparameters for the model.\n",
    "\n",
    "The importance of each of these subsets is as follows:\n",
    "\n",
    "1.Training Set: The training set is used to teach the model how to predict the target variable based on the input features. The more diverse and representative the training set is, the better the model will generalize to new and unseen data.\n",
    "2.Test Set: The test set is used to evaluate the performance of the model on new and unseen data. The test set should be representative of the real-world data that the model will be applied to. By using a separate test set, we can estimate the accuracy of the model and detect any overfitting or underfitting.\n",
    "3.Validation Set: The validation set is used to fine-tune the model and prevent overfitting. During training, the model may start to memorize the training data and lose its ability to generalize to new data. The validation set can be used to detect and prevent overfitting by evaluating the performance of the model on the validation set at each epoch of training. The validation set can also be used to select the best hyperparameters for the model."
   ]
  },
  {
   "cell_type": "code",
   "execution_count": null,
   "id": "0c83a0d7-fd0f-42a1-9f32-366f16fef413",
   "metadata": {},
   "outputs": [],
   "source": [
    "Q7- How can unsupervised learning be used in anomaly detection?"
   ]
  },
  {
   "cell_type": "code",
   "execution_count": null,
   "id": "6b9f15e8-0f57-462c-918d-ce5427a98c7a",
   "metadata": {},
   "outputs": [],
   "source": [
    "Unsupervised learning can be used in anomaly detection by identifying patterns or outliers in unlabeled data without the need for prior knowledge or supervision. Anomaly detection is the process of identifying rare events or anomalies in a dataset that deviate from the norm or expected behavior."
   ]
  },
  {
   "cell_type": "code",
   "execution_count": null,
   "id": "8f379527-5259-4235-8d6e-d0a95cbc79cb",
   "metadata": {},
   "outputs": [],
   "source": [
    "Q8- List down some commonly used supervised learning algorithms and unsupervised learning\n",
    "algorithms."
   ]
  },
  {
   "cell_type": "code",
   "execution_count": null,
   "id": "a58a6050-973e-411f-93b8-1b9e8f1fa4d5",
   "metadata": {},
   "outputs": [],
   "source": [
    "Supervised Learning Algorithms:\n",
    "\n",
    "1.Linear Regression\n",
    "2.Logistic Regression\n",
    "3.Decision Trees\n",
    "4.Random Forest\n",
    "5.Support Vector Machines (SVM)\n",
    "6.Naive Bayes\n",
    "\n",
    "Unsupervised Learning Algorithms:\n",
    "\n",
    "1.Clustering (K-Means, DBSCAN, Hierarchical Clustering)\n",
    "2.Dimensionality Reduction (PCA, t-SNE)\n",
    "3.Density-Based Approaches (Local Outlier Factor, Isolation Forest)\n",
    "4.Association Rule Learning (Apriori)\n",
    "5.Principal Component Analysis (PCA)\n",
    "6.Independent Component Analysis (ICA)\n"
   ]
  },
  {
   "cell_type": "code",
   "execution_count": null,
   "id": "8a157911-b44c-4afa-9581-2fb4000e3ec9",
   "metadata": {},
   "outputs": [],
   "source": []
  }
 ],
 "metadata": {
  "kernelspec": {
   "display_name": "Python 3 (ipykernel)",
   "language": "python",
   "name": "python3"
  },
  "language_info": {
   "codemirror_mode": {
    "name": "ipython",
    "version": 3
   },
   "file_extension": ".py",
   "mimetype": "text/x-python",
   "name": "python",
   "nbconvert_exporter": "python",
   "pygments_lexer": "ipython3",
   "version": "3.10.8"
  }
 },
 "nbformat": 4,
 "nbformat_minor": 5
}
