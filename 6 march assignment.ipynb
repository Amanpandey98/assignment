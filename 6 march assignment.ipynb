{
 "cells": [
  {
   "cell_type": "code",
   "execution_count": null,
   "id": "3a8eacc2-4623-4328-8af6-e22dfd05ced2",
   "metadata": {},
   "outputs": [],
   "source": [
    "Q1. What is Statistics?"
   ]
  },
  {
   "cell_type": "code",
   "execution_count": null,
   "id": "1bbaaad8-d7bb-4be0-aa1e-45d59023c36d",
   "metadata": {},
   "outputs": [],
   "source": [
    "statistics is the science of collecting,organizing and analyzing of data."
   ]
  },
  {
   "cell_type": "code",
   "execution_count": null,
   "id": "d47cf58d-662d-4d32-9d41-d961e1210559",
   "metadata": {},
   "outputs": [],
   "source": [
    "Q2. Define the different types of statistics and give an example of when each type might be used."
   ]
  },
  {
   "cell_type": "code",
   "execution_count": null,
   "id": "33a195be-44c4-4d98-a5cc-16859cfee87f",
   "metadata": {},
   "outputs": [],
   "source": [
    "types of statistics \n",
    "1)descriptive: it consists of organizing and summarizing of data,For example, if we want to describe the average height of people in a particular city, we can use descriptive statistics to calculate the mean height of a sample of people.\n",
    "2)inferential: it consist of using data you have measured to form coclusion,For example, if we want to determine if a new drug is effective, we can use inferential statistics to analyze the results of a clinical trial and make predictions about how it will perform in the general population.\n",
    "\n"
   ]
  },
  {
   "cell_type": "code",
   "execution_count": null,
   "id": "77f12e16-ea4d-48e1-acc4-00349c95701a",
   "metadata": {},
   "outputs": [],
   "source": [
    "Q3. What are the different types of data and how do they differ from each other? Provide an example of\n",
    "each type of data."
   ]
  },
  {
   "cell_type": "code",
   "execution_count": null,
   "id": "55a0ae67-fd6d-4925-87e3-12537644cd2e",
   "metadata": {},
   "outputs": [],
   "source": [
    "There are four main types of data: nominal, ordinal, interval, and ratio. Each type of data has different characteristics and statistical analyses that can be applied to them.\n",
    "\n",
    "Nominal data:\n",
    "Nominal data is the simplest type of data, which categorizes data into distinct groups based on their names or labels. Nominal data does not have any inherent order or numerical value. For example, the colors of a car (blue, red, green) or marital status (married, single, divorced) are examples of nominal data.\n",
    "\n",
    "Ordinal data:\n",
    "Ordinal data categorizes data into distinct groups based on their order or rank. Ordinal data can be ranked in order, but the difference between each value may not be known or meaningful. For example, ratings of a movie (excellent, good, fair, poor) or education level (elementary, high school, college, graduate) are examples of ordinal data.\n",
    "\n",
    "Interval data:\n",
    "Interval data is numerical data that has a meaningful order and equal intervals between values. The difference between values is meaningful, but the ratio between values is not. For example, temperature measured in degrees Celsius or Fahrenheit is an example of interval data.\n",
    "\n",
    "Ratio data:\n",
    "Ratio data is numerical data that has a meaningful order, equal intervals between values, and a true zero point. Ratio data can be compared in terms of ratios, such as a height of a person or the weight of an object. For example, age, weight, height, or income are examples of ratio data"
   ]
  },
  {
   "cell_type": "code",
   "execution_count": null,
   "id": "981586ed-8a8a-4950-92b4-02cc6469dfc9",
   "metadata": {},
   "outputs": [],
   "source": [
    "Q4. Categorise the following datasets with respect to quantitative and qualitative data types:\n",
    "(i) Grading in exam: A+, A, B+, B, C+, C, D, E\n",
    "(ii) Colour of mangoes: yellow, green, orange, red\n",
    "(iii) Height data of a class: [178.9, 179, 179.5, 176, 177.2, 178.3, 175.8,...]\n",
    "(iv) Number of mangoes exported by a farm: [500, 600, 478, 672, ...]"
   ]
  },
  {
   "cell_type": "code",
   "execution_count": null,
   "id": "b8e8c567-c56f-4cd2-b210-d22f00a8eecb",
   "metadata": {},
   "outputs": [],
   "source": [
    "(i) Grading in exam: A+, A, B+, B, C+, C, D, E\n",
    "Categorical or qualitative data\n",
    "(ii) Colour of mangoes: yellow, green, orange, red\n",
    "Categorical or qualitative data\n",
    "(iii) Height data of a class: [178.9, 179, 179.5, 176, 177.2, 178.3, 175.8,...]\n",
    "Continuous or quantitative data\n",
    "(iv) Number of mangoes exported by a farm: [500, 600, 478, 672, ...]\n",
    "Discrete or quantitative data"
   ]
  },
  {
   "cell_type": "code",
   "execution_count": null,
   "id": "7751f381-9d0c-4957-b3bb-6da9af58165c",
   "metadata": {},
   "outputs": [],
   "source": [
    "Q5. Explain the concept of levels of measurement and give an example of a variable for each level."
   ]
  },
  {
   "cell_type": "code",
   "execution_count": null,
   "id": "ac104ab1-0a31-42e1-a14d-23c379f51a6a",
   "metadata": {},
   "outputs": [],
   "source": [
    "Nominal level of measurement:\n",
    "Nominal level of measurement categorizes data into distinct groups based on their names or labels. This level of measurement does not have any inherent order or numerical value. For example, gender (male or female), blood type (A, B, AB, or O), or marital status (married, single, divorced) are all examples of nominal data.\n",
    "\n",
    "Ordinal level of measurement:\n",
    "Ordinal level of measurement categorizes data into distinct groups based on their order or rank. This level of measurement can be ranked in order, but the difference between each value may not be known or meaningful. For example, the level of education (elementary, high school, college, graduate) or satisfaction ratings (very satisfied, satisfied, neutral, dissatisfied, very dissatisfied) are examples of ordinal data.\n",
    "\n",
    "Interval level of measurement:\n",
    "Interval level of measurement is numerical data that has a meaningful order and equal intervals between values. The difference between values is meaningful, but the ratio between values is not. For example, temperature measured in degrees Celsius or Fahrenheit is an example of interval data.\n",
    "\n",
    "Ratio level of measurement:\n",
    "Ratio level of measurement is numerical data that has a meaningful order, equal intervals between values, and a true zero point. Ratio level data can be compared in terms of ratios, such as a height of a person or the weight of an object. For example, age, weight, height, or income are examples of ratio data"
   ]
  },
  {
   "cell_type": "code",
   "execution_count": null,
   "id": "818313a0-cd3d-48cd-81f6-5588b84ab065",
   "metadata": {},
   "outputs": [],
   "source": [
    "Q6. Why is it important to understand the level of measurement when analyzing data? Provide an\n",
    "example to illustrate your answer."
   ]
  },
  {
   "cell_type": "code",
   "execution_count": null,
   "id": "4099ee16-7eee-4481-a1d0-91c8e819e41f",
   "metadata": {},
   "outputs": [],
   "source": [
    "It is important to understand the level of measurement when analyzing data because it determines the type of statistical analysis that can be applied to the data. Different levels of measurement require different statistical techniques, and using the wrong method can result in incorrect conclusions. Moreover, understanding the level of measurement also helps to choose appropriate graphs and charts to represent data.\n",
    "For example, consider two variables, age and income. Age is a ratio variable because it has a true zero point, whereas income is an interval variable because it has equal intervals but does not have a true zero point. If we want to compare the average age and average income of two groups, we can use the mean as a measure of central tendency for both variables. However, if we want to compare the relative difference between the two groups for income, we cannot use ratios since there is no true zero point. On the other hand, ratios can be used for age."
   ]
  },
  {
   "cell_type": "code",
   "execution_count": null,
   "id": "e2e5f505-539f-42db-a9b9-977d7604075e",
   "metadata": {},
   "outputs": [],
   "source": [
    "Q7. How nominal data type is different from ordinal data type."
   ]
  },
  {
   "cell_type": "code",
   "execution_count": null,
   "id": "7e39aede-f1d4-445b-89c1-0ff40abec74a",
   "metadata": {},
   "outputs": [],
   "source": [
    " the main difference between nominal and ordinal data is that nominal data only has categories with no inherent order or numerical value, while ordinal data has categories that can be ranked in order. Therefore, nominal data is the lowest level of measurement while ordinal data is the second level of measurement on the scale of measurement."
   ]
  },
  {
   "cell_type": "code",
   "execution_count": null,
   "id": "84f3c061-f948-48c7-9e20-6bca72a1565d",
   "metadata": {},
   "outputs": [],
   "source": [
    "Q8. Which type of plot can be used to display data in terms of range?"
   ]
  },
  {
   "cell_type": "code",
   "execution_count": null,
   "id": "c0bed33b-e041-44b3-89bf-a91a852168ac",
   "metadata": {},
   "outputs": [],
   "source": [
    "A box plot, also known as a box-and-whisker plot, can be used to display data in terms of range. A box plot provides a graphical representation of the five-number summary of a dataset: minimum value, lower quartile (Q1), median, upper quartile (Q3), and maximum value."
   ]
  },
  {
   "cell_type": "code",
   "execution_count": null,
   "id": "f3be4c96-d278-44fb-bae6-215cf96b2636",
   "metadata": {},
   "outputs": [],
   "source": [
    "Q9. Describe the difference between descriptive and inferential statistics. Give an example of each\n",
    "type of statistics and explain how they are used."
   ]
  },
  {
   "cell_type": "code",
   "execution_count": null,
   "id": "9b2ff764-bc6c-4350-9d70-00b435127862",
   "metadata": {},
   "outputs": [],
   "source": [
    "Descriptive statistics involves the collection, analysis, and presentation of data to describe and summarize the main features of a dataset. It focuses on describing the characteristics of a sample or population, such as measures of central tendency (mean, median, mode), measures of variability (range, variance, standard deviation), and graphical representations (histograms, scatterplots, etc.). Descriptive statistics are used to gain insights into the data and to communicate the findings to others. For example, calculating the mean and standard deviation of test scores in a class and presenting them in a histogram can provide a visual summary of the data distribution and help to identify any trends or outliers.\n",
    "Inferential statistics, on the other hand, involves using sample data to make generalizations or predictions about a larger population. It involves statistical hypothesis testing, estimation, and prediction based on probability theory. Inferential statistics allow researchers to draw conclusions about a population based on a sample of data. For example, a researcher may use inferential statistics to test whether there is a significant difference in test scores between two groups of students. This can help to identify whether the difference observed in the sample is likely to be a true difference or just due to chance."
   ]
  },
  {
   "cell_type": "code",
   "execution_count": null,
   "id": "27ef2b93-c8e6-436e-9af0-9aee69e4cfa3",
   "metadata": {},
   "outputs": [],
   "source": [
    "Q10. What are some common measures of central tendency and variability used in statistics? Explain\n",
    "how each measure can be used to describe a dataset."
   ]
  },
  {
   "cell_type": "code",
   "execution_count": null,
   "id": "f67ca752-3b78-4c1f-97ec-93d11340b6b2",
   "metadata": {},
   "outputs": [],
   "source": [
    "Measures of central tendency are used to identify a single value that represents the typical or central value of the dataset. The most common measures of central tendency include:\n",
    "\n",
    "1.Mean: The mean is the average of all the values in a dataset. It is calculated by adding up all the values and dividing by the total number of values. The mean is sensitive to extreme values or outliers in the dataset.\n",
    "For example, if we have a dataset of test scores for a class of students, we can calculate the mean to get an idea of the typical score for the class.\n",
    "\n",
    "2.Median: The median is the middle value in a dataset when it is arranged in order. It is less sensitive to extreme values than the mean.\n",
    "For example, if we have a dataset of salaries for a company, we can calculate the median to get an idea of the typical salary earned by employees in the company.\n",
    "\n",
    "3.Mode: The mode is the value that appears most frequently in a dataset. It is useful when the data has a clear peak or most common value.\n",
    "For example, if we have a dataset of colors of cars sold by a dealership, we can calculate the mode to identify the most popular color among customers.\n",
    "\n",
    "Measures of variability are used to describe the spread or dispersion of the data around the central value. The most common measures of variability include:\n",
    "\n",
    "1.Range: The range is the difference between the maximum and minimum values in a dataset. It gives a rough indication of how much the data is spread out.\n",
    "For example, if we have a dataset of heights of students in a class, we can calculate the range to get an idea of how much the heights vary.\n",
    "\n",
    "2.Variance: The variance is the average of the squared differences of each value from the mean. It gives a more precise measure of how spread out the data is.\n",
    "For example, if we have a dataset of weights of students in a class, we can calculate the variance to get an idea of how much the weights deviate from the mean.\n",
    "\n",
    "3.Standard deviation: The standard deviation is the square root of the variance. It is a commonly used measure of variability that gives an idea of how much the data deviates from the mean. It is often used in conjunction with the mean to describe the shape of a distribution.\n",
    "For example, if we have a dataset of ages of employees in a company, we can calculate the standard deviation to get an idea of how much the ages deviate from the mean age of employees."
   ]
  },
  {
   "cell_type": "code",
   "execution_count": null,
   "id": "a88efbfb-af37-4123-96e2-6a82294f20cd",
   "metadata": {},
   "outputs": [],
   "source": []
  }
 ],
 "metadata": {
  "kernelspec": {
   "display_name": "Python 3 (ipykernel)",
   "language": "python",
   "name": "python3"
  },
  "language_info": {
   "codemirror_mode": {
    "name": "ipython",
    "version": 3
   },
   "file_extension": ".py",
   "mimetype": "text/x-python",
   "name": "python",
   "nbconvert_exporter": "python",
   "pygments_lexer": "ipython3",
   "version": "3.10.8"
  }
 },
 "nbformat": 4,
 "nbformat_minor": 5
}
