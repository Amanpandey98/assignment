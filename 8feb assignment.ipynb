{
 "cells": [
  {
   "cell_type": "code",
   "execution_count": null,
   "id": "577ee4d8-a6b8-4515-b4a6-25d26e871b8d",
   "metadata": {},
   "outputs": [],
   "source": [
    "Q1. What is Abstraction in OOps? Explain with an example."
   ]
  },
  {
   "cell_type": "code",
   "execution_count": null,
   "id": "183aa833-96d9-431d-904d-d6a026c92fb8",
   "metadata": {},
   "outputs": [],
   "source": [
    "Abstraction is a fundamental concept in object-oriented programming (OOP) that refers to the process of hiding complex implementation details and exposing only the essential features of an object. The goal of abstraction is to simplify the complexity of a system by hiding the underlying details and presenting a clear and concise interface to the users.\n",
    "\n",
    "An example of abstraction in OOP is a bank ATM machine. When a user interacts with an ATM machine, they don't need to know about the internal details of how the machine connects to the bank's database or how it verifies the user's identity. Instead, the user only interacts with the essential features of the ATM machine, such as entering a card, entering a pin, and withdrawing cash."
   ]
  },
  {
   "cell_type": "code",
   "execution_count": null,
   "id": "5642097e-3c21-45bc-a4cf-c1fcf3d75cde",
   "metadata": {},
   "outputs": [],
   "source": [
    "Q2. Differentiate between Abstraction and Encapsulation. Explain with an example."
   ]
  },
  {
   "cell_type": "code",
   "execution_count": null,
   "id": "02a0aa15-dd95-4693-8148-3daa9f6952b1",
   "metadata": {},
   "outputs": [],
   "source": [
    " abstraction focuses on hiding the complexity of a system by providing a simplified interface, while encapsulation focuses on protecting the internal data of an object by providing a controlled interface for accessing and modifying the data."
   ]
  },
  {
   "cell_type": "code",
   "execution_count": null,
   "id": "5b8a98c6-3359-4a4b-b5f9-c132d4aa951b",
   "metadata": {},
   "outputs": [],
   "source": [
    "Q3. What is abc module in python? Why is it used?"
   ]
  },
  {
   "cell_type": "code",
   "execution_count": null,
   "id": "f8a71df3-7512-4533-b4b0-1ce001d8270d",
   "metadata": {},
   "outputs": [],
   "source": [
    "The abc module in Python is the \"Abstract Base Classes\" module. It provides a way to define abstract classes in Python.\n",
    "benefit of abstract classes is that they can provide a way to define default implementations of methods that can be overridden by subclasses if needed. This can be useful in situations where you want to provide a default behavior for a class, but still allow subclasses to provide their own implementations if needed."
   ]
  },
  {
   "cell_type": "code",
   "execution_count": null,
   "id": "bd8da920-8a65-43f5-84fd-0201cabfd8c7",
   "metadata": {},
   "outputs": [],
   "source": [
    "Q4. How can we achieve data abstraction?"
   ]
  },
  {
   "cell_type": "code",
   "execution_count": null,
   "id": "c962525a-f3df-4282-bb4d-e39328dee260",
   "metadata": {},
   "outputs": [],
   "source": [
    "Data Abstraction in Python can be achieved through creating abstract classes and inheriting them later. "
   ]
  },
  {
   "cell_type": "code",
   "execution_count": null,
   "id": "fe969208-7dec-4d16-b50c-14fd8b278761",
   "metadata": {},
   "outputs": [],
   "source": [
    "Q5. Can we create an instance of an abstract class? Explain your answer."
   ]
  },
  {
   "cell_type": "code",
   "execution_count": null,
   "id": "0fe69896-bd16-42a4-ac59-b1081b51d457",
   "metadata": {},
   "outputs": [],
   "source": [
    "Abstract classes cannot be instantiated, but they can be subclassed. When an abstract class is subclassed, the subclass usually provides implementations for all of the abstract methods in its parent class. However, if it does not, then the subclass must also be declared abstract ."
   ]
  }
 ],
 "metadata": {
  "kernelspec": {
   "display_name": "Python 3 (ipykernel)",
   "language": "python",
   "name": "python3"
  },
  "language_info": {
   "codemirror_mode": {
    "name": "ipython",
    "version": 3
   },
   "file_extension": ".py",
   "mimetype": "text/x-python",
   "name": "python",
   "nbconvert_exporter": "python",
   "pygments_lexer": "ipython3",
   "version": "3.10.8"
  }
 },
 "nbformat": 4,
 "nbformat_minor": 5
}
