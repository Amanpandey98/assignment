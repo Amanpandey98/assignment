{
 "cells": [
  {
   "cell_type": "code",
   "execution_count": null,
   "id": "9100b760-c7b0-4f7b-b82e-02e3ce9b12b2",
   "metadata": {},
   "outputs": [],
   "source": [
    "Q1: What are the Probability Mass Function (PMF) and Probability Density Function (PDF)? Explain with\n",
    "an example."
   ]
  },
  {
   "cell_type": "code",
   "execution_count": null,
   "id": "d7bb4974-5b36-4682-9a6a-5d8b12411d69",
   "metadata": {},
   "outputs": [],
   "source": [
    "The Probability Mass Function (PMF) and Probability Density Function (PDF) are two fundamental concepts in probability theory that are used to describe the distribution of a random variable.\n",
    "The Probability Mass Function (PMF) is used to describe the probability distribution of a discrete random variable. It gives the probability that the random variable takes on a specific value. The PMF is defined as:\n",
    "P(X = x) = probability that the random variable X takes on the value x\n",
    "For example, consider the roll of a fair six-sided die.\n",
    "The Probability Density Function (PDF) is used to describe the probability distribution of a continuous random variable. It gives the probability that the random variable takes on a value within a certain range. The PDF is defined as:\n",
    "f(x) = the derivative of the cumulative distribution function (CDF) of X with respect to x\n",
    "For example, consider the height of adult males in the United States."
   ]
  },
  {
   "cell_type": "code",
   "execution_count": null,
   "id": "f8d10cdf-b884-4e7c-9a9d-cee810143045",
   "metadata": {},
   "outputs": [],
   "source": [
    "Q2: What is Cumulative Density Function (CDF)? Explain with an example. Why CDF is used?"
   ]
  },
  {
   "cell_type": "code",
   "execution_count": null,
   "id": "4e0cbb14-6bbe-4a00-89fe-cce7ca312dcc",
   "metadata": {},
   "outputs": [],
   "source": [
    "The Cumulative Density Function (CDF) is a function that gives the probability that a random variable X is less than or equal to a certain value x. It is used to describe the distribution of a random variable, and is defined as:\n",
    "\n",
    "F(x) = P(X <= x)\n",
    "\n",
    "For a discrete random variable, the CDF is the sum of the PMF up to the given value x. For a continuous random variable, the CDF is the integral of the PDF up to the given value x.\n",
    "\n",
    "The CDF is useful because it allows us to calculate probabilities for a range of values, rather than just for a specific value. Additionally, it provides a way to compare the distribution of different random variables.\n",
    "\n",
    "For example, consider the roll of two fair six-sided dice. Let X be the sum of the two dice. The PMF for X is:\n",
    "\n",
    "P(X = 2) = 1/36\n",
    "P(X = 3) = 2/36\n",
    "P(X = 4) = 3/36\n",
    "P(X = 5) = 4/36\n",
    "P(X = 6) = 5/36\n",
    "P(X = 7) = 6/36\n",
    "P(X = 8) = 5/36\n",
    "P(X = 9) = 4/36\n",
    "P(X = 10) = 3/36\n",
    "P(X = 11) = 2/36\n",
    "P(X = 12) = 1/36\n",
    "\n",
    "The CDF for X is:\n",
    "\n",
    "F(x) = P(X <= x) = sum of the PMF for all values less than or equal to x\n",
    "\n",
    "For example, if we want to find the probability that the sum of the dice is less than or equal to 6, we would calculate:\n",
    "\n",
    "F(6) = P(X <= 6) = P(X = 2) + P(X = 3) + P(X = 4) + P(X = 5) + P(X = 6)\n",
    "\n",
    "F(6) = 1/36 + 2/36 + 3/36 + 4/36 + 5/36 = 15/36 = 5/12\n",
    "\n",
    "So the probability that the sum of the dice is less than or equal to 6 is 5/12.\n",
    "\n",
    "The CDF is also useful for calculating percentiles of a distribution. For example, the 50th percentile is the value of x for which F(x) = 0.5. This value is also known as the median of the distribution."
   ]
  },
  {
   "cell_type": "code",
   "execution_count": null,
   "id": "68b362fa-b02b-44cc-b38f-fd9643f66181",
   "metadata": {},
   "outputs": [],
   "source": [
    "Q3: What are some examples of situations where the normal distribution might be used as a model?\n",
    "Explain how the parameters of the normal distribution relate to the shape of the distribution."
   ]
  },
  {
   "cell_type": "code",
   "execution_count": null,
   "id": "7a05a8e2-d5e0-46ab-bf78-705d15c519a3",
   "metadata": {},
   "outputs": [],
   "source": [
    "The normal distribution, also known as the Gaussian distribution, is a probability distribution that is widely used to model many natural phenomena in science, engineering, and social sciences. It is a bell-shaped curve that is symmetric about the mean, and its shape is determined by two parameters: the mean (μ) and the standard deviation (σ).\n",
    "some examples of situations where the normal distribution might be used as a model:\n",
    "1.Heights of a population.\n",
    "2.Measurement errors.\n",
    "The parameters of the normal distribution, namely the mean and standard deviation, relate to the shape of the distribution as follows:\n",
    "\n",
    "The mean determines the location of the peak of the distribution. The distribution is symmetric about the mean, meaning that half of the data points are on each side of the mean.\n",
    "\n",
    "The standard deviation determines the spread of the distribution. The greater the standard deviation, the more spread out the data points are from the mean, resulting in a flatter and wider distribution. Conversely, a smaller standard deviation results in a narrower and more peaked distribution.\n",
    "\n",
    "The variance, which is the square of the standard deviation, measures the amount of variation or dispersion of the data around the mean. A larger variance indicates a greater amount of variation, while a smaller variance indicates less variation."
   ]
  },
  {
   "cell_type": "code",
   "execution_count": null,
   "id": "f4b7fdf0-575f-4a55-955f-3e7b265545a6",
   "metadata": {},
   "outputs": [],
   "source": [
    "Q4: Explain the importance of Normal Distribution. Give a few real-life examples of Normal\n",
    "Distribution."
   ]
  },
  {
   "cell_type": "code",
   "execution_count": null,
   "id": "fa6c2dd9-86bd-401b-b213-9a3f2fea7908",
   "metadata": {},
   "outputs": [],
   "source": [
    "The normal distribution is important because it is a ubiquitous model that describes many real-world phenomena, from physical measurements to human behavior. Here are a few reasons why the normal distribution is important:\n",
    "\n",
    "Central Limit Theorem: The normal distribution is central to the Central Limit Theorem (CLT), which is a fundamental concept in statistics. The CLT states that the sum or mean of a large number of independent and identically distributed random variables will be approximately normally distributed, regardless of the distribution of the individual variables. This makes the normal distribution a useful tool for modeling and analyzing complex data.\n",
    "\n",
    "Easy to Use: The normal distribution is mathematically simple and easy to use. It is well understood and has many convenient mathematical properties, which make it a useful tool for statistical analysis.\n",
    "\n",
    "Useful in Hypothesis Testing: The normal distribution is widely used in hypothesis testing, where it is used to calculate p-values and confidence intervals. This is because many statistical tests are based on the assumption that the data follows a normal distribution.\n",
    "\n",
    "some real-life examples of normal distribution:\n",
    "Heights of a Population: The height of human populations is often modeled using a normal distribution. In this case, the mean corresponds to the average height of the population, and the standard deviation measures the spread of the distribution.\n",
    "IQ Scores: Intelligence Quotient (IQ) scores follow a normal distribution, with a mean of 100 and a standard deviation of 15. This distribution is used to determine the percentiles of IQ scores and to identify gifted individuals."
   ]
  },
  {
   "cell_type": "code",
   "execution_count": null,
   "id": "f089a654-9740-4948-ab13-8ecd5acd2555",
   "metadata": {},
   "outputs": [],
   "source": [
    "Q5: What is Bernaulli Distribution? Give an Example. What is the difference between Bernoulli\n",
    "Distribution and Binomial Distribution?"
   ]
  },
  {
   "cell_type": "code",
   "execution_count": null,
   "id": "880d363c-896e-40ab-b2b2-04420caad4ab",
   "metadata": {},
   "outputs": [],
   "source": [
    "The Bernoulli distribution is a discrete probability distribution that describes the probability of a single binary event that can have two possible outcomes: success or failure. It is named after the Swiss mathematician Jacob Bernoulli, who used it to study the probability of coin tosses.\n",
    "\n",
    "In the Bernoulli distribution, the probability of success is denoted by p, and the probability of failure is denoted by q=1-p. The distribution takes the value of 1 with probability p and the value of 0 with probability q. The probability mass function (PMF) of the Bernoulli distribution is given by:\n",
    "\n",
    "P(X = x) = p^x * (1-p)^(1-x) where x = 0 or 1\n",
    "\n",
    "An example of the Bernoulli distribution is the probability of flipping a fair coin and getting heads. If we define success as getting heads, then the probability of success (p) is 0.5, and the probability of failure (q) is also 0.5. The Bernoulli distribution in this case is:\n",
    "\n",
    "P(X = 1) = 0.5 (for heads)\n",
    "P(X = 0) = 0.5 (for tails)\n",
    "\n",
    "The Bernoulli distribution is a special case of the binomial distribution, which describes the probability of obtaining a certain number of successes in a fixed number of independent Bernoulli trials. The main difference between the Bernoulli distribution and the binomial distribution is that the Bernoulli distribution describes a single trial, while the binomial distribution describes the number of successes in multiple, independent trials.\n",
    "\n",
    "The binomial distribution has two parameters: n and p. The parameter n represents the number of independent trials, and p represents the probability of success in each trial. The probability mass function of the binomial distribution is given by:\n",
    "\n",
    "P(X = k) = (n choose k) * p^k * (1-p)^(n-k) where k = 0, 1, 2, ..., n"
   ]
  },
  {
   "cell_type": "code",
   "execution_count": null,
   "id": "adb49b6d-8452-4c1f-a37d-5305e8c86b71",
   "metadata": {},
   "outputs": [],
   "source": [
    "Q6. Consider a dataset with a mean of 50 and a standard deviation of 10. If we assume that the dataset\n",
    "is normally distributed, what is the probability that a randomly selected observation will be greater\n",
    "than 60? Use the appropriate formula and show your calculations."
   ]
  },
  {
   "cell_type": "code",
   "execution_count": null,
   "id": "a4d4a925-3e14-4796-b9a0-dc59a71371ef",
   "metadata": {},
   "outputs": [],
   "source": [
    "Given that the dataset is normally distributed with a mean (μ) of 50 and a standard deviation (σ) of 10, we need to find the probability that a randomly selected observation will be greater than 60.\n",
    "\n",
    "We can solve this problem by standardizing the variable using the z-score formula and then using a standard normal distribution table or calculator. The z-score formula is:\n",
    "\n",
    "z = (x - μ) / σ\n",
    "\n",
    "where x is the value we want to find the probability for. In this case, x = 60.\n",
    "\n",
    "Substituting the values, we get:\n",
    "\n",
    "z = (60 - 50) / 10 = 1\n",
    "\n",
    "Now, we can use a standard normal distribution table or calculator to find the probability of a z-score being greater than 1. The table or calculator gives us a probability of approximately 0.1587.\n",
    "\n",
    "Therefore, the probability that a randomly selected observation from the given dataset will be greater than 60 is approximately 0.1587 or 15.87%."
   ]
  },
  {
   "cell_type": "code",
   "execution_count": null,
   "id": "5c1e9c89-e583-44e6-a43f-acc7731f0bb5",
   "metadata": {},
   "outputs": [],
   "source": [
    "Q7: Explain uniform Distribution with an example."
   ]
  },
  {
   "cell_type": "code",
   "execution_count": null,
   "id": "e17e5781-0886-4b65-bb85-9660668d3164",
   "metadata": {},
   "outputs": [],
   "source": [
    "The uniform distribution is a continuous probability distribution that describes the probability of a random variable taking any value between a given range with equal probability. In other words, the probability density function (PDF) of a uniform distribution is constant within a certain interval and zero outside that interval.\n",
    "\n",
    "The PDF of a uniform distribution is given by:\n",
    "\n",
    "f(x) = 1/(b-a) for a <= x <= b\n",
    "0 otherwise\n",
    "\n",
    "where a is the lower limit of the distribution, b is the upper limit of the distribution, and (b-a) is the width of the interval.\n",
    "\n",
    "An example of a uniform distribution is the probability of getting a number between 1 and 6 when rolling a fair six-sided die. In this case, the lower limit (a) is 1, and the upper limit (b) is 6. Since each side of the die has an equal probability of landing face up, the probability of rolling any particular number between 1 and 6 is the same. Therefore, the PDF of the uniform distribution in this case is:\n",
    "\n",
    "f(x) = 1/6 for 1 <= x <= 6\n",
    "0 otherwise\n",
    "\n",
    "This means that the probability of rolling any number between 1 and 6 is 1/6. The uniform distribution is commonly used in probability theory and statistics to model situations where every value within a given range is equally likely to occur, such as the roll of a fair die or the selection of a random number between two values."
   ]
  },
  {
   "cell_type": "code",
   "execution_count": null,
   "id": "1273af22-fa7c-45d2-b1d9-0f3dc67a9fd1",
   "metadata": {},
   "outputs": [],
   "source": [
    "Q8: What is the z score? State the importance of the z score."
   ]
  },
  {
   "cell_type": "code",
   "execution_count": null,
   "id": "a34b8a07-af1c-4a39-be20-14b4cacfc526",
   "metadata": {},
   "outputs": [],
   "source": [
    "The z-score, also known as the standard score, is a measure of how many standard deviations a given observation is from the mean of a population. It is calculated as:\n",
    "\n",
    "z = (x - μ) / σ\n",
    "\n",
    "where x is the value of the observation, μ is the mean of the population, and σ is the standard deviation of the population.\n",
    "The importance of the z-score is that it can be used to calculate probabilities associated with a normal distribution, which is a common assumption in many statistical tests and models. For example, we can use the z-score to find the probability of an observation being within a certain range of values, or to compare the distribution of one variable to another using a standard normal distribution."
   ]
  },
  {
   "cell_type": "code",
   "execution_count": null,
   "id": "d765d5b9-afb7-49fc-9789-dc3a9cd492e9",
   "metadata": {},
   "outputs": [],
   "source": [
    "Q9: What is Central Limit Theorem? State the significance of the Central Limit Theorem."
   ]
  },
  {
   "cell_type": "code",
   "execution_count": null,
   "id": "3b867e50-c2cc-4e0a-b6a9-c9a5b8d7a228",
   "metadata": {},
   "outputs": [],
   "source": [
    "The Central Limit Theorem (CLT) is a fundamental concept in statistics that describes the behavior of sample means or sample sums of a large number of independent and identically distributed random variables. It states that as the sample size increases, the distribution of the sample means or sums approaches a normal distribution, regardless of the shape of the underlying population distribution.\n",
    "The significance of the Central Limit Theorem is that it allows us to make inferences about a population from a sample of data, even when the population distribution is unknown or non-normal. This is because the sampling distribution of the mean becomes approximately normal as the sample size increases, regardless of the population distribution."
   ]
  },
  {
   "cell_type": "code",
   "execution_count": null,
   "id": "bc9328f0-e316-441b-b22c-51b388e0e01f",
   "metadata": {},
   "outputs": [],
   "source": [
    "Q10: State the assumptions of the Central Limit Theorem."
   ]
  },
  {
   "cell_type": "code",
   "execution_count": null,
   "id": "72a48d16-0048-4793-8061-7402e0d97b42",
   "metadata": {},
   "outputs": [],
   "source": [
    "The Central Limit Theorem (CLT) has certain assumptions that must be met in order for it to apply:\n",
    "\n",
    "1.Random Sampling: The samples must be selected randomly from the population, without any bias.\n",
    "\n",
    "2.Independent Observations: The samples must be independent of each other, meaning that the value of one observation should not affect the value of another.\n",
    "\n",
    "3.Sample Size: The sample size must be sufficiently large. While there is no fixed rule for what constitutes a \"large\" sample, as a general guideline, a sample size of at least 30 is often considered adequate for the CLT to apply.\n",
    "\n",
    "4.Finite Variance: The population from which the samples are drawn must have a finite variance. If the population has an infinite variance, the CLT may not hold.\n",
    "\n",
    "5.Identically Distributed: The samples must be identically distributed, meaning that they must come from the same population and have the same mean and variance."
   ]
  },
  {
   "cell_type": "code",
   "execution_count": null,
   "id": "5f21fa48-adbe-4565-bb45-af9d37ccdeb4",
   "metadata": {},
   "outputs": [],
   "source": []
  }
 ],
 "metadata": {
  "kernelspec": {
   "display_name": "Python 3 (ipykernel)",
   "language": "python",
   "name": "python3"
  },
  "language_info": {
   "codemirror_mode": {
    "name": "ipython",
    "version": 3
   },
   "file_extension": ".py",
   "mimetype": "text/x-python",
   "name": "python",
   "nbconvert_exporter": "python",
   "pygments_lexer": "ipython3",
   "version": "3.10.8"
  }
 },
 "nbformat": 4,
 "nbformat_minor": 5
}
