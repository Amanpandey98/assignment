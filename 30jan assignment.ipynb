{
 "cells": [
  {
   "cell_type": "code",
   "execution_count": null,
   "id": "aa290e0e-7105-4667-ae8b-f51a39c6955f",
   "metadata": {},
   "outputs": [],
   "source": [
    "1. Write a program to accept percentage from the user and display the grade according to the following \n",
    "criteria: \n",
    "Marks \n",
    "Grade \n",
    ">90 \n",
    "A \n",
    ">80 and <=90 \n",
    "B \n",
    ">=60 and <=80 \n",
    "C \n",
    "below 60 \n",
    "D \n"
   ]
  },
  {
   "cell_type": "code",
   "execution_count": 7,
   "id": "001c717d-5088-4f96-8a5c-65135f496f2a",
   "metadata": {},
   "outputs": [
    {
     "name": "stdin",
     "output_type": "stream",
     "text": [
      "enter marks 52\n"
     ]
    },
    {
     "name": "stdout",
     "output_type": "stream",
     "text": [
      "D grade\n"
     ]
    }
   ],
   "source": [
    "\n",
    "marks=int(input(\"enter marks\"))\n",
    "if marks>90:\n",
    "    print(\"A grade\")\n",
    "elif marks>80 and marks<=90:\n",
    "    print(\"B grade\")\n",
    "elif marks>=60 and marks<=80:\n",
    "    print(\"C grade\")\n",
    "else:\n",
    "    print(\"D grade\")"
   ]
  },
  {
   "cell_type": "code",
   "execution_count": null,
   "id": "4d73f407-c2c2-4079-9b42-2e9a96ea80b6",
   "metadata": {},
   "outputs": [],
   "source": [
    "2. Write a program to accept the cost price of a bike and display the road tax to be paid according to the \n",
    "following criteria: \n",
    "Tax     Cost Price(in Rs) \n",
    "15%      >100000 \n",
    "10%      >50000 and <= 100000 \n",
    "5%       <= 50000 \n",
    "\n",
    "\n"
   ]
  },
  {
   "cell_type": "code",
   "execution_count": 9,
   "id": "8d905e3f-8bbd-4bb3-9fc0-b22a6eb0d4c8",
   "metadata": {},
   "outputs": [
    {
     "name": "stdin",
     "output_type": "stream",
     "text": [
      "cost price of bike 45000\n"
     ]
    },
    {
     "name": "stdout",
     "output_type": "stream",
     "text": [
      "5% road tax to be paid\n"
     ]
    }
   ],
   "source": [
    "costprice=int(input(\"cost price of bike\"))\n",
    "if costprice>100000:\n",
    "    print(\"15% road tax to be paid\")\n",
    "elif costprice>50000 and costprice<=100000:\n",
    "    print(\"10% road tax to be paid \")\n",
    "else:\n",
    "    print(\"5% road tax to be paid\")"
   ]
  },
  {
   "cell_type": "code",
   "execution_count": null,
   "id": "ce18bbbc-88f2-458b-921b-c1d353fcdc01",
   "metadata": {},
   "outputs": [],
   "source": [
    "3. Accept any city from the user and display monuments of that city. \n",
    "City     Monument \n",
    "Delhi    red fort\n",
    "Agra     Taj Mahal \n",
    "Jaipur   jal mahal\n",
    "\n"
   ]
  },
  {
   "cell_type": "code",
   "execution_count": 24,
   "id": "67ac5595-655a-43b6-a873-a8640e20fb54",
   "metadata": {},
   "outputs": [
    {
     "name": "stdin",
     "output_type": "stream",
     "text": [
      " enter city name jaipur\n"
     ]
    },
    {
     "name": "stdout",
     "output_type": "stream",
     "text": [
      "jal mahal\n"
     ]
    }
   ],
   "source": [
    "city=input(\" enter city name\")\n",
    "if city=='delhi':\n",
    "    print(\"red fort\")\n",
    "elif city=='agra':\n",
    "    print(\"taj mahal\")\n",
    "elif city=='jaipur':\n",
    "    print(\"jal mahal\")"
   ]
  },
  {
   "cell_type": "code",
   "execution_count": null,
   "id": "4d989606-301f-4131-8b4b-4043513a7c44",
   "metadata": {},
   "outputs": [],
   "source": [
    "4. Check how many times a given number can be divided by 3 before it is less than or equal to 10.  \n",
    " i am unable to do this question"
   ]
  },
  {
   "cell_type": "code",
   "execution_count": null,
   "id": "cde12161-7471-45d5-9cea-f5345c24dbbf",
   "metadata": {},
   "outputs": [],
   "source": [
    "5. Why and When to Use while Loop in Python give a detailed description with example \n",
    "\n",
    "ans=A \"While\" Loop is used to repeat a specific block of code an unknown number of times,until a condition is met.\n",
    "For example, if we want to ask a user for a number between 1 and 10, we do not know how many times the user may enter a larger number, so we keep asking \"while the number is not between 1 and 10\".\n",
    "    "
   ]
  },
  {
   "cell_type": "code",
   "execution_count": null,
   "id": "0eaba573-c199-434e-bacc-21019cc28e75",
   "metadata": {},
   "outputs": [],
   "source": [
    "6. Use nested while loop to print 3 different pattern. \n"
   ]
  },
  {
   "cell_type": "code",
   "execution_count": 8,
   "id": "8fc8e0ef-1ac3-4af8-9836-4e88db954644",
   "metadata": {},
   "outputs": [
    {
     "name": "stdout",
     "output_type": "stream",
     "text": [
      "1 \n",
      "1 2 \n",
      "1 2 3 \n",
      "1 2 3 4 \n",
      "1 2 3 4 5 \n"
     ]
    }
   ],
   "source": [
    "i=1\n",
    "while i<=5:\n",
    "    j=1\n",
    "    while j<=i:\n",
    "        print(j,end=\" \")\n",
    "        j=j+1\n",
    "    print(\"\")\n",
    "    i=i+1"
   ]
  },
  {
   "cell_type": "code",
   "execution_count": 10,
   "id": "e1063bee-3e74-4cc6-8dca-1c09deb5d785",
   "metadata": {},
   "outputs": [
    {
     "name": "stdout",
     "output_type": "stream",
     "text": [
      "1 2 3 4 5 6 7 8 9 \n",
      "1 2 3 4 5 6 7 8 9 \n",
      "1 2 3 4 5 6 7 8 9 \n",
      "1 2 3 4 5 6 7 8 9 \n",
      "1 2 3 4 5 6 7 8 9 \n"
     ]
    }
   ],
   "source": [
    "i=1\n",
    "while i<=5:\n",
    "    j=1\n",
    "    while j<=n-1:\n",
    "        print(j,end=\" \")\n",
    "        j=j+1\n",
    "    print(\"\")\n",
    "    i=i+1"
   ]
  },
  {
   "cell_type": "code",
   "execution_count": null,
   "id": "ab9f1e0a-c319-42bc-8b47-b3ab9d6f95f8",
   "metadata": {},
   "outputs": [],
   "source": [
    "n=int(input(\"enter number\"))\n",
    "i=1\n",
    "while i<n:\n",
    "    j=1\n",
    "    while j<n-i:\n",
    "        print()\n"
   ]
  },
  {
   "cell_type": "code",
   "execution_count": null,
   "id": "2adbf8fb-45b1-4e5b-a5c9-a541ec7c0a32",
   "metadata": {},
   "outputs": [],
   "source": []
  },
  {
   "cell_type": "code",
   "execution_count": null,
   "id": "c721311c-f129-4e0f-9f1f-2631ed74930e",
   "metadata": {},
   "outputs": [],
   "source": [
    "7. Reverse a while loop to display numbers from 10 to 1. \n"
   ]
  },
  {
   "cell_type": "code",
   "execution_count": null,
   "id": "0de09677-0bae-440a-8515-5becec7e0e40",
   "metadata": {},
   "outputs": [],
   "source": [
    "n=int(input(\"enter number\"))\n",
    "i=1\n",
    "while i<=n:\n",
    "    print(n-i)\n",
    "    i=i+1"
   ]
  },
  {
   "cell_type": "code",
   "execution_count": null,
   "id": "93d45b86-b087-4ed5-8613-14a118126392",
   "metadata": {},
   "outputs": [],
   "source": []
  },
  {
   "cell_type": "code",
   "execution_count": null,
   "id": "208b8398-7884-49d6-8acb-c10102da7708",
   "metadata": {},
   "outputs": [],
   "source": []
  },
  {
   "cell_type": "code",
   "execution_count": null,
   "id": "f65b26d7-72c6-43ce-92a9-e713c3a3c3c6",
   "metadata": {},
   "outputs": [],
   "source": []
  }
 ],
 "metadata": {
  "kernelspec": {
   "display_name": "Python 3 (ipykernel)",
   "language": "python",
   "name": "python3"
  },
  "language_info": {
   "codemirror_mode": {
    "name": "ipython",
    "version": 3
   },
   "file_extension": ".py",
   "mimetype": "text/x-python",
   "name": "python",
   "nbconvert_exporter": "python",
   "pygments_lexer": "ipython3",
   "version": "3.10.8"
  }
 },
 "nbformat": 4,
 "nbformat_minor": 5
}
