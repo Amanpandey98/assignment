{
 "cells": [
  {
   "cell_type": "code",
   "execution_count": null,
   "id": "82d94316-75d4-4c84-9ab8-a48045a367ff",
   "metadata": {},
   "outputs": [],
   "source": [
    "Q1. List any five functions of the pandas library with execution."
   ]
  },
  {
   "cell_type": "code",
   "execution_count": null,
   "id": "d9d425e7-306a-4515-93f7-a84293c00e81",
   "metadata": {},
   "outputs": [],
   "source": [
    "1.read_csv(): This function is used to read a CSV file and create a pandas DataFrame object.\n",
    "import pandas as pd\n",
    "df = pd.read_csv('data.csv')\n",
    "print(df.head())\n",
    "\n",
    "2.fillna(): This function is used to replace NaN (Not a Number) values in a pandas DataFrame with a specified value.\n",
    "import pandas as pd\n",
    "import numpy as np\n",
    "df = pd.DataFrame({'A': [1, 2, np.nan, 4],\n",
    "                   'B': [5, np.nan, 7, 8],\n",
    "                   'C': [9, 10, 11, 12]})\n",
    "                   \n",
    "df.fillna(0, inplace=True)\n",
    "print(df)\n",
    "\n",
    "3.groupby(): This function is used to group a pandas DataFrame by one or more columns and perform operations on the resulting groups.\n",
    "import pandas as pd\n",
    "df = pd.DataFrame({'Animal': ['Dog', 'Cat', 'Dog', 'Cat', 'Dog'],\n",
    "                   'Weight': [30, 20, 40, 25, 35]})\n",
    "\n",
    "grouped_df = df.groupby('Animal')\n",
    "    print(grouped_df.mean())\n",
    "    \n",
    "4.merge(): This function is used to merge two or more pandas DataFrames based on a common column.\n",
    "import pandas as pd\n",
    "df1 = pd.DataFrame({'A': ['A0', 'A1', 'A2', 'A3'],\n",
    "                    'B': ['B0', 'B1', 'B2', 'B3']})\n",
    "                    \n",
    "df2 = pd.DataFrame({'A': ['A0', 'A1', 'A2', 'A3'],\n",
    "                    'C': ['C0', 'C1', 'C2', 'C3']})\n",
    "                    \n",
    "merged_df = pd.merge(df1, df2, on='A')\n",
    "print(merged_df)\n",
    "\n",
    "5.pivot_table(): This function is used to create a pivot table from a pandas DataFrame.\n",
    "import pandas as pd\n",
    "\n",
    "df = pd.DataFrame({'Animal': ['Dog', 'Cat', 'Dog', 'Cat', 'Dog'],\n",
    "                   'Weight': [30, 20, 40, 25, 35],\n",
    "                   'Color': ['Brown', 'Black', 'Brown', 'Gray', 'Brown']})\n",
    "                   \n",
    "pivot_table = pd.pivot_table(df, values='Weight', index='Animal', columns='Color', aggfunc='mean')\n",
    "print(pivot_table)"
   ]
  },
  {
   "cell_type": "code",
   "execution_count": null,
   "id": "ef8a56a5-3336-4396-89ca-15b9a3d6b0e9",
   "metadata": {},
   "outputs": [],
   "source": [
    "Q2. Given a Pandas DataFrame df with columns 'A', 'B', and 'C', write a Python function to re-index the\n",
    "DataFrame with a new index that starts from 1 and increments by 2 for each row."
   ]
  },
  {
   "cell_type": "code",
   "execution_count": 17,
   "id": "f5a248db-bef9-4ac2-b5a6-fc4bd44e9d99",
   "metadata": {},
   "outputs": [
    {
     "name": "stdout",
     "output_type": "stream",
     "text": [
      "   A  B  C\n",
      "1  1  4  7\n",
      "3  2  5  8\n",
      "5  3  6  9\n"
     ]
    }
   ],
   "source": [
    "import pandas as pd\n",
    "\n",
    "def reindex_dataframe(df):\n",
    "    new_index = pd.RangeIndex(start=1, stop=2*len(df), step=2)\n",
    "    df.index = new_index\n",
    "    return df\n",
    "df = pd.DataFrame({'A': [1, 2, 3], 'B': [4, 5, 6], 'C': [7, 8, 9]})\n",
    "\n",
    "df_reindexed = reindex_dataframe(df)\n",
    "\n",
    "print(df_reindexed)\n"
   ]
  },
  {
   "cell_type": "code",
   "execution_count": null,
   "id": "2d7636ce-eaa9-4f6e-a242-03d87d8dec93",
   "metadata": {},
   "outputs": [],
   "source": [
    "Q3. You have a Pandas DataFrame df with a column named 'Values'. Write a Python function that\n",
    "iterates over the DataFrame and calculates the sum of the first three values in the 'Values' column. The\n",
    "function should print the sum to the console.\n",
    "For example, if the 'Values' column of df contains the values [10, 20, 30, 40, 50], your function should\n",
    "calculate and print the sum of the first three values, which is 60."
   ]
  },
  {
   "cell_type": "code",
   "execution_count": null,
   "id": "8f48f0f7-905b-420a-90f1-30e0bd356d03",
   "metadata": {},
   "outputs": [],
   "source": [
    "import pandas as pd\n",
    "def sum_first_three(df):\n",
    "    total = 0\n",
    "    for i, value in enumerate(df['Values']):\n",
    "        if i < 3:\n",
    "            total += value\n",
    "        else:\n",
    "            break\n",
    "    print(f\"The sum of the first three values is: {total}\")\n"
   ]
  },
  {
   "cell_type": "code",
   "execution_count": 33,
   "id": "9c5f4e91-c204-409d-93d1-4685b82a4c10",
   "metadata": {},
   "outputs": [],
   "source": [
    "Q4. Given a Pandas DataFrame df with a column 'Text', write a Python function to create a new column\n",
    "'Word_Count' that contains the number of words in each row of the 'Text' column."
   ]
  },
  {
   "cell_type": "code",
   "execution_count": 48,
   "id": "25a0f9fc-e7f1-49f0-871a-39355e5efd6a",
   "metadata": {},
   "outputs": [
    {
     "name": "stdout",
     "output_type": "stream",
     "text": [
      "                 Text  Word_Count\n",
      "0         Hello world           2\n",
      "1  This is a sentence           4\n",
      "2     Python is great           3\n"
     ]
    }
   ],
   "source": [
    "import pandas as pd\n",
    "\n",
    "def add_word_count(df):\n",
    "    df['Word_Count'] = df['Text'].apply(lambda x: len(str(x).split()))\n",
    "    return df\n",
    "df = pd.DataFrame({'Text': ['Hello world', 'This is a sentence', 'Python is great']})\n",
    "df = add_word_count(df)\n",
    "print(df)\n"
   ]
  },
  {
   "cell_type": "code",
   "execution_count": null,
   "id": "93529846-2319-444a-a042-ae8a85188c2e",
   "metadata": {},
   "outputs": [],
   "source": [
    "DataFrame.size() and DataFrame.shape() are both methods in Pandas that provide information about the dimensions of a DataFrame, but they have different meanings:\n",
    "\n",
    "1.DataFrame.size() returns the total number of elements in a DataFrame, which is equal to the product of the number of rows and columns in the DataFrame.\n",
    "2.DataFrame.shape() returns a tuple containing the number of rows and columns in the DataFrame."
   ]
  },
  {
   "cell_type": "code",
   "execution_count": null,
   "id": "b675039c-a062-4660-b9a2-0960675d16d4",
   "metadata": {},
   "outputs": [],
   "source": [
    "Q6. Which function of pandas do we use to read an excel file?\n",
    "   read_csv()function is used in pandas to read an excel file"
   ]
  },
  {
   "cell_type": "code",
   "execution_count": null,
   "id": "569cea9f-1748-4f6d-89e4-7dea786f880d",
   "metadata": {},
   "outputs": [],
   "source": [
    "Q7. You have a Pandas DataFrame df that contains a column named 'Email' that contains email\n",
    "addresses in the format 'username@domain.com'. Write a Python function that creates a new column\n",
    "'Username' in df that contains only the username part of each email address."
   ]
  },
  {
   "cell_type": "code",
   "execution_count": 60,
   "id": "78e9583f-350a-4abc-b382-b19a3dcefee9",
   "metadata": {},
   "outputs": [
    {
     "name": "stdout",
     "output_type": "stream",
     "text": [
      "               Email Username\n",
      "0  user1@example.com    user1\n",
      "1  user2@example.com    user2\n"
     ]
    }
   ],
   "source": [
    "import pandas as pd\n",
    "\n",
    "def extract_username(df):\n",
    "    df['Username'] = df['Email'].apply(lambda x: x.split('@')[0])\n",
    "    return df\n",
    "df = pd.DataFrame({'Email': ['user1@example.com', 'user2@example.com']})\n",
    "df = extract_username(df)"
   ]
  },
  {
   "cell_type": "code",
   "execution_count": null,
   "id": "e907d096-019a-4cfc-9b88-4a0df6dada33",
   "metadata": {},
   "outputs": [],
   "source": [
    "Q8. You have a Pandas DataFrame df with columns 'A', 'B', and 'C'. Write a Python function that selects\n",
    "all rows where the value in column 'A' is greater than 5 and the value in column 'B' is less than 10. The\n",
    "function should return a new DataFrame that contains only the selected rows."
   ]
  },
  {
   "cell_type": "code",
   "execution_count": 61,
   "id": "fafd7cf2-4eba-476c-93f8-c42c97cca1c7",
   "metadata": {},
   "outputs": [
    {
     "name": "stdout",
     "output_type": "stream",
     "text": [
      "   A  B  C\n",
      "1  8  2  7\n",
      "2  6  9  4\n",
      "4  9  1  2\n"
     ]
    }
   ],
   "source": [
    "import pandas as pd\n",
    "\n",
    "def select_rows(df):\n",
    "    selected_rows = df[(df['A'] > 5) & (df['B'] < 10)]\n",
    "    return selected_rows\n",
    "df = pd.DataFrame({'A': [3, 8, 6, 2, 9], 'B': [5, 2, 9, 3, 1], 'C': [1, 7, 4, 5, 2]})\n",
    "selected_rows = select_rows(df)\n",
    "print(selected_rows)\n"
   ]
  },
  {
   "cell_type": "code",
   "execution_count": null,
   "id": "accb61e7-327c-434a-b228-2cad98df0778",
   "metadata": {},
   "outputs": [],
   "source": [
    "Q9. Given a Pandas DataFrame df with a column 'Values', write a Python function to calculate the mean,\n",
    "median, and standard deviation of the values in the 'Values' column."
   ]
  },
  {
   "cell_type": "code",
   "execution_count": 74,
   "id": "2d71fdd4-1f06-4af6-b4a4-a23636327de8",
   "metadata": {},
   "outputs": [
    {
     "name": "stdout",
     "output_type": "stream",
     "text": [
      "Mean: Values    30.0\n",
      "dtype: float64\n",
      "Median: Values    30.0\n",
      "dtype: float64\n",
      "Standard Deviation: Values    15.811388\n",
      "dtype: float64\n"
     ]
    }
   ],
   "source": [
    "df = pd.DataFrame({'Values': [10, 20, 30, 40, 50]})\n",
    "print('Mean:', df.mean())\n",
    "print('Median:', df.median())\n",
    "print('Standard Deviation:', df.std())\n"
   ]
  },
  {
   "cell_type": "code",
   "execution_count": null,
   "id": "c64e006b-4086-4d24-85df-6bf958d361bc",
   "metadata": {},
   "outputs": [],
   "source": [
    "Q10. Given a Pandas DataFrame df with a column 'Sales' and a column 'Date', write a Python function to\n",
    "create a new column 'MovingAverage' that contains the moving average of the sales for the past 7 days\n",
    "for each row in the DataFrame. The moving average should be calculated using a window of size 7 and\n",
    "should include the current day."
   ]
  },
  {
   "cell_type": "code",
   "execution_count": 75,
   "id": "01bd4adf-a49e-46c5-908e-7418b192c0f9",
   "metadata": {},
   "outputs": [
    {
     "name": "stdout",
     "output_type": "stream",
     "text": [
      "          Date  Sales  MovingAverage\n",
      "0   2022-01-01     10           10.0\n",
      "1   2022-01-02     20           15.0\n",
      "2   2022-01-03     30           20.0\n",
      "3   2022-01-04     40           25.0\n",
      "4   2022-01-05     50           30.0\n",
      "5   2022-01-06     60           35.0\n",
      "6   2022-01-07     70           40.0\n",
      "7   2022-01-08     80           50.0\n",
      "8   2022-01-09     90           60.0\n",
      "9   2022-01-10    100           70.0\n",
      "10  2022-01-11    110           80.0\n",
      "11  2022-01-12    120           90.0\n",
      "12  2022-01-13    130          100.0\n",
      "13  2022-01-14    140          110.0\n",
      "14  2022-01-15    150          120.0\n",
      "15  2022-01-16    160          130.0\n"
     ]
    }
   ],
   "source": [
    "import pandas as pd\n",
    "\n",
    "def add_moving_average(df):\n",
    "    # Sort DataFrame by date\n",
    "    df = df.sort_values(by='Date')\n",
    "\n",
    "    # Create a new column 'MovingAverage'\n",
    "    df['MovingAverage'] = df['Sales'].rolling(window=7, min_periods=1).mean()\n",
    "\n",
    "    return df\n",
    "\n",
    "df = pd.DataFrame({'Date': ['2022-01-01', '2022-01-02', '2022-01-03', '2022-01-04', '2022-01-05', '2022-01-06', '2022-01-07', '2022-01-08', '2022-01-09', '2022-01-10', '2022-01-11', '2022-01-12', '2022-01-13', '2022-01-14', '2022-01-15', '2022-01-16'], 'Sales': [10, 20, 30, 40, 50, 60, 70, 80, 90, 100, 110, 120, 130, 140, 150, 160]})\n",
    "df = add_moving_average(df)\n",
    "print(df)\n"
   ]
  },
  {
   "cell_type": "code",
   "execution_count": 2,
   "id": "d286d3e2-c1de-4754-9981-764ba66368b6",
   "metadata": {},
   "outputs": [
    {
     "name": "stdout",
     "output_type": "stream",
     "text": [
      "         Date    Weekday\n",
      "0  2023-01-01     Sunday\n",
      "1  2023-01-02     Monday\n",
      "2  2023-01-03    Tuesday\n",
      "3  2023-01-04  Wednesday\n",
      "4  2023-01-05   Thursday\n"
     ]
    }
   ],
   "source": [
    "import pandas as pd\n",
    "\n",
    "def add_weekday_column(df):\n",
    "    df['Weekday'] = pd.to_datetime(df['Date']).dt.day_name()\n",
    "    return df\n",
    "\n",
    "\n",
    "df = pd.DataFrame({'Date': ['2023-01-01', '2023-01-02', '2023-01-03', '2023-01-04', '2023-01-05']})\n",
    "df = add_weekday_column(df)\n",
    "print(df)\n"
   ]
  },
  {
   "cell_type": "code",
   "execution_count": null,
   "id": "a1e40fc8-a23e-4f0b-b0bf-351dd68d391b",
   "metadata": {},
   "outputs": [],
   "source": [
    "Q12. Given a Pandas DataFrame df with a column 'Date' that contains timestamps, write a Python\n",
    "function to select all rows where the date is between '2023-01-01' and '2023-01-31'."
   ]
  },
  {
   "cell_type": "code",
   "execution_count": 3,
   "id": "c7de2044-fea2-424c-90f8-800388339b34",
   "metadata": {},
   "outputs": [
    {
     "name": "stdout",
     "output_type": "stream",
     "text": [
      "        Date\n",
      "0 2023-01-01\n",
      "1 2023-01-02\n",
      "2 2023-01-03\n",
      "3 2023-01-04\n",
      "4 2023-01-05\n"
     ]
    }
   ],
   "source": [
    "import pandas as pd\n",
    "\n",
    "def select_january_rows(df):\n",
    "    start_date = '2023-01-01'\n",
    "    end_date = '2023-01-31'\n",
    "    mask = (df['Date'] >= start_date) & (df['Date'] <= end_date)\n",
    "    return df.loc[mask]\n",
    "\n",
    "df = pd.DataFrame({'Date': ['2023-01-01', '2023-01-02', '2023-01-03', '2023-01-04', '2023-01-05']})\n",
    "df['Date'] = pd.to_datetime(df['Date'])\n",
    "df = select_january_rows(df)\n",
    "print(df)\n"
   ]
  },
  {
   "cell_type": "code",
   "execution_count": null,
   "id": "a97538be-d2de-43b4-b8b3-be61c2170c95",
   "metadata": {},
   "outputs": [],
   "source": [
    "Q13. To use the basic functions of pandas, what is the first and foremost necessary library that needs to\n",
    "be imported?"
   ]
  },
  {
   "cell_type": "code",
   "execution_count": null,
   "id": "2ee810c9-7b76-4aa6-9841-813c1924fe53",
   "metadata": {},
   "outputs": [],
   "source": [
    "To use the basic functions of pandas, the first and foremost necessary library that needs to be imported is pandas itself.\n",
    "The pandas library is a fast, powerful, flexible, and easy-to-use open-source data analysis and manipulation tool built on top of the Python programming language. It provides a number of useful data structures and functions for working with structured data, such as Series (1-dimensional array), DataFrame (2-dimensional table), and Panel (3-dimensional table)."
   ]
  }
 ],
 "metadata": {
  "kernelspec": {
   "display_name": "Python 3 (ipykernel)",
   "language": "python",
   "name": "python3"
  },
  "language_info": {
   "codemirror_mode": {
    "name": "ipython",
    "version": 3
   },
   "file_extension": ".py",
   "mimetype": "text/x-python",
   "name": "python",
   "nbconvert_exporter": "python",
   "pygments_lexer": "ipython3",
   "version": "3.10.8"
  }
 },
 "nbformat": 4,
 "nbformat_minor": 5
}
