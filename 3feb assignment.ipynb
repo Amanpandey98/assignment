{
 "cells": [
  {
   "cell_type": "code",
   "execution_count": null,
   "id": "4b92fc3f-5a23-45dc-94a2-f79ea3fe2005",
   "metadata": {},
   "outputs": [],
   "source": [
    "Q1. Which keyword is used to create a function? Create a function to return a list of odd numbers in the\n",
    "range of 1 to 25."
   ]
  },
  {
   "cell_type": "code",
   "execution_count": 10,
   "id": "a9781e4b-3c00-45e0-8348-d56165d90256",
   "metadata": {},
   "outputs": [],
   "source": [
    "def keyword is used to create a function,\n",
    "def test_odd(n):\n",
    "    l1=[]\n",
    "    for i in range(n):\n",
    "        if i%2!=0:\n",
    "            \n",
    "            l1.append(i)\n",
    "    return l1\n",
    "        \n",
    "    "
   ]
  },
  {
   "cell_type": "code",
   "execution_count": 11,
   "id": "cb1b0853-9d46-4d89-99d1-1eb489b58ca9",
   "metadata": {},
   "outputs": [
    {
     "data": {
      "text/plain": [
       "[1, 3, 5, 7, 9, 11, 13, 15, 17, 19, 21, 23, 25]"
      ]
     },
     "execution_count": 11,
     "metadata": {},
     "output_type": "execute_result"
    }
   ],
   "source": [
    "test_odd(26)"
   ]
  },
  {
   "cell_type": "code",
   "execution_count": null,
   "id": "0d9e1c0f-18f8-47d0-8cb5-75049516a4bd",
   "metadata": {},
   "outputs": [],
   "source": [
    "Q2. Why *args and **kwargs is used in some functions? Create a function each for *args and **kwargs\n",
    "to demonstrate their use."
   ]
  },
  {
   "cell_type": "code",
   "execution_count": 16,
   "id": "1f3a8fda-5ebe-4b1c-94a1-226e44ec23c0",
   "metadata": {},
   "outputs": [],
   "source": [
    "\n",
    "##in *args function, we use an asterisk * before the parameter name to pass variable length arguments.\n",
    "##The arguments are passed as a tuple and these passed arguments make tuple inside the function with same name as the parameter excluding asterisk *\n",
    "#example=\n",
    "def adder(*num):\n",
    "    sum = 0\n",
    "    \n",
    "    for n in num:\n",
    "        sum = sum + n\n",
    "\n",
    "    print(\"Sum:\",sum)\n",
    "\n"
   ]
  },
  {
   "cell_type": "code",
   "execution_count": 17,
   "id": "5eac07bb-6f67-4d29-b6ad-9d992fabdc8c",
   "metadata": {},
   "outputs": [
    {
     "name": "stdout",
     "output_type": "stream",
     "text": [
      "Sum: 7\n"
     ]
    }
   ],
   "source": [
    "adder(3,4)"
   ]
  },
  {
   "cell_type": "code",
   "execution_count": 30,
   "id": "a5f7839c-42db-4413-a553-7535c2a7401d",
   "metadata": {},
   "outputs": [],
   "source": [
    "\n",
    "##in **kwargs function, we use the double asterisk ** before the parameter name to denote this type of argument.\n",
    "##The arguments are passed as a dictionary and these arguments make a dictionary inside function with name same as the parameter excluding double asterisk **.\n",
    "def test(**kwargs):\n",
    "    return kwargs\n"
   ]
  },
  {
   "cell_type": "code",
   "execution_count": 31,
   "id": "685ca52b-3b18-4e19-878f-6ce05bad4347",
   "metadata": {},
   "outputs": [
    {
     "data": {
      "text/plain": [
       "{'a': [1, 2, 3, 4], 'b': 'aman', 'c': 23.5}"
      ]
     },
     "execution_count": 31,
     "metadata": {},
     "output_type": "execute_result"
    }
   ],
   "source": [
    "test(a=[1,2,3,4],b=\"aman\",c=23.5)"
   ]
  },
  {
   "cell_type": "code",
   "execution_count": null,
   "id": "06fbcc0a-4b6c-4035-b9d6-25878d4c57d0",
   "metadata": {},
   "outputs": [],
   "source": [
    "Q3. What is an iterator in python? Name the method used to initialise the iterator object and the method\n",
    "used for iteration. Use these methods to print the first five elements of the given list [2, 4, 6, 8, 10, 12, 14,\n",
    "16, 18, 20]."
   ]
  },
  {
   "cell_type": "code",
   "execution_count": 19,
   "id": "b63288dc-a855-4506-8271-9c717bda1bd3",
   "metadata": {},
   "outputs": [
    {
     "name": "stdout",
     "output_type": "stream",
     "text": [
      "2\n",
      "4\n",
      "6\n",
      "8\n",
      "10\n"
     ]
    }
   ],
   "source": [
    "##(ans)\n",
    "##Iterator in Python is an object that is used to iterate over iterable objects like lists, tuples, dicts, and sets.\n",
    "##The iterator object is initialized using the iter() method. It uses the next() method for iteration.\n",
    "list = [2, 4, 6, 8, 10, 12, 14, 16, 18, 20]\n",
    "list_1 = iter(list)\n",
    "\n",
    "for i in range(5):\n",
    "    print(next(list_1))\n",
    "\n",
    "\n"
   ]
  },
  {
   "cell_type": "code",
   "execution_count": null,
   "id": "a81e8af5-4cee-4b4f-be8f-7759888a95eb",
   "metadata": {},
   "outputs": [],
   "source": [
    "Q4. What is a generator function in python? Why yield keyword is used? Give an example of a generator\n",
    "function.\n",
    "    \n"
   ]
  },
  {
   "cell_type": "code",
   "execution_count": 22,
   "id": "3c78792a-f39b-432f-8f5e-0714fe59bc3f",
   "metadata": {},
   "outputs": [],
   "source": [
    "##(ans)\n",
    "##GENERATOR FUNCTION=A generator function in Python is a special kind of function that returns an iterable generator object.\n",
    "##The \"yield\" keyword is used because it allows the generator function to produce a sequence of values over time, instead of computing them all at once and returning a large data structure.\n",
    "def test(n):\n",
    "    i=0\n",
    "    for i in range(n):\n",
    "        yield i\n",
    "        \n"
   ]
  },
  {
   "cell_type": "code",
   "execution_count": 25,
   "id": "047ab413-5e66-4ad5-8b32-bc95220853de",
   "metadata": {},
   "outputs": [
    {
     "name": "stdout",
     "output_type": "stream",
     "text": [
      "0\n",
      "1\n",
      "2\n",
      "3\n",
      "4\n",
      "5\n",
      "6\n",
      "7\n",
      "8\n",
      "9\n"
     ]
    }
   ],
   "source": [
    "for i in test(10):\n",
    "    print(i)\n",
    "    \n"
   ]
  },
  {
   "cell_type": "code",
   "execution_count": null,
   "id": "3b0eb2d4-0e35-467f-a91c-f2157145031f",
   "metadata": {},
   "outputs": [],
   "source": [
    "Q5. Create a generator function for prime numbers less than 1000. Use the next() method to print the\n",
    "first 20 prime numbers."
   ]
  },
  {
   "cell_type": "code",
   "execution_count": 26,
   "id": "c3847c2a-c4b6-4072-8c8d-7f6c35629d00",
   "metadata": {},
   "outputs": [
    {
     "name": "stdout",
     "output_type": "stream",
     "text": [
      "2\n",
      "3\n",
      "5\n",
      "7\n",
      "11\n",
      "13\n",
      "17\n",
      "19\n",
      "23\n",
      "29\n",
      "31\n",
      "37\n",
      "41\n",
      "43\n",
      "47\n",
      "53\n",
      "59\n",
      "61\n",
      "67\n",
      "71\n"
     ]
    }
   ],
   "source": [
    "def get_primes():\n",
    "    primes = []\n",
    "    for num in range(2, 1000):\n",
    "        for prime in primes:\n",
    "            if num % prime == 0:\n",
    "                break\n",
    "        else:\n",
    "            primes.append(num)\n",
    "            yield num\n",
    "\n",
    "primes_generator = get_primes()\n",
    "\n",
    "for i in range(20):\n",
    "    print(next(primes_generator))\n"
   ]
  },
  {
   "cell_type": "code",
   "execution_count": null,
   "id": "556b5bf8-07fb-4ab4-9893-12b33f632ec2",
   "metadata": {},
   "outputs": [],
   "source": [
    "Q6. Write a python program to print the first 10 Fibonacci numbers using a while loop."
   ]
  },
  {
   "cell_type": "code",
   "execution_count": 32,
   "id": "a49b5b70-d56c-42fd-925b-c992f9b959dd",
   "metadata": {},
   "outputs": [],
   "source": [
    "\n",
    "def fib():\n",
    "    a,b=0,1\n",
    "    while true:\n",
    "        yield a\n",
    "        a,b=a,a+b"
   ]
  },
  {
   "cell_type": "code",
   "execution_count": 33,
   "id": "25b80778-7a3f-4404-a498-87f628820737",
   "metadata": {},
   "outputs": [
    {
     "name": "stdout",
     "output_type": "stream",
     "text": [
      "0\n",
      "1\n",
      "2\n",
      "3\n",
      "4\n",
      "5\n",
      "6\n",
      "7\n",
      "8\n",
      "9\n"
     ]
    }
   ],
   "source": [
    "for i in range(10):\n",
    "    print(i)\n",
    "    "
   ]
  },
  {
   "cell_type": "code",
   "execution_count": null,
   "id": "21ebd745-87a5-461a-a95d-69fea4dcafc3",
   "metadata": {},
   "outputs": [],
   "source": [
    "Q7. Write a List Comprehension to iterate through the given string: ‘pwskills’.\n",
    "Expected output: ['p', 'w', 's', 'k', 'i', 'l', 'l', 's']\n"
   ]
  },
  {
   "cell_type": "code",
   "execution_count": 43,
   "id": "f9c2982c-0ce0-4c20-a1b1-865c3e504bff",
   "metadata": {},
   "outputs": [
    {
     "data": {
      "text/plain": [
       "['p', 'w', 's', 'k', 'i', 'l', 'l', 's']"
      ]
     },
     "execution_count": 43,
     "metadata": {},
     "output_type": "execute_result"
    }
   ],
   "source": [
    "l=\"pwskills\"\n",
    "[i for i in l]\n"
   ]
  },
  {
   "cell_type": "code",
   "execution_count": null,
   "id": "b399c1f8-4303-4313-afb6-a4a6556886d1",
   "metadata": {},
   "outputs": [],
   "source": [
    "Q8. Write a python program to check whether a given number is Palindrome or not using a while loop."
   ]
  },
  {
   "cell_type": "code",
   "execution_count": null,
   "id": "f6deb784-30f9-4944-bd33-ac55391f24cb",
   "metadata": {},
   "outputs": [],
   "source": [
    "unable to this ques \n",
    "        "
   ]
  },
  {
   "cell_type": "code",
   "execution_count": null,
   "id": "ef85d9e5-3d20-4f87-acdc-307458601b40",
   "metadata": {},
   "outputs": [],
   "source": [
    "Q9. Write a code to print odd numbers from 1 to 100 using list comprehension.\n",
    "Note: Use a list comprehension to create a list from 1 to 100 and use another List comprehension to filter\n",
    "out odd numbers."
   ]
  },
  {
   "cell_type": "code",
   "execution_count": 53,
   "id": "d4815439-38aa-424d-9bdf-adfd5e19d4b8",
   "metadata": {},
   "outputs": [
    {
     "name": "stdout",
     "output_type": "stream",
     "text": [
      "[1, 3, 5, 7, 9, 11, 13, 15, 17, 19, 21, 23, 25, 27, 29, 31, 33, 35, 37, 39, 41, 43, 45, 47, 49, 51, 53, 55, 57, 59, 61, 63, 65, 67, 69, 71, 73, 75, 77, 79, 81, 83, 85, 87, 89, 91, 93, 95, 97, 99]\n"
     ]
    }
   ],
   "source": [
    "number=[i for i in range(1,101)]\n",
    "odd_numbers=[i for i in number if i%2!=0]\n",
    "print(odd_numbers)"
   ]
  },
  {
   "cell_type": "code",
   "execution_count": null,
   "id": "a7b11990-39c5-4300-8da9-dac6bf39c542",
   "metadata": {},
   "outputs": [],
   "source": []
  }
 ],
 "metadata": {
  "kernelspec": {
   "display_name": "Python 3 (ipykernel)",
   "language": "python",
   "name": "python3"
  },
  "language_info": {
   "codemirror_mode": {
    "name": "ipython",
    "version": 3
   },
   "file_extension": ".py",
   "mimetype": "text/x-python",
   "name": "python",
   "nbconvert_exporter": "python",
   "pygments_lexer": "ipython3",
   "version": "3.10.8"
  }
 },
 "nbformat": 4,
 "nbformat_minor": 5
}
