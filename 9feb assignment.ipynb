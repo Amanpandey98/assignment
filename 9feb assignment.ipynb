{
 "cells": [
  {
   "cell_type": "code",
   "execution_count": null,
   "id": "1a718899-653b-4983-89d5-fcd32b9ddace",
   "metadata": {},
   "outputs": [],
   "source": [
    "Q1, Create a vehicle class with an init method having instance variables as name_of_vehicle, max_speed\n",
    "and average_of_vehicle."
   ]
  },
  {
   "cell_type": "code",
   "execution_count": 6,
   "id": "cf7449e9-df3c-42c2-99f4-354bf51d3f02",
   "metadata": {},
   "outputs": [
    {
     "name": "stdout",
     "output_type": "stream",
     "text": [
      "rolls royce\n",
      "250\n",
      "3\n"
     ]
    }
   ],
   "source": [
    "class vehicle:\n",
    "    def __init__(self,name_of_vehicle,max_speed,average_of_vehicle):\n",
    "        self.name_of_vehicle=name_of_vehicle\n",
    "        self.max_speed=max_speed\n",
    "        self.average_of_vehicle=average_of_vehicle\n",
    "vehicle=vehicle(\"rolls royce\",250,3)\n",
    "print(vehicle.name_of_vehicle)\n",
    "print(vehicle.max_speed)\n",
    "print(vehicle.average_of_vehicle)\n",
    "        "
   ]
  },
  {
   "cell_type": "code",
   "execution_count": null,
   "id": "e62df73a-8b3c-43d4-9f3c-535e2ef0b1ee",
   "metadata": {},
   "outputs": [],
   "source": [
    "Q2. Create a child class car from the vehicle class created in Que 1, which will inherit the vehicle class.\n",
    "Create a method named seating_capacity which takes capacity as an argument and returns the name of\n",
    "the vehicle and its seating capacity."
   ]
  },
  {
   "cell_type": "code",
   "execution_count": 14,
   "id": "b066ab16-c9b4-41af-aae1-4015d3e20e14",
   "metadata": {},
   "outputs": [
    {
     "name": "stdout",
     "output_type": "stream",
     "text": [
      "Name of Vehicle: rolls royce \n",
      "Seating Capacity: 4\n"
     ]
    }
   ],
   "source": [
    "class Vehicle:\n",
    "    def __init__(self, name_of_vehicle, max_speed, average_of_vehicle):\n",
    "        self.name_of_vehicle = name_of_vehicle\n",
    "        self.max_speed = max_speed\n",
    "        self.average_of_vehicle = average_of_vehicle\n",
    "\n",
    "class Car(Vehicle):\n",
    "    def __init__(self, name_of_vehicle, max_speed, average_of_vehicle, capacity):\n",
    "        super().__init__(name_of_vehicle, max_speed, average_of_vehicle)\n",
    "        self.capacity = capacity\n",
    "\n",
    "    def seating_capacity(self):\n",
    "        return f\"Name of Vehicle: {self.name_of_vehicle} \\nSeating Capacity: {self.capacity}\"\n",
    "\n",
    "car = Car(\"rolls royce\", 250, 3, 4)\n",
    "print(car.seating_capacity())\n"
   ]
  },
  {
   "cell_type": "code",
   "execution_count": null,
   "id": "4764bb0e-87e6-4461-94e9-0981cb255e72",
   "metadata": {},
   "outputs": [],
   "source": [
    "Q3. What is multiple inheritance? Write a python code to demonstrate multiple inheritance."
   ]
  },
  {
   "cell_type": "code",
   "execution_count": 22,
   "id": "1c70aa96-8d01-4cdd-bee3-887b17846666",
   "metadata": {},
   "outputs": [
    {
     "name": "stdout",
     "output_type": "stream",
     "text": [
      "this is my assignment1\n",
      "this is my assignment 2\n"
     ]
    }
   ],
   "source": [
    "##\"Multiple inheritance\": a subclass inherits characteristics and behavior from multiple superclasses\n",
    "class class1:\n",
    "    def test_class1(self):\n",
    "        return\"this is my assignment1\"\n",
    "class class2:\n",
    "    def test_class2(self):\n",
    "        return\"this is my assignment 2\"\n",
    "class class3(class1,class2):\n",
    "    pass\n",
    "    \n",
    "       \n",
    "class_object=class3()\n",
    "print(class_object.test_class1()) \n",
    "print(class_object.test_class2())\n",
    "\n",
    "    \n",
    "    "
   ]
  },
  {
   "cell_type": "code",
   "execution_count": null,
   "id": "680721f7-7d68-4cd3-9ba4-e15f6cacc64f",
   "metadata": {},
   "outputs": [],
   "source": [
    "Q4. What are getter and setter in python? Create a class and create a getter and a setter method in this\n",
    "class."
   ]
  },
  {
   "cell_type": "code",
   "execution_count": 43,
   "id": "9391963c-bd46-47d7-b4aa-5893e3647c6c",
   "metadata": {},
   "outputs": [
    {
     "data": {
      "text/plain": [
       "0"
      ]
     },
     "execution_count": 43,
     "metadata": {},
     "output_type": "execute_result"
    }
   ],
   "source": [
    "##n Python, getter and setter methods are used to access and update the values of an object's properties. A getter method is used to get the value of an object's property, and a setter method is used to set the value of an object's property.\n",
    "class car:\n",
    "    def __init__(self,year,make,model,speed ):\n",
    "        self.__year=year\n",
    "        self.__make=make\n",
    "        self.__model=model\n",
    "        self.__speed=0\n",
    "##we are using double underscore __for encapsulation  \n",
    "    def set_speed(self,speed):\n",
    "        \n",
    "        self.speed=0 if speed<0 else speed\n",
    "    \n",
    "    def get_speed(self):        \n",
    "        return self.__speed\n",
    "c=car(2022,\"toyota\",\"innova\",12)\n",
    "c.set_speed(-233)##return 0 because speeed cannot be negative\n",
    "c.get_speed()\n",
    "\n",
    "    \n",
    "    \n",
    "        \n",
    "        \n",
    "    "
   ]
  },
  {
   "cell_type": "code",
   "execution_count": null,
   "id": "41f4dcf1-cdcc-4687-9a23-3192a8be2483",
   "metadata": {},
   "outputs": [],
   "source": [
    "Q5.What is method overriding in python? Write a python code to demonstrate method overriding."
   ]
  },
  {
   "cell_type": "code",
   "execution_count": null,
   "id": "9da3c8d2-d8c4-4ba1-abfe-19c332e6dab8",
   "metadata": {},
   "outputs": [],
   "source": []
  }
 ],
 "metadata": {
  "kernelspec": {
   "display_name": "Python 3 (ipykernel)",
   "language": "python",
   "name": "python3"
  },
  "language_info": {
   "codemirror_mode": {
    "name": "ipython",
    "version": 3
   },
   "file_extension": ".py",
   "mimetype": "text/x-python",
   "name": "python",
   "nbconvert_exporter": "python",
   "pygments_lexer": "ipython3",
   "version": "3.10.8"
  }
 },
 "nbformat": 4,
 "nbformat_minor": 5
}
