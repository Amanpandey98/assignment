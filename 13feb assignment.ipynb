{
 "cells": [
  {
   "cell_type": "code",
   "execution_count": null,
   "id": "845ec07e-55f1-4e5d-a4c4-95dec5f57a80",
   "metadata": {},
   "outputs": [],
   "source": [
    "Q1. Explain why we have to use the Exception class while creating a Custom Exception."
   ]
  },
  {
   "cell_type": "code",
   "execution_count": null,
   "id": "bdf98d71-53ec-4183-aa98-9b93896094a3",
   "metadata": {},
   "outputs": [],
   "source": [
    "By inheriting from the Exception class, a custom exception can take advantage of the built-in functionality for exception handling, such as raising and catching exceptions, displaying error messages, and propagating errors up the call stack. \n",
    "In addition, the Exception class provides a consistent interface for error handling across different libraries and applications, which makes it easier to write maintainable code."
   ]
  },
  {
   "cell_type": "code",
   "execution_count": null,
   "id": "8cd3a994-76f5-4583-a74c-13b5b9c91445",
   "metadata": {},
   "outputs": [],
   "source": [
    "Q2. Write a python program to print Python Exception Hierarchy."
   ]
  },
  {
   "cell_type": "code",
   "execution_count": null,
   "id": "8c121198-e9c3-4e3c-9a10-ff769748139f",
   "metadata": {},
   "outputs": [],
   "source": [
    "def print_exception_hierarchy(exception_class, indent=0):\n",
    "    print(' ' * indent + exception_class.__name__)\n",
    "    for subclass in exception_class.__subclasses__():\n",
    "        print_exception_hierarchy(subclass, indent + 4)\n",
    "\n",
    "print_exception_hierarchy(BaseException)\n"
   ]
  },
  {
   "cell_type": "code",
   "execution_count": null,
   "id": "9cc10f07-a823-4471-b716-2aecb53876e9",
   "metadata": {},
   "outputs": [],
   "source": [
    "Q3. What errors are defined in the ArithmeticError class? Explain any two with an example."
   ]
  },
  {
   "cell_type": "code",
   "execution_count": null,
   "id": "5e084178-c8b6-4689-b63c-9519e3be5bee",
   "metadata": {},
   "outputs": [],
   "source": [
    "The ArithmeticError class is a built-in exception class in Python that serves as a base class for mathematical errors.\n",
    "FloatingPointError: Raised when a floating-point operation fails.\n",
    "OverflowError: Raised when the result of an arithmetic operation exceeds the maximum representable value.\n",
    "ZeroDivisionError: Raised when attempting to divide a number by zero.\n",
    "UnderflowError: Raised when the result of an arithmetic operation is too small to be represented.\n",
    "Here are two examples of ArithmeticError subclasses and their use cases:\n",
    "\n",
    "ZeroDivisionError: This exception is raised when attempting to divide a number by zero. For example, the following code will raise a ZeroDivisionError\n",
    "x = 10\n",
    "y = 0\n",
    "result = x / y  # Raises ZeroDivisionError\n",
    "\n",
    "\n",
    "2.OverflowError: This exception is raised when the result of an arithmetic operation exceeds the maximum representable value. \n",
    "For example, the following code will raise an OverflowError:\n",
    "import sys\n",
    "x = sys.maxsize  # Largest representable integer on the system\n",
    "y = 2\n",
    "result = x * y  # Raises OverflowError\n"
   ]
  },
  {
   "cell_type": "code",
   "execution_count": null,
   "id": "41007af3-800d-4c66-a343-5cde2dfa36ec",
   "metadata": {},
   "outputs": [],
   "source": [
    "Q4. Why LookupError class is used? Explain with an example KeyError and IndexError."
   ]
  },
  {
   "cell_type": "code",
   "execution_count": null,
   "id": "978d9986-0fee-4b99-a68c-0a9831279a6b",
   "metadata": {},
   "outputs": [],
   "source": [
    "The LookupError class is a built-in exception class in Python that serves as a base class for exceptions that occur when looking up a value in a collection, such as a list or dictionary. It is subclassed by more specific exception classes that represent different types of lookup errors.\n",
    "The main reason for using the LookupError class and its subclasses is to provide a standardized way of handling errors that occur when trying to access a value that is not present in a collection. \n",
    "\n",
    "Here are two examples of LookupError subclasses and their use cases:\n",
    "KeyError: This exception is raised when trying to access a non-existent key in a dictionary. For example, the following code will raise a KeyError:\n",
    "d = {'a': 1, 'b': 2, 'c': 3}\n",
    "value = d['d']  # Raises KeyError\n",
    "\n",
    "IndexError: This exception is raised when trying to access an index that is out of range in a list, tuple, or other sequence. For example, the following code will raise an IndexError:\n",
    "lst = [1, 2, 3]\n",
    "value = lst[3]  # Raises IndexError\n"
   ]
  },
  {
   "cell_type": "code",
   "execution_count": null,
   "id": "460d369d-e10a-49b2-87c1-c61482019533",
   "metadata": {},
   "outputs": [],
   "source": [
    "Q5. Explain ImportError. What is ModuleNotFoundError?"
   ]
  },
  {
   "cell_type": "code",
   "execution_count": null,
   "id": "423bc295-41d6-4eca-9e32-970d9c7a1a85",
   "metadata": {},
   "outputs": [],
   "source": [
    "ImportError is a built-in exception class in Python that is raised when there is an error importing a module or a package. It is a subclass of the Exception class.\n",
    "An ImportError can occur for several reasons, such as when the specified module or package does not exist or cannot be found, when there is a syntax error in the module or package, or when there are circular dependencies between modules or packages. When an ImportError occurs, the Python interpreter will halt execution and display an error message indicating the source of the error.\n",
    "\n",
    "\"ModuleNotFoundError\"= the ModuleNotFoundError exception is raised when the specified module is not found in the Python module search path. This can occur if the module was not installed properly, if it is not in the correct directory, or if the name of the module was misspelled."
   ]
  },
  {
   "cell_type": "code",
   "execution_count": null,
   "id": "23944b0c-80f3-4b21-95eb-a604fc34efbb",
   "metadata": {},
   "outputs": [],
   "source": [
    "Q6. List down some best practices for exception handling in python."
   ]
  },
  {
   "cell_type": "code",
   "execution_count": null,
   "id": "7cc5584f-5ef9-4419-ae20-043a9e746128",
   "metadata": {},
   "outputs": [],
   "source": [
    "1.use always a specific Exception.\n",
    "2.print always a proper message.\n",
    "3.always try to log your error.\n",
    "4.always avoid to write a multiple Exeption handling.\n",
    "5.ocument all the error\n",
    "6.cleanup all the resources"
   ]
  },
  {
   "cell_type": "code",
   "execution_count": null,
   "id": "43c81d4d-dcc8-4ec9-a88d-0d5345cef1c0",
   "metadata": {},
   "outputs": [],
   "source": []
  }
 ],
 "metadata": {
  "kernelspec": {
   "display_name": "Python 3 (ipykernel)",
   "language": "python",
   "name": "python3"
  },
  "language_info": {
   "codemirror_mode": {
    "name": "ipython",
    "version": 3
   },
   "file_extension": ".py",
   "mimetype": "text/x-python",
   "name": "python",
   "nbconvert_exporter": "python",
   "pygments_lexer": "ipython3",
   "version": "3.10.8"
  }
 },
 "nbformat": 4,
 "nbformat_minor": 5
}
