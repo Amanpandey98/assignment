{
 "cells": [
  {
   "cell_type": "code",
   "execution_count": null,
   "id": "98e0ffdb-7c4d-4e28-87df-4584d14ae43a",
   "metadata": {},
   "outputs": [],
   "source": [
    "Q1. What is Flask Framework? What are the advantages of Flask Framework?"
   ]
  },
  {
   "cell_type": "code",
   "execution_count": null,
   "id": "565c5b41-78a1-4c56-b6a1-e4dda88e9366",
   "metadata": {},
   "outputs": [],
   "source": [
    "Flask is a Python web framework that allows developers to build web applications easily and quickly. Flask is considered a \"micro\" framework because it has a small code base and minimal dependencies, making it lightweight and flexible.\n",
    "\n",
    "Advantages of Flask Framework include:\n",
    "\n",
    "1.Lightweight and easy to use: Flask has a small code base and is easy to understand and use, even for developers who are new to web development.\n",
    "\n",
    "2.Flexibility: Flask is very flexible and can be used to build a wide range of web applications, from simple static websites to complex dynamic web applications.\n",
    "\n",
    "3.Modular design: Flask has a modular design, allowing developers to use only the components they need, making it easy to build custom web applications.\n",
    "\n",
    "4.Large community: Flask has a large community of developers who contribute to the framework and provide support and guidance to other developers."
   ]
  },
  {
   "cell_type": "code",
   "execution_count": null,
   "id": "3989af99-d541-4dbe-a5d6-b8323c60b616",
   "metadata": {},
   "outputs": [],
   "source": [
    "Q2. Create a simple Flask application to display ‘Hello World!!’. Attach the screenshot of the output in\n",
    "Jupyter Notebook."
   ]
  },
  {
   "cell_type": "code",
   "execution_count": null,
   "id": "a4ea6652-b431-4b4c-8bfc-4e003d69bc30",
   "metadata": {},
   "outputs": [],
   "source": [
    "import flask from flask\n",
    "app = Flask(__name__)\n",
    "@app.route(\"/test\")\n",
    "def test():\n",
    "    return \"<h1>Hello, World!</h1>\"\n",
    "if __name__==\"__main__\":\n",
    "    app.run(host=\"0.0.0.0\")\n"
   ]
  },
  {
   "cell_type": "code",
   "execution_count": null,
   "id": "ccc6e607-f6cc-424d-b7b7-dfda34bed68c",
   "metadata": {},
   "outputs": [],
   "source": [
    "Q3. What is App routing in Flask? Why do we use app routes?"
   ]
  },
  {
   "cell_type": "code",
   "execution_count": null,
   "id": "7c8eb9a1-eb1b-4b63-8768-db41660c0e00",
   "metadata": {},
   "outputs": [],
   "source": [
    "In Flask, app routing refers to the mechanism by which the framework maps URLs to view functions. Essentially, app routing determines what happens when a user visits a particular URL in your Flask application.\n",
    "To create a route in Flask, you use the @app.route() decorator, which associates a URL pattern with a view function.\n",
    "We use app routes in Flask to define the behavior of our web application. By defining app routes, we can map specific URLs to specific functions or pages in our application. For example, we can define routes to handle user authentication, display a list of products, or handle a form submission.\n",
    "App routing in Flask is also useful for creating RESTful APIs. By defining routes that correspond to HTTP methods (such as GET, POST, PUT, and DELETE), we can create endpoints that can be accessed by other applications or services.\n",
    "Overall, app routing is a fundamental aspect of building Flask applications. By defining routes, we can create a well-organized and structured web application that is easy to understand and maintain."
   ]
  },
  {
   "cell_type": "code",
   "execution_count": null,
   "id": "86564acd-3ced-4f56-b626-bce77e49feef",
   "metadata": {},
   "outputs": [],
   "source": [
    "Q4. Create a “/welcome” route to display the welcome message “Welcome to ABC Corporation” and a “/”\n",
    "route to show the following details:\n",
    "Company Name: ABC Corporation\n",
    "Location: India\n",
    "Contact Detail: 999-999-9999\n",
    "Attach the screenshot of the output in Jupyter Notebook."
   ]
  },
  {
   "cell_type": "code",
   "execution_count": null,
   "id": "2c4fb444-cf67-48c1-8630-bcf7abf8f81a",
   "metadata": {},
   "outputs": [],
   "source": [
    "from flask import Flask\n",
    "\n",
    "app = Flask(__name__)\n",
    "\n",
    "@app.route('/welcome')\n",
    "def welcome():\n",
    "    return 'Welcome to ABC Corporation'\n",
    "\n",
    "@app.route('/')\n",
    "def company_info():\n",
    "    return 'Company Name: ABC Corporation<br>Location: India<br>Contact Detail: 999-999-9999'\n",
    "\n",
    "if __name__ == '__main__':\n",
    "    app.run(debug=True)\n",
    "\n"
   ]
  },
  {
   "cell_type": "code",
   "execution_count": 5,
   "id": "99db0cdf-0fc3-4aca-b330-a4e672d25edc",
   "metadata": {},
   "outputs": [],
   "source": [
    "Q5. What function is used in Flask for URL Building? Write a Python code to demonstrate the working of the\n",
    "url_for() function.\n"
   ]
  },
  {
   "cell_type": "code",
   "execution_count": null,
   "id": "e3c9c1e4-37a6-4d93-a628-9dab5468b486",
   "metadata": {},
   "outputs": [],
   "source": [
    "The url_for() function in Flask is used for URL building. It generates a URL to the specified endpoint with the given arguments.\n",
    "\n",
    "Here is an example Python code to demonstrate the working of the url_for() function in Flask:\n",
    "\n",
    "\n",
    "from flask import Flask, url_for\n",
    "\n",
    "app = Flask(__name__)\n",
    "\n",
    "@app.route('/')\n",
    "def index():\n",
    "    return 'This is the index page'\n",
    "\n",
    "@app.route('/user/<username>')\n",
    "def user_profile(username):\n",
    "    return f'This is the profile page for {username}'\n",
    "\n",
    "@app.route('/post/<int:post_id>')\n",
    "def show_post(post_id):\n",
    "    return f'This is the page for post {post_id}'\n",
    "\n",
    "@app.route('/login')\n",
    "def login():\n",
    "    return 'This is the login page'\n",
    "\n",
    "with app.test_request_context():\n",
    "    print(url_for('index'))\n",
    "    print(url_for('user_profile', username='Aman pandey'))\n",
    "    print(url_for('show_post', post_id=1))\n",
    "    print(url_for('login'))"
   ]
  },
  {
   "cell_type": "code",
   "execution_count": null,
   "id": "b1fd03fd-9a22-4614-b8f9-42d06345f90d",
   "metadata": {},
   "outputs": [],
   "source": []
  },
  {
   "cell_type": "code",
   "execution_count": null,
   "id": "14517fd2-db85-44f1-9d6e-065ab78745a1",
   "metadata": {},
   "outputs": [],
   "source": []
  }
 ],
 "metadata": {
  "kernelspec": {
   "display_name": "Python 3 (ipykernel)",
   "language": "python",
   "name": "python3"
  },
  "language_info": {
   "codemirror_mode": {
    "name": "ipython",
    "version": 3
   },
   "file_extension": ".py",
   "mimetype": "text/x-python",
   "name": "python",
   "nbconvert_exporter": "python",
   "pygments_lexer": "ipython3",
   "version": "3.10.8"
  }
 },
 "nbformat": 4,
 "nbformat_minor": 5
}
