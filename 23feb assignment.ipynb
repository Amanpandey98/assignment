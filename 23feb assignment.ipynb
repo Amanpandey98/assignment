{
 "cells": [
  {
   "cell_type": "code",
   "execution_count": null,
   "id": "255cc41b-ba69-435f-b5fb-984bb422d37b",
   "metadata": {},
   "outputs": [],
   "source": [
    "Q1. Create a Pandas Series that contains the following data: 4, 8, 15, 16, 23, and 42. Then, print the series."
   ]
  },
  {
   "cell_type": "code",
   "execution_count": 8,
   "id": "a13769b0-c30d-43d3-9e07-8e5606dadbed",
   "metadata": {},
   "outputs": [
    {
     "name": "stdout",
     "output_type": "stream",
     "text": [
      "0     4\n",
      "1     8\n",
      "2    15\n",
      "3    16\n",
      "4    23\n",
      "5    42\n",
      "dtype: int64\n"
     ]
    }
   ],
   "source": [
    "import pandas as pd\n",
    "data=[4,8,15,16,23,42]\n",
    "df=pd.Series(data)\n",
    "print(df)"
   ]
  },
  {
   "cell_type": "code",
   "execution_count": null,
   "id": "54435a45-6fb6-4ed7-a59d-4b3e027421bf",
   "metadata": {},
   "outputs": [],
   "source": [
    "Q2. Create a variable of list type containing 10 elements in it, and apply pandas.Series function on the\n",
    "variable print it."
   ]
  },
  {
   "cell_type": "code",
   "execution_count": 10,
   "id": "cb1dd531-2a68-4c4e-98b4-97d11eff9290",
   "metadata": {},
   "outputs": [
    {
     "name": "stdout",
     "output_type": "stream",
     "text": [
      "0     1\n",
      "1     2\n",
      "2     3\n",
      "3     4\n",
      "4     5\n",
      "5     6\n",
      "6     7\n",
      "7     8\n",
      "8     9\n",
      "9    10\n",
      "dtype: int64\n"
     ]
    }
   ],
   "source": [
    "import pandas as pd\n",
    "list=[1,2,3,4,5,6,7,8,9,10]\n",
    "df=pd.Series(list)\n",
    "print(df)"
   ]
  },
  {
   "cell_type": "code",
   "execution_count": null,
   "id": "81d14e1f-e106-4337-9aca-dbf7b56433b2",
   "metadata": {},
   "outputs": [],
   "source": [
    "Q3. Create a Pandas DataFrame that contains the following data:\n",
    "Name    Age   gender\n",
    "alice   25    female\n",
    "bob     30    male\n",
    "claire   27    female\n",
    "Then, print the DataFrame."
   ]
  },
  {
   "cell_type": "code",
   "execution_count": 14,
   "id": "22caa77e-e5b4-4c22-bee0-4c8da92dfb79",
   "metadata": {},
   "outputs": [
    {
     "name": "stdout",
     "output_type": "stream",
     "text": [
      "     Name  Age  gender\n",
      "0   alice   25  female\n",
      "1     bob   30    male\n",
      "2  claire   27  female\n"
     ]
    }
   ],
   "source": [
    "import pandas as pd\n",
    "\n",
    "data = {'Name': ['alice', 'bob', 'claire'],\n",
    "\n",
    "        'Age': [25, 30, 27],\n",
    "\n",
    "        'gender': ['female', 'male', 'female']}\n",
    "\n",
    "df = pd.DataFrame(data)\n",
    "\n",
    "print(df)"
   ]
  },
  {
   "cell_type": "code",
   "execution_count": null,
   "id": "463bb3b4-6681-45ff-9bf6-6090b7d8985d",
   "metadata": {},
   "outputs": [],
   "source": [
    "Q4. What is ‘DataFrame’ in pandas and how is it different from pandas.series? Explain with an example."
   ]
  },
  {
   "cell_type": "code",
   "execution_count": 15,
   "id": "b7f2d049-2f82-4528-b05d-82d81ec51ffd",
   "metadata": {},
   "outputs": [
    {
     "name": "stdout",
     "output_type": "stream",
     "text": [
      "      name  age gender\n",
      "0    Alice   25      F\n",
      "1      Bob   30      M\n",
      "2  Charlie   35      M\n"
     ]
    }
   ],
   "source": [
    "##A DataFrame is a two-dimensional data structure with labeled rows and columns, whereas a Series is a one-dimensional data structure with labeled values.\n",
    "##A DataFrame can have multiple columns of different data types, whereas a Series can have only one column of a single data type.\n",
    "import pandas as pd\n",
    "\n",
    "# create a dictionary of Series\n",
    "data = {'name': pd.Series(['Alice', 'Bob', 'Charlie']),\n",
    "        'age': pd.Series([25, 30, 35]),\n",
    "        'gender': pd.Series(['F', 'M', 'M'])}\n",
    "\n",
    "# create a DataFrame from the dictionary\n",
    "df = pd.DataFrame(data)\n",
    "\n",
    "# print the DataFrame\n",
    "print(df)\n"
   ]
  },
  {
   "cell_type": "code",
   "execution_count": null,
   "id": "9e067d54-014d-486d-801b-64a023eb7659",
   "metadata": {},
   "outputs": [],
   "source": [
    "Q5. What are some common functions you can use to manipulate data in a Pandas DataFrame? Can\n",
    "you give an example of when you might use one of these functions?"
   ]
  },
  {
   "cell_type": "code",
   "execution_count": null,
   "id": "fcfeae1b-3c57-4db4-8169-f6bf381e49fe",
   "metadata": {},
   "outputs": [],
   "source": [
    "here are many common functions and methods available in Pandas that you can use to manipulate data in a DataFrame. Here are some of the most commonly used ones:\n",
    "\n",
    "1.head() and tail(): these methods allow you to see the first or last n rows of a DataFrame, respectively. They can be useful for quickly checking the contents of a DataFrame.\n",
    "\n",
    "2.describe(): this method generates descriptive statistics for each column in a DataFrame, such as count, mean, standard deviation, and quartiles. It can be useful for getting an overview of the data.\n",
    "\n",
    "3.dropna(): this method removes any rows or columns that contain missing values (NaNs) from a DataFrame. It can be useful for cleaning up messy data.\n",
    "\n",
    "4.groupby(): this method groups the rows of a DataFrame based on the values in one or more columns, and allows you to perform aggregate calculations on each group. It can be useful for analyzing data by different categories.\n",
    "\n",
    "5.sort_values(): this method sorts the rows of a DataFrame based on the values in one or more columns. It can be useful for finding the highest or lowest values, or for sorting by alphabetical order.\n",
    "\n",
    "6.apply(): this method applies a function to each element or row of a DataFrame. It can be useful for performing custom calculations or transformations on the data.\n",
    "here is an example:\n",
    "import pandas as pd\n",
    "\n",
    "# create a DataFrame\n",
    "data = {'name': ['Alice', 'Bob', 'Charlie', 'David', 'Emily'],\n",
    "        'age': [25, 30, 35, 40, 45],\n",
    "        'gender': ['F', 'M', 'M', 'M', 'F'],\n",
    "        'salary': [50000, 60000, 70000, 80000, 90000]}\n",
    "df = pd.DataFrame(data)\n",
    "\n",
    "# group the DataFrame by gender and calculate the mean salary for each group\n",
    "grouped = df.groupby('gender')['salary'].mean()\n",
    "\n",
    "# print the resulting Series\n",
    "print(grouped)\n"
   ]
  },
  {
   "cell_type": "code",
   "execution_count": null,
   "id": "c1f80cf2-3ec1-423f-a575-a98c96c490a1",
   "metadata": {},
   "outputs": [],
   "source": [
    "Q6. Which of the following is mutable in nature Series, DataFrame, Panel?"
   ]
  },
  {
   "cell_type": "code",
   "execution_count": null,
   "id": "e800f884-c53a-4db6-b572-bc652ca75108",
   "metadata": {},
   "outputs": [],
   "source": [
    "In Pandas, Series and DataFrame are mutable in nature, while Panel is not.\n",
    "\n",
    "A mutable object is an object whose value can be changed after it is created. In Pandas, you can modify the contents of a Series or DataFrame by assigning new values to its elements or columns"
   ]
  },
  {
   "cell_type": "code",
   "execution_count": 16,
   "id": "edfd10a4-6d66-4910-98da-5e54803bc7f3",
   "metadata": {},
   "outputs": [
    {
     "name": "stdout",
     "output_type": "stream",
     "text": [
      "      name  age gender\n",
      "0    Alice   25      F\n",
      "1      Bob   30      M\n",
      "2  Charlie   35      M\n"
     ]
    }
   ],
   "source": [
    "import pandas as pd\n",
    "\n",
    "# create a dictionary of Series\n",
    "data = {'name': pd.Series(['Alice', 'Bob', 'Charlie']),\n",
    "        'age': pd.Series([25, 30, 35]),\n",
    "        'gender': pd.Series(['F', 'M', 'M'])}\n",
    "\n",
    "# create a DataFrame from the dictionary\n",
    "df = pd.DataFrame(data)\n",
    "\n",
    "# print the DataFrame\n",
    "print(df)\n"
   ]
  },
  {
   "cell_type": "code",
   "execution_count": null,
   "id": "ca46f98c-a26f-4597-bf7f-70234842e2f8",
   "metadata": {},
   "outputs": [],
   "source": []
  }
 ],
 "metadata": {
  "kernelspec": {
   "display_name": "Python 3 (ipykernel)",
   "language": "python",
   "name": "python3"
  },
  "language_info": {
   "codemirror_mode": {
    "name": "ipython",
    "version": 3
   },
   "file_extension": ".py",
   "mimetype": "text/x-python",
   "name": "python",
   "nbconvert_exporter": "python",
   "pygments_lexer": "ipython3",
   "version": "3.10.8"
  }
 },
 "nbformat": 4,
 "nbformat_minor": 5
}
