{
 "cells": [
  {
   "cell_type": "code",
   "execution_count": 3,
   "id": "18646b10-51c0-46c2-adbb-3ca5529be339",
   "metadata": {},
   "outputs": [
    {
     "ename": "SyntaxError",
     "evalue": "invalid syntax (2206415463.py, line 1)",
     "output_type": "error",
     "traceback": [
      "\u001b[0;36m  Cell \u001b[0;32mIn[3], line 1\u001b[0;36m\u001b[0m\n\u001b[0;31m    Q1. Create a function which will take a list as an argument and return the product of all the numbers\u001b[0m\n\u001b[0m               ^\u001b[0m\n\u001b[0;31mSyntaxError\u001b[0m\u001b[0;31m:\u001b[0m invalid syntax\n"
     ]
    }
   ],
   "source": [
    "Q1. Create a function which will take a list as an argument and return the product of all the numbers\n",
    "after creating a flat list.\n",
    "Use the below-given list as an argument for your function.\n",
    "list1 = [1,2,3,4, [44,55,66, True], False, (34,56,78,89,34), {1,2,3,3,2,1}, {1:34, \"key2\": [55, 67, 78, 89], 4: (45,\n",
    "22, 61, 34)}, [56, 'data science'], 'Machine Learning']\n",
    "Note: you must extract numeric keys and values of the dictionary also."
   ]
  },
  {
   "cell_type": "code",
   "execution_count": 8,
   "id": "f6db8ec9-a010-45a5-be38-83cf10af0369",
   "metadata": {},
   "outputs": [
    {
     "name": "stdout",
     "output_type": "stream",
     "text": [
      "3011789169068359680\n"
     ]
    }
   ],
   "source": [
    "def product_of_numbers(lst):\n",
    "    flat_list = []\n",
    "    def flatten(lst):\n",
    "        for i in lst:\n",
    "            if type(i) == int:\n",
    "                flat_list.append(i)\n",
    "            elif type(i) == float:\n",
    "                flat_list.append(i)\n",
    "            elif type(i) == tuple:\n",
    "                flatten(i)\n",
    "            elif type(i) == list:\n",
    "                flatten(i)\n",
    "            elif type(i) == dict:\n",
    "                for key, value in i.items():\n",
    "                    if type(key) == int:\n",
    "                        flat_list.append(key)\n",
    "                    if type(value) == int:\n",
    "                        flat_list.append(value)\n",
    "                    elif type(value) == list:\n",
    "                        flatten(value)\n",
    "                    elif type(value) == tuple:\n",
    "                        flatten(value)\n",
    "    flatten(lst)\n",
    "    result = 1\n",
    "    for i in flat_list:\n",
    "        result *= i\n",
    "    return result\n",
    "\n",
    "list = [1,2,3,4, [44,55,66, True], False, (34,56,78,89,34), {1,2,3,3,2,1}, {1:34, \"key2\": [55, 67, 78, 89], 4: (45,\n",
    "22, 61, 34)}, [56, 'data science'], 'Machine Learning']\n",
    "\n",
    "print(product_of_numbers(list1))\n"
   ]
  },
  {
   "cell_type": "code",
   "execution_count": null,
   "id": "d73890a3-03e3-4ae8-bab0-127ae4a8dddc",
   "metadata": {},
   "outputs": [],
   "source": [
    "Q2. Write a python program for encrypting a message sent to you by your friend. The logic of encryption\n",
    "should be such that, for a the output should be z. For b, the output should be y. For c, the output should\n",
    "be x respectively. Also, the whitespace should be replaced with a dollar sign. Keep the punctuation\n",
    "marks unchanged.\n",
    "Input Sentence: I want to become a Data Scientist.\n",
    "Encrypt the above input sentence using the program you just created.\n",
    "Note: Convert the given input sentence into lowercase before encrypting. The final output should be\n",
    "lowercase."
   ]
  },
  {
   "cell_type": "code",
   "execution_count": 9,
   "id": "ed0c9663-e816-4881-a1cb-1991358bf0b6",
   "metadata": {},
   "outputs": [
    {
     "name": "stdout",
     "output_type": "stream",
     "text": [
      "r$dzmg$gl$yvxlnv$z$wzgz$hxrvmgrhg.\n"
     ]
    }
   ],
   "source": [
    "def encrypt_message(sentence):\n",
    "    sentence = sentence.lower()\n",
    "    encryption_map = {\n",
    "        'a': 'z', 'b': 'y', 'c': 'x', 'd': 'w', 'e': 'v', 'f': 'u', 'g': 't', 'h': 's', 'i': 'r', 'j': 'q', 'k': 'p',\n",
    "        'l': 'o', 'm': 'n', 'n': 'm', 'o': 'l', 'p': 'k', 'q': 'j', 'r': 'i', 's': 'h', 't': 'g', 'u': 'f', 'v': 'e',\n",
    "        'w': 'd', 'x': 'c', 'y': 'b', 'z': 'a'\n",
    "    }\n",
    "    encrypted_sentence = ''\n",
    "    for char in sentence:\n",
    "        if char == ' ':\n",
    "            encrypted_sentence += '$'\n",
    "        elif char in encryption_map:\n",
    "            encrypted_sentence += encryption_map[char]\n",
    "        else:\n",
    "            encrypted_sentence += char\n",
    "    return encrypted_sentence\n",
    "\n",
    "input_sentence = \"I want to become a Data Scientist.\"\n",
    "\n",
    "print(encrypt_message(input_sentence))\n"
   ]
  },
  {
   "cell_type": "code",
   "execution_count": null,
   "id": "09a979ca-4aeb-4d13-8cbd-d78c5a1695df",
   "metadata": {},
   "outputs": [],
   "source": []
  }
 ],
 "metadata": {
  "kernelspec": {
   "display_name": "Python 3 (ipykernel)",
   "language": "python",
   "name": "python3"
  },
  "language_info": {
   "codemirror_mode": {
    "name": "ipython",
    "version": 3
   },
   "file_extension": ".py",
   "mimetype": "text/x-python",
   "name": "python",
   "nbconvert_exporter": "python",
   "pygments_lexer": "ipython3",
   "version": "3.10.8"
  }
 },
 "nbformat": 4,
 "nbformat_minor": 5
}
