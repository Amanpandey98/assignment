{
 "cells": [
  {
   "cell_type": "code",
   "execution_count": null,
   "id": "80810cbf-7076-413f-bffe-c401f72de95b",
   "metadata": {},
   "outputs": [],
   "source": [
    "1. Who developed Python Programming Language? \n",
    "ans=Guido van Rossum developed python programming language."
   ]
  },
  {
   "cell_type": "code",
   "execution_count": null,
   "id": "88c28640-c11c-4cbf-8645-d53bcc477c3d",
   "metadata": {},
   "outputs": [],
   "source": [
    "2. Which type of Programming does Python support? \n",
    "ans=python support both object oriented and structured programming language."
   ]
  },
  {
   "cell_type": "code",
   "execution_count": null,
   "id": "b6db02e0-bfbb-4350-ad86-5bdefe4f303c",
   "metadata": {},
   "outputs": [],
   "source": [
    "3. Is Python case sensitive when dealing with identifiers? \n",
    "ans= yes python is a case sensitive language."
   ]
  },
  {
   "cell_type": "code",
   "execution_count": null,
   "id": "bc4a742a-06f6-4886-904f-ed04deb364b2",
   "metadata": {},
   "outputs": [],
   "source": [
    "4. What is the correct extension of the Python file? \n",
    "ans=\" .py \" is the correct extension of the Python file."
   ]
  },
  {
   "cell_type": "code",
   "execution_count": null,
   "id": "5e9ec637-b1db-4475-af28-836ed059cbfd",
   "metadata": {},
   "outputs": [],
   "source": [
    "5. Is Python code compiled or interpreted? \n",
    "ans=python is a interpreted language."
   ]
  },
  {
   "cell_type": "code",
   "execution_count": null,
   "id": "ed5a8059-da48-4f06-8d35-de3d9b085d4a",
   "metadata": {},
   "outputs": [],
   "source": [
    "6. Name a few blocks of code used to define in Python language? \n",
    "ans='a module','function body','class definition' are block of codes used to define python language."
   ]
  },
  {
   "cell_type": "code",
   "execution_count": null,
   "id": "c4c61358-44cd-4884-8b7f-b8305cd8bd4e",
   "metadata": {},
   "outputs": [],
   "source": [
    "7. State a character used to give single-line comments in Python? \n",
    "ans=\"#\"character is used to give single line comments in python."
   ]
  },
  {
   "cell_type": "code",
   "execution_count": null,
   "id": "45e4c2dc-515e-4bfb-b53e-842ac7a5e4de",
   "metadata": {},
   "outputs": [],
   "source": [
    "8. Mention functions which can help us to find the version of python that we are currently working on? \n",
    "ans=the function sys.version help us to find the version of python that we are currently working on."
   ]
  },
  {
   "cell_type": "code",
   "execution_count": null,
   "id": "b3907f50-3ce1-4fab-99bd-d6c37972c142",
   "metadata": {},
   "outputs": [],
   "source": [
    "9. Python supports the creation of anonymous functions at runtime, using a construct called \n",
    "ans= Python supports the creation of anonymous functions at runtime using a construct called lambda.\n"
   ]
  },
  {
   "cell_type": "code",
   "execution_count": null,
   "id": "e40780ad-67bd-4e75-bd70-9ed96ae5dd6a",
   "metadata": {},
   "outputs": [],
   "source": [
    "10. What does pip stand for python? \n",
    "ans=pip stands for \"preffered installer program\"."
   ]
  },
  {
   "cell_type": "code",
   "execution_count": null,
   "id": "23341a31-e0f6-493a-a63d-26318690f1aa",
   "metadata": {},
   "outputs": [],
   "source": [
    "11. Mention a few built-in functions in python? \n",
    "ans=1.print()function\n",
    "    2.type()function\n",
    "    3.len()function\n",
    "    4.pow()function\n",
    "    "
   ]
  },
  {
   "cell_type": "code",
   "execution_count": null,
   "id": "c35ae9f5-027a-4ff3-a68b-05944f35a354",
   "metadata": {},
   "outputs": [],
   "source": [
    "12. What is the maximum possible length of an identifier in Python? \n",
    "ans=the maximum possible length of an identifier in python is 79 character."
   ]
  },
  {
   "cell_type": "code",
   "execution_count": null,
   "id": "4f573872-a5c7-4417-bcd8-fe5968ad7fc6",
   "metadata": {},
   "outputs": [],
   "source": [
    "13. What are the benefits of using Python? \n",
    "ans=simple to understand\n",
    "    extensive library \n",
    "    inbuilt functions\n",
    "    interpreted language\n",
    "    increased productivity"
   ]
  },
  {
   "cell_type": "code",
   "execution_count": null,
   "id": "af75ac56-6fd6-4b6b-861f-78bbd948c219",
   "metadata": {},
   "outputs": [],
   "source": [
    "14. How is memory managed in Python? \n",
    "ans=memory in python is managed by \"python private heap\"all data structures and algorithms present in private heap."
   ]
  },
  {
   "cell_type": "code",
   "execution_count": null,
   "id": "d475a788-f1ea-487c-8c52-e5eca81f584a",
   "metadata": {},
   "outputs": [],
   "source": [
    "15. How to install Python on Windows and set path variables?\n",
    "ans=Open a browser to the Python website and download the Windows installer.\n",
    "2. Double click on the downloaded file and install Python for all users.\n",
    "##how to set path variables.\n",
    "Right-clicking This PC and going to Properties.\n",
    "\n",
    "Clicking on the Advanced system settings in the menu on the left.\n",
    "\n",
    "Clicking on the Environment Variables button on the bottom right.\n",
    "\n",
    "In the System variables section, selecting the Path variable and clicking on Edit. The next screen will show all the directories that are currently a part of the PATH variable.\n",
    "\n",
    "Clicking on New and entering Python’s install directory."
   ]
  },
  {
   "cell_type": "code",
   "execution_count": null,
   "id": "95ab99a9-f755-4a15-9bfb-dd2d18e200f7",
   "metadata": {},
   "outputs": [],
   "source": [
    "16. Is indentation required in python? \n",
    "ans=yes indentation is required in python,the number of spaces must be uniform."
   ]
  }
 ],
 "metadata": {
  "kernelspec": {
   "display_name": "Python 3 (ipykernel)",
   "language": "python",
   "name": "python3"
  },
  "language_info": {
   "codemirror_mode": {
    "name": "ipython",
    "version": 3
   },
   "file_extension": ".py",
   "mimetype": "text/x-python",
   "name": "python",
   "nbconvert_exporter": "python",
   "pygments_lexer": "ipython3",
   "version": "3.10.8"
  }
 },
 "nbformat": 4,
 "nbformat_minor": 5
}
