{
 "cells": [
  {
   "cell_type": "markdown",
   "id": "c0ef60f6-46dc-4d13-9bd2-a621a3ad835b",
   "metadata": {},
   "source": [
    "Q1. What is the difference between Ordinal Encoding and Label Encoding? Provide an example of when you\n",
    "might choose one over the other."
   ]
  },
  {
   "cell_type": "markdown",
   "id": "9b431430-bba7-49e9-a05f-836433f7c6fd",
   "metadata": {},
   "source": [
    "Ordinal Encoding assigns each unique category a numerical value, based on its position or rank in the set of categories. For example, if we have three categories: \"Small,\" \"Medium,\" and \"Large,\" we might assign them the values 1, 2, and 3, respectively. Ordinal Encoding preserves the order of the categories but does not necessarily preserve the distance between them.\n",
    "\n",
    "Label Encoding assigns each unique category a unique numerical value, without any regard for the order or relationship between the categories. For example, if we have the same three categories: \"Small,\" \"Medium,\" and \"Large,\" we might assign them the values 1, 2, and 3, respectively. Label Encoding does not preserve the order or relationship between categories, and as a result, may not be appropriate for certain types of data.\n",
    "\n",
    "In general, Ordinal Encoding is more appropriate when there is a clear order or relationship between categories, and Label Encoding is more appropriate when there is no such order or relationship.\n",
    "\n",
    "For example, if we were working with a dataset of clothing sizes, where the sizes were \"Small,\" \"Medium,\" \"Large,\" and \"Extra Large,\" it would make sense to use Ordinal Encoding, as there is a clear order between the sizes.\n",
    "\n",
    "On the other hand, if we were working with a dataset of different colors, such as \"Red,\" \"Green,\" and \"Blue,\" there is no clear order or relationship between the colors, so Label Encoding would be more appropriate."
   ]
  },
  {
   "cell_type": "markdown",
   "id": "19efd9d5-8979-4c34-bb30-d7a504d14aba",
   "metadata": {},
   "source": [
    "Q2. Explain how Target Guided Ordinal Encoding works and provide an example of when you might use it in\n",
    "a machine learning project."
   ]
  },
  {
   "cell_type": "markdown",
   "id": "96187496-4f97-4dbe-b3b7-f24128848685",
   "metadata": {},
   "source": [
    "TARGET GUIDED ORDINAL ENCODING\n",
    "\n",
    "it is a technique used to encode categorical variables based on their relationship with the target variable.this encoding technique is useful when we have a categorical variable with a large number of unique categories and we want to use this variable as a feature in our machine learning model,\n",
    "\n",
    "in target guided ordinal encoding we replace each category in the categorical variavble with a numerical value based on the mean or median of the target variable for that category. this creates a monotonic relationship between the categorical variable and the target variable which can improve the predictive power of our model \n",
    "For example, suppose that in the training set, the probability of a positive review is highest for Italian cuisine (with an average probability of 0.8), followed by Mexican cuisine (with an average probability of 0.6), and then Chinese cuisine (with an average probability of 0.4). We can assign the values 1, 2, and 3 to these cuisine types, respectively, based on their rank. Then, when we encounter a new review with a cuisine type of \"Italian,\" we can encode this feature as a 1, indicating that Italian cuisine is the most likely to result in a positive review."
   ]
  },
  {
   "cell_type": "markdown",
   "id": "5626dcfc-e959-4e28-825d-d2e829c5d219",
   "metadata": {},
   "source": [
    "Q3. Define covariance and explain why it is important in statistical analysis. How is covariance calculated?"
   ]
  },
  {
   "cell_type": "markdown",
   "id": "72aa3c31-cb03-49a0-9ba0-0030ceb10733",
   "metadata": {},
   "source": [
    "Covariance is a measure of how two variables vary together. It measures the joint variability between two variables, indicating whether they tend to increase or decrease together, or whether they vary independently of one another. In other words, covariance measures the strength of the linear relationship between two variables.\n",
    "\n",
    "Covariance is an important concept in statistical analysis because it allows us to understand how two variables are related to each other. It is commonly used in the fields of finance, economics, and data science to measure the relationship between different variables, such as the relationship between two stocks or the relationship between a company's revenue and its advertising spend.\n",
    "\n",
    "Covariance is calculated using the following formula:\n",
    "\n",
    "cov(X,Y) = (1/n) * Σ[(Xi - μX) * (Yi - μY)]"
   ]
  },
  {
   "cell_type": "markdown",
   "id": "e7c389bc-68c3-4376-aff5-e39a532cb7a2",
   "metadata": {},
   "source": [
    "Q4. For a dataset with the following categorical variables: Color (red, green, blue), Size (small, medium,\n",
    "large), and Material (wood, metal, plastic), perform label encoding using Python's scikit-learn library.\n",
    "Show your code and explain the output."
   ]
  },
  {
   "cell_type": "code",
   "execution_count": 1,
   "id": "86d7c643-b149-44d8-8124-608918ee2c72",
   "metadata": {},
   "outputs": [
    {
     "name": "stdout",
     "output_type": "stream",
     "text": [
      "   Color  Size  Material\n",
      "0      2     1         2\n",
      "1      1     2         0\n",
      "2      0     0         1\n",
      "3      1     2         2\n",
      "4      2     1         0\n",
      "5      0     1         1\n"
     ]
    }
   ],
   "source": [
    "from sklearn.preprocessing import LabelEncoder\n",
    "import pandas as pd\n",
    "\n",
    "# create a sample dataset\n",
    "data = {\n",
    "    'Color': ['red', 'green', 'blue', 'green', 'red', 'blue'],\n",
    "    'Size': ['medium', 'small', 'large', 'small', 'medium', 'medium'],\n",
    "    'Material': ['wood', 'metal', 'plastic', 'wood', 'metal', 'plastic'],\n",
    "}\n",
    "\n",
    "df = pd.DataFrame(data)\n",
    "\n",
    "# initialize LabelEncoder\n",
    "le = LabelEncoder()\n",
    "\n",
    "# perform label encoding on categorical variables\n",
    "df['Color'] = le.fit_transform(df['Color'])\n",
    "df['Size'] = le.fit_transform(df['Size'])\n",
    "df['Material'] = le.fit_transform(df['Material'])\n",
    "\n",
    "print(df)\n",
    " we first create a sample dataset with three categorical variables: Color, Size, and Material. We then initialize the LabelEncoder object from scikit-learn's preprocessing module. We use this object to perform label encoding on each of the three categorical variables in our dataset by calling the fit_transform() method on each variable.\n",
    "\n",
    "The label encoding assigns a numerical value to each category in each variable. The numerical values start from 0 and increase by 1 for each unique category in each variable. For example, in the 'Color' variable, 'blue' is assigned a value of 0, 'green' is assigned a value of 1, and 'red' is assigned a value of 2."
   ]
  },
  {
   "cell_type": "code",
   "execution_count": null,
   "id": "c5f6cb1e-42fd-4c19-96ba-538036937d93",
   "metadata": {},
   "outputs": [],
   "source": [
    "Q5. Calculate the covariance matrix for the following variables in a dataset: Age, Income, and Education\n",
    "level. Interpret the results."
   ]
  },
  {
   "cell_type": "code",
   "execution_count": 4,
   "id": "2da680b2-b7e3-4378-aef2-3beecce7d3e4",
   "metadata": {},
   "outputs": [
    {
     "name": "stdout",
     "output_type": "stream",
     "text": [
      "                     Age      Income  Education level\n",
      "Age                 87.5     87500.0             33.0\n",
      "Income           87500.0  87500000.0          33000.0\n",
      "Education level     33.0     33000.0             14.0\n"
     ]
    }
   ],
   "source": [
    "import pandas as pd\n",
    "\n",
    "# create a sample dataset with Age, Income, and Education level\n",
    "data = {\n",
    "    'Age': [30, 40, 50, 35, 45, 55],\n",
    "    'Income': [50000, 60000, 70000, 55000, 65000, 75000],\n",
    "    'Education level': [12, 16, 18, 14, 20, 22],\n",
    "}\n",
    "\n",
    "df = pd.DataFrame(data)\n",
    "\n",
    "# calculate the covariance matrix\n",
    "cov_matrix = df.cov()\n",
    "\n",
    "print(cov_matrix)\n",
    "\n",
    "Interpreting the results, we can see that Income has the highest variance among the three variables, followed by Age and Education level. The covariance between Age and Income is positive, indicating that they tend to increase together. The covariance between Age and Education level is also positive, but much smaller in magnitude, indicating a weaker relationship. The covariance between Income and Education level is also positive, indicating that higher income tends to be associated with higher education level."
   ]
  },
  {
   "cell_type": "markdown",
   "id": "24db73f5-9be3-4702-9390-302647fed2b9",
   "metadata": {},
   "source": [
    "Q6. You are working on a machine learning project with a dataset containing several categorical\n",
    "variables, including \"Gender\" (Male/Female), \"Education Level\" (High School/Bachelor's/Master's/PhD),\n",
    "and \"Employment Status\" (Unemployed/Part-Time/Full-Time). Which encoding method would you use for\n",
    "each variable, and why?"
   ]
  },
  {
   "cell_type": "markdown",
   "id": "5dee1648-77f0-4613-804e-22c01fd6346e",
   "metadata": {},
   "source": [
    "Gender: This variable has two categories, Male and Female, so we could use binary encoding or label encoding. Binary encoding would create a new variable with two binary columns, one for each category, where a value of 1 indicates the presence of the category and 0 indicates its absence. Label encoding would assign a numerical value (e.g. 0 for Male, 1 for Female) to each category. In this case, binary encoding may be more appropriate because it avoids creating an arbitrary numerical ordering that label encoding would imply.\n",
    "\n",
    "Education Level: This variable has four categories, which could be encoded using ordinal encoding or one-hot encoding. Ordinal encoding would assign a numerical value to each category based on its order (e.g. 0 for High School, 1 for Bachelor's, etc.). One-hot encoding would create four binary columns, one for each category, where a value of 1 indicates the presence of the category and 0 indicates its absence. In this case, one-hot encoding may be more appropriate because it avoids imposing an arbitrary order on the categories.\n",
    "\n",
    "Employment Status: This variable has three categories, which could be encoded using one-hot encoding or label encoding. One-hot encoding would create three binary columns, one for each category, where a value of 1 indicates the presence of the category and 0 indicates its absence. Label encoding would assign a numerical value (e.g. 0 for Unemployed, 1 for Part-Time, 2 for Full-Time) to each category. In this case, one-hot encoding may be more appropriate because the numerical values of label encoding imply an order that may not be present in the data."
   ]
  },
  {
   "cell_type": "code",
   "execution_count": null,
   "id": "b4e85f0d-54cd-4981-a309-f0eb23c9fbb5",
   "metadata": {},
   "outputs": [],
   "source": [
    "Q7. You are analyzing a dataset with two continuous variables, \"Temperature\" and \"Humidity\", and two\n",
    "categorical variables, \"Weather Condition\" (Sunny/Cloudy/Rainy) and \"Wind Direction\" (North/South/\n",
    "East/West). Calculate the covariance between each pair of variables and interpret the results."
   ]
  },
  {
   "cell_type": "code",
   "execution_count": 10,
   "id": "82edb095-0de3-4eb5-a8f9-846d3bef0a73",
   "metadata": {},
   "outputs": [
    {
     "name": "stdout",
     "output_type": "stream",
     "text": [
      "[[ 7.3  -6.25]\n",
      " [-6.25 62.5 ]]\n"
     ]
    }
   ],
   "source": [
    "import numpy as np\n",
    "\n",
    "# Example data\n",
    "temperature = [22, 25, 20, 18, 23]\n",
    "humidity = [60, 65, 70, 75, 80]\n",
    "weather_condition = ['Sunny', 'Sunny', 'Cloudy', 'Rainy', 'Cloudy']\n",
    "wind_direction = ['North', 'South', 'East', 'West', 'North']\n",
    "\n",
    "# Create a data matrix with temperature and humidity\n",
    "data = np.array([temperature, humidity])\n",
    "\n",
    "# Calculate the covariance matrix\n",
    "covariance_matrix = np.cov(data)\n",
    "\n",
    "print(covariance_matrix)\n",
    "The diagonal elements represent the variances of each variable (Temperature and Humidity), while the off-diagonal elements represent the covariances between them. The covariance matrix can be interpreted as follows:\n",
    "\n",
    "The variance of Temperature is 7.3, indicating that the Temperature values in the dataset are relatively close to the mean value.\n",
    "The variance of Humidity is 62.5.5, indicating that the Humidity values in the dataset are more spread out compared to the Temperature values.\n",
    "The covariance between Temperature and Humidity is -6.25, indicating that they are negatively correlated. In other words, as Temperature increases, Humidity tends to decrease and vice versa."
   ]
  },
  {
   "cell_type": "code",
   "execution_count": null,
   "id": "677bc4bc-7725-4d48-a7ef-1cbe574c49b0",
   "metadata": {},
   "outputs": [],
   "source": []
  },
  {
   "cell_type": "code",
   "execution_count": null,
   "id": "6d3aa176-8e9d-440a-b12d-6349302a4ef9",
   "metadata": {},
   "outputs": [],
   "source": []
  },
  {
   "cell_type": "code",
   "execution_count": null,
   "id": "9ebb90ba-54d8-4ae5-a44f-fa34d244c05d",
   "metadata": {},
   "outputs": [],
   "source": []
  }
 ],
 "metadata": {
  "kernelspec": {
   "display_name": "Python 3 (ipykernel)",
   "language": "python",
   "name": "python3"
  },
  "language_info": {
   "codemirror_mode": {
    "name": "ipython",
    "version": 3
   },
   "file_extension": ".py",
   "mimetype": "text/x-python",
   "name": "python",
   "nbconvert_exporter": "python",
   "pygments_lexer": "ipython3",
   "version": "3.10.8"
  }
 },
 "nbformat": 4,
 "nbformat_minor": 5
}
