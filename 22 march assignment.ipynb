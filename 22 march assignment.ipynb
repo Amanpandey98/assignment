{
 "cells": [
  {
   "cell_type": "code",
   "execution_count": null,
   "id": "af8bd006-212d-4ef8-b7ee-da4f707b7df5",
   "metadata": {},
   "outputs": [],
   "source": [
    "Q1. Pearson correlation coefficient is a measure of the linear relationship between two variables. Suppose\n",
    "you have collected data on the amount of time students spend studying for an exam and their final exam\n",
    "scores. Calculate the Pearson correlation coefficient between these two variables and interpret the result."
   ]
  },
  {
   "cell_type": "code",
   "execution_count": null,
   "id": "485781b0-d1f2-47d4-b715-6ded37005258",
   "metadata": {},
   "outputs": [],
   "source": [
    "import numpy as np\n",
    "\n",
    "# Example data\n",
    "x = [10, 20, 30, 40, 50]\n",
    "y = [60, 70, 80, 90, 100]\n",
    "\n",
    "# Calculate the Pearson correlation coefficient\n",
    "r = np.corrcoef(x, y)[0, 1]\n",
    "\n",
    "print(r)\n",
    "\n",
    "The Pearson correlation coefficient r ranges between -1 and 1, where -1 indicates a perfect negative linear correlation, 0 indicates no linear correlation, and 1 indicates a perfect positive linear correlation. In this case, we have a value of 1, which indicates a perfect positive linear correlation between the amount of time students spend studying for an exam and their final exam scores. This means that as the amount of time spent studying increases, the final exam scores also increase, and vice versa. However, it's important to note that correlation does not imply causation, and other factors may be influencing the relationship between these two variables.\n"
   ]
  },
  {
   "cell_type": "code",
   "execution_count": null,
   "id": "d0a7c5cc-4841-4b9e-a1c0-971cb66bf462",
   "metadata": {},
   "outputs": [],
   "source": [
    "Q2. Spearman's rank correlation is a measure of the monotonic relationship between two variables.\n",
    "Suppose you have collected data on the amount of sleep individuals get each night and their overall job\n",
    "satisfaction level on a scale of 1 to 10. Calculate the Spearman's rank correlation between these two\n",
    "variables and interpret the result."
   ]
  },
  {
   "cell_type": "code",
   "execution_count": 1,
   "id": "5d9f467f-889e-498e-ac9b-66bacb769ecb",
   "metadata": {},
   "outputs": [
    {
     "name": "stdout",
     "output_type": "stream",
     "text": [
      "0.7454545454545454\n"
     ]
    }
   ],
   "source": [
    "import numpy as np\n",
    "\n",
    "# Example data\n",
    "x = [7, 8, 6, 5, 7, 6, 8, 9, 7, 6]\n",
    "y = [8, 9, 7, 6, 5, 7, 8, 9, 7, 6]\n",
    "\n",
    "# Rank the data\n",
    "x_rank = np.argsort(np.argsort(x))\n",
    "y_rank = np.argsort(np.argsort(y))\n",
    "\n",
    "# Calculate the Pearson correlation coefficient between the ranks\n",
    "r = np.corrcoef(x_rank, y_rank)[0, 1]\n",
    "\n",
    "print(r)\n",
    "The Spearman's rank correlation coefficient r ranges between -1 and 1, where -1 indicates a perfect negative monotonic correlation, 0 indicates no monotonic correlation, and 1 indicates a perfect positive monotonic correlation. In this case, we have a value of 0.7454, which indicates a moderate positive monotonic correlation between the amount of sleep individuals get each night and their overall job satisfaction level. This means that as the amount of sleep increases, the job satisfaction level tends to increase as well, and vice versa, but the relationship is not necessarily linear. It's important to note that like Pearson's correlation coefficient, Spearman's rank correlation coefficient does not imply causation, and other factors may be influencing the relationship between these two variables."
   ]
  },
  {
   "cell_type": "code",
   "execution_count": null,
   "id": "08c4c4a7-eb24-427a-868d-acb042d91947",
   "metadata": {},
   "outputs": [],
   "source": [
    "Q3. Suppose you are conducting a study to examine the relationship between the number of hours of\n",
    "exercise per week and body mass index (BMI) in a sample of adults. You collected data on both variables\n",
    "for 50 participants. Calculate the Pearson correlation coefficient and the Spearman's rank correlation\n",
    "between these two variables and compare the results."
   ]
  },
  {
   "cell_type": "code",
   "execution_count": 3,
   "id": "e1b42550-93b9-4ee6-9b4d-0cb3dbf91eed",
   "metadata": {},
   "outputs": [
    {
     "name": "stdout",
     "output_type": "stream",
     "text": [
      "Pearson correlation coefficient: -0.7100719984652082\n",
      "Spearman's rank correlation coefficient: -0.6911312217194571\n"
     ]
    }
   ],
   "source": [
    "import numpy as np\n",
    "\n",
    "# Example data\n",
    "hours_of_exercise = [5, 7, 2, 4, 6, 3, 8, 5, 6, 7, 1, 3, 4, 2, 1, 5, 6, 7, 3, 2,\n",
    "                     5, 6, 7, 3, 2, 1, 5, 6, 4, 3, 2, 1, 5, 6, 7, 3, 2, 1, 5, 6, 7,\n",
    "                     4, 3, 2, 1, 5, 6, 4, 3, 2, 1]\n",
    "bmi = [25.3, 28.9, 31.2, 26.5, 23.8, 29.1, 21.6, 24.8, 27.9, 22.4, 30.6, 28.5,\n",
    "       25.1, 29.8, 31.9, 26.2, 24.7, 23.6, 29.5, 27.2, 24.5, 23.9, 23.5, 28.3,\n",
    "       29.7, 31.1, 25.8, 24.9, 26.3, 28.7, 30.1, 32.5, 24.3, 26.8, 28.6, 26.1,\n",
    "       27.3, 29.6, 25.5, 26.9, 28.1, 26.4, 27.5, 29.2, 25.6, 27.7, 28.2, 26.6,\n",
    "       27.1, 29.3, 30.2]\n",
    "\n",
    "# Calculate Pearson correlation coefficient\n",
    "r = np.corrcoef(hours_of_exercise, bmi)[0, 1]\n",
    "\n",
    "# Calculate Spearman's rank correlation coefficient\n",
    "hours_rank = np.argsort(np.argsort(hours_of_exercise))\n",
    "bmi_rank = np.argsort(np.argsort(bmi))\n",
    "rs = np.corrcoef(hours_rank, bmi_rank)[0, 1]\n",
    "\n",
    "print(\"Pearson correlation coefficient:\", r)\n",
    "print(\"Spearman's rank correlation coefficient:\", rs)\n",
    "\n",
    "The Pearson correlation coefficient r is -0.7100719984652082, indicating a moderate negative correlation between the number of hours of exercise per week and BMI. This means that as the number of hours of exercise per week increases, the BMI tends to decrease, and vice versa.\n",
    "\n",
    "The Spearman's rank correlation coefficient rs is also negative, with a value of -0.6911312217194571, indicating a moderate negative monotonic correlation between the number of hours of exercise per week and BMI. This means that as the number of hours of exercise per week increases, the BMI tends to decrease, and vice versa, but the relationship is not necessarily linear."
   ]
  },
  {
   "cell_type": "code",
   "execution_count": null,
   "id": "8964140e-dc17-461e-a317-03dfe7c4270e",
   "metadata": {},
   "outputs": [],
   "source": [
    "Q4. A researcher is interested in examining the relationship between the number of hours individuals\n",
    "spend watching television per day and their level of physical activity. The researcher collected data on\n",
    "both variables from a sample of 50 participants. Calculate the Pearson correlation coefficient between\n",
    "these two variables."
   ]
  },
  {
   "cell_type": "code",
   "execution_count": 6,
   "id": "f3a681d0-2b65-41db-b9bf-f59ba765a909",
   "metadata": {},
   "outputs": [
    {
     "name": "stdout",
     "output_type": "stream",
     "text": [
      "-0.19165334862837358\n"
     ]
    }
   ],
   "source": [
    "import numpy as np\n",
    "\n",
    "tv_hours = [4, 2, 3, 6, 5, 7, 4, 6, 1, 2, 3, 5, 4, 7, 6, 5, 2, 1, 3, 5, 2, 4, 3, 6, 7, 1, 2, 3, 5, 4, 6, 2, 3, 4, 5, 1,  3, 6, 7, 5, 4, 2, 1, 3, 5, 6, 4, 7, 2, 5]\n",
    "pa_level = [2, 4, 3, 2, 4, 2, 3, 4, 5, 4, 3, 4, 3, 2, 4, 3, 4, 5, 3, 4, 3, 4, 5, 4, 2, 2, 4, 3, 4, 2, 4, 3, 4, 3, 4, 2, 3, 4, 3, 2, 3, 4, 3, 4, 2, 4, 3, 4, 5, 4]\n",
    "r=np.corrcoef(tv_hours,pa_level)[0,1]\n",
    "print(r)"
   ]
  },
  {
   "cell_type": "markdown",
   "id": "6f1dccaf-2e8d-4532-ae36-d25bba91d370",
   "metadata": {},
   "source": [
    "Q5. A survey was conducted to examine the relationship between age and preference for a particular\n",
    "brand of soft drink. The survey results are shown below:\n",
    "\n",
    "Q6. A company is interested in examining the relationship between the number of sales calls made per day\n",
    "and the number of sales made per week. The company collected data on both variables from a sample of\n",
    "30 sales representatives. Calculate the Pearson correlation coefficient between these two variables.\n",
    "\n",
    "Note: Create your assignment in Jupyter notebook and upload it to GitHub & share that github repository\n",
    "link through your dashboard. Make sure the repository is public.\n",
    "Age(Years)\n",
    "25 Coke\n",
    "42 Pepsi\n",
    "37\n",
    "19\n",
    "31\n",
    "28\n",
    "\n",
    "Mountain dew\n",
    "Coke\n",
    "Pepsi\n",
    "Coke"
   ]
  },
  {
   "cell_type": "code",
   "execution_count": 7,
   "id": "7f024d68-4868-4597-82e6-b8eb57d43e02",
   "metadata": {},
   "outputs": [
    {
     "name": "stdout",
     "output_type": "stream",
     "text": [
      "Pearson correlation coefficient: 1.00\n"
     ]
    }
   ],
   "source": [
    "import pandas as pd\n",
    "import numpy as np\n",
    "\n",
    "# create a sample dataset\n",
    "sales_df = pd.DataFrame({\n",
    "    'X': [20, 25, 30, 35, 40, 45, 50, 55, 60, 65, 70, 75, 80, 85, 90, 95, 100, 105, 110, 115, 120, 125, 130, 135, 140, 145, 150, 155, 160, 165],\n",
    "    'Y': [4, 7, 6, 8, 11, 14, 15, 18, 20, 21, 24, 26, 28, 30, 32, 34, 36, 38, 40, 42, 44, 46, 48, 50, 52, 54, 56, 58, 60, 62]\n",
    "})\n",
    "\n",
    "# calculate the Pearson correlation coefficient\n",
    "corr_coef = np.corrcoef(sales_df['X'], sales_df['Y'])[0, 1]\n",
    "print(f\"Pearson correlation coefficient: {corr_coef:.2f}\")\n",
    "As per the given survey results, there doesn't seem to be a clear relationship between age and preference for a particular brand of soft drink. Each age group has a relatively even distribution of preferences for the three brands of soft drinks. Therefore, it can be concluded that age does not have a strong impact on the preference for a particular brand of soft drink."
   ]
  },
  {
   "cell_type": "code",
   "execution_count": null,
   "id": "39a9fd1b-f76b-48a9-a08f-12323e61bf81",
   "metadata": {},
   "outputs": [],
   "source": [
    "Q6. A company is interested in examining the relationship between the number of sales calls made per day\n",
    "and the number of sales made per week. The company collected data on both variables from a sample of\n",
    "30 sales representatives. Calculate the Pearson correlation coefficient between these two variables."
   ]
  },
  {
   "cell_type": "code",
   "execution_count": 8,
   "id": "0bf8d57d-9783-41df-88c6-d6122472fe0f",
   "metadata": {},
   "outputs": [
    {
     "name": "stdout",
     "output_type": "stream",
     "text": [
      "0.9637130085158627\n"
     ]
    }
   ],
   "source": [
    "import numpy as np\n",
    "\n",
    "# input data\n",
    "sales_calls = [15, 20, 25, 30, 10, 12, 18, 22, 28, 32, 17, 19, 21, 23, 27, 29, 24, 26, 16, 14, 11, 13, 31, 33, 34, 35, 36, 37, 38, 39]\n",
    "sales_made = [5, 7, 10, 15, 2, 4, 6, 8, 12, 14, 4, 6, 8, 10, 12, 14, 11, 13, 3, 2, 1, 2, 16, 18, 20, 22, 24, 26, 28, 30]\n",
    "r=np.corrcoef(sales_calls,sales_made )[0,1]\n",
    "print(r)"
   ]
  },
  {
   "cell_type": "code",
   "execution_count": null,
   "id": "33490f95-1253-47b5-807b-aae35d10eee5",
   "metadata": {},
   "outputs": [],
   "source": []
  },
  {
   "cell_type": "code",
   "execution_count": null,
   "id": "355a4ac2-4fd2-40d9-92e1-ee0aac4c6361",
   "metadata": {},
   "outputs": [],
   "source": []
  }
 ],
 "metadata": {
  "kernelspec": {
   "display_name": "Python 3 (ipykernel)",
   "language": "python",
   "name": "python3"
  },
  "language_info": {
   "codemirror_mode": {
    "name": "ipython",
    "version": 3
   },
   "file_extension": ".py",
   "mimetype": "text/x-python",
   "name": "python",
   "nbconvert_exporter": "python",
   "pygments_lexer": "ipython3",
   "version": "3.10.8"
  }
 },
 "nbformat": 4,
 "nbformat_minor": 5
}
