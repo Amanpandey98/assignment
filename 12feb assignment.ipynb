{
 "cells": [
  {
   "cell_type": "code",
   "execution_count": null,
   "id": "eed57bf2-045e-4740-8f81-6d2156906379",
   "metadata": {},
   "outputs": [],
   "source": [
    "Q1.what is an Exception in python?write the difference between Exception and syntax errors."
   ]
  },
  {
   "cell_type": "code",
   "execution_count": null,
   "id": "6f6fbcfa-c09c-4700-805d-5757f4b149f0",
   "metadata": {},
   "outputs": [],
   "source": []
  },
  {
   "cell_type": "code",
   "execution_count": null,
   "id": "fb5ec9fd-c308-4d1d-97c0-125cdfe18e4f",
   "metadata": {},
   "outputs": [],
   "source": []
  },
  {
   "cell_type": "code",
   "execution_count": null,
   "id": "09f6015e-ff07-4c65-8cb8-3d5099571cdd",
   "metadata": {},
   "outputs": [],
   "source": [
    "Errors and Exceptions in Python. Errors are the problems in a program due to which the program will stop the execution. On the other hand, exceptions are raised when some internal events occur which changes the normal flow of the program"
   ]
  },
  {
   "cell_type": "code",
   "execution_count": null,
   "id": "c3618e17-9e3a-469f-9c2d-8a5b1fba5ee9",
   "metadata": {},
   "outputs": [],
   "source": [
    "Q2. What happens when Exception is not handeled?explain with an example.\n"
   ]
  },
  {
   "cell_type": "code",
   "execution_count": 2,
   "id": "3bbcd3b0-b0f1-4deb-bcdd-83057d92f74f",
   "metadata": {},
   "outputs": [
    {
     "ename": "ZeroDivisionError",
     "evalue": "division by zero",
     "output_type": "error",
     "traceback": [
      "\u001b[0;31m---------------------------------------------------------------------------\u001b[0m",
      "\u001b[0;31mZeroDivisionError\u001b[0m                         Traceback (most recent call last)",
      "Cell \u001b[0;32mIn[2], line 12\u001b[0m\n\u001b[1;32m      9\u001b[0m a \u001b[38;5;241m=\u001b[39m \u001b[38;5;241m10\u001b[39m\n\u001b[1;32m     10\u001b[0m b \u001b[38;5;241m=\u001b[39m \u001b[38;5;241m0\u001b[39m\n\u001b[0;32m---> 12\u001b[0m result \u001b[38;5;241m=\u001b[39m \u001b[43mdivide_numbers\u001b[49m\u001b[43m(\u001b[49m\u001b[43ma\u001b[49m\u001b[43m,\u001b[49m\u001b[43m \u001b[49m\u001b[43mb\u001b[49m\u001b[43m)\u001b[49m\n\u001b[1;32m     13\u001b[0m \u001b[38;5;28mprint\u001b[39m(result)\n\u001b[1;32m     14\u001b[0m \u001b[38;5;66;03m##In this example, the divide_numbers() function tries to divide a by b, but when b is equal to zero, a ZeroDivisionError is raised. However, there is no try-except block in the program that can handle this exception, so the exception propagates up the call stack until it reaches the top of the stack, causing the program to terminate with an error message like this:\u001b[39;00m\n",
      "Cell \u001b[0;32mIn[2], line 6\u001b[0m, in \u001b[0;36mdivide_numbers\u001b[0;34m(a, b)\u001b[0m\n\u001b[1;32m      5\u001b[0m \u001b[38;5;28;01mdef\u001b[39;00m \u001b[38;5;21mdivide_numbers\u001b[39m(a, b):\n\u001b[0;32m----> 6\u001b[0m     result \u001b[38;5;241m=\u001b[39m \u001b[43ma\u001b[49m\u001b[43m \u001b[49m\u001b[38;5;241;43m/\u001b[39;49m\u001b[43m \u001b[49m\u001b[43mb\u001b[49m\n\u001b[1;32m      7\u001b[0m     \u001b[38;5;28;01mreturn\u001b[39;00m result\n",
      "\u001b[0;31mZeroDivisionError\u001b[0m: division by zero"
     ]
    }
   ],
   "source": [
    "##When an exception is not handled in a program, it will propagate up the call stack until it either encounters a try-except block that can handle the exception or it reaches the top of the stack and causes the program to terminate.\n",
    "\n",
    "##Here's an example to illustrate this:\n",
    "\n",
    "def divide_numbers(a, b):\n",
    "    result = a / b\n",
    "    return result\n",
    "\n",
    "a = 10\n",
    "b = 0\n",
    "\n",
    "result = divide_numbers(a, b)\n",
    "print(result)\n",
    "##In this example, the divide_numbers() function tries to divide a by b, but when b is equal to zero, a ZeroDivisionError is raised. However, there is no try-except block in the program that can handle this exception, so the exception propagates up the call stack until it reaches the top of the stack, causing the program to terminate with an error message like this:\n"
   ]
  },
  {
   "cell_type": "code",
   "execution_count": null,
   "id": "d66dc089-0244-4780-928b-56f2a759aef2",
   "metadata": {},
   "outputs": [],
   "source": [
    "Q3.which python statement are used to catch and handle exceptions?explain with an example.\n"
   ]
  },
  {
   "cell_type": "code",
   "execution_count": 6,
   "id": "a104ab1e-8b45-4a7c-bfe9-a62bddf7c8db",
   "metadata": {},
   "outputs": [
    {
     "name": "stdout",
     "output_type": "stream",
     "text": [
      "this is exception case [Errno 2] No such file or directory: 'text21.txt'\n"
     ]
    }
   ],
   "source": [
    "##in Python, we use the try and except statements to catch and handle exceptions. The try statement is used to enclose the code that may raise an exception, and the except statement is used to catch and handle the exception.\n",
    "\n",
    "##Here's an example to illustrate the use of try and except statements:\n",
    "try:\n",
    "    f=open(\"text21.txt\",\"r\")##here we do not have any text21 file so it will raise an error so we are using exception.\n",
    "except Exception as e:\n",
    "    print(\"this is exception case\",e)\n"
   ]
  },
  {
   "cell_type": "code",
   "execution_count": null,
   "id": "b9545f44-121c-420d-87e8-6674e01b42c2",
   "metadata": {},
   "outputs": [],
   "source": [
    "Q4. Explain with an example:\n",
    "a.try and else\n",
    "b.finally\n",
    "c.raise"
   ]
  },
  {
   "cell_type": "code",
   "execution_count": null,
   "id": "150dd02f-3fb4-41a5-b667-1408c5e6fa0b",
   "metadata": {},
   "outputs": [],
   "source": [
    "a. try and else:\n",
    "\n",
    "In Python, we can use the else block along with the try block to define a code block that will be executed only if the try block executes without raising any exceptions. Here's an example:\n",
    "\n",
    "try:\n",
    "    x = int(input(\"Enter a number: \"))\n",
    "except ValueError:\n",
    "    print(\"Invalid input!\")\n",
    "else:\n",
    "    print(\"You entered:\", x)\n",
    "    \n",
    "b. finally:\n",
    "\n",
    "In Python, we can use the finally block along with the try block to define a code block that will be executed regardless of whether an exception was raised or not. Here's an example:\n",
    "try:\n",
    "    file = open(\"example.txt\", \"r\")\n",
    "    data = file.read()\n",
    "    print(data)\n",
    "except FileNotFoundError:\n",
    "    print(\"File not found!\")\n",
    "finally:\n",
    "    file.close()\n",
    "\n",
    "    \n",
    "c. raise:\n",
    "\n",
    "In Python, we can use the raise statement to raise an exception manually. Here's an example:\n"
   ]
  },
  {
   "cell_type": "code",
   "execution_count": null,
   "id": "f107d3d0-7b5f-4afb-b3d0-cbd91f25acc6",
   "metadata": {},
   "outputs": [],
   "source": [
    "Q5.what are custom Exception in python?why do we need custom Exceptions?explain with an example"
   ]
  },
  {
   "cell_type": "code",
   "execution_count": null,
   "id": "9ee9044e-5c5f-4339-bf74-9bb0d8a53ab9",
   "metadata": {},
   "outputs": [],
   "source": [
    "Custom exceptions in Python are user-defined exceptions that inherit from the built-in Exception class. We can create our own custom exception classes by defining a new class that inherits from Exception, and then we can raise instances of this exception class when appropriate.\n",
    "\n",
    "We need custom exceptions in Python to handle specific errors that may occur in our program that are not covered by the built-in exceptions. By defining our own custom exceptions, we can make our code more readable and easier to debug, and we can provide more specific information about the error that occurred.\n",
    "\n",
    "Here's an example of a custom exception class in Python:\n"
   ]
  },
  {
   "cell_type": "code",
   "execution_count": 20,
   "id": "4173b5bf-c175-4cdf-91ea-e06a238e5a65",
   "metadata": {},
   "outputs": [
    {
     "name": "stdin",
     "output_type": "stream",
     "text": [
      "enter the age -454\n"
     ]
    },
    {
     "name": "stdout",
     "output_type": "stream",
     "text": [
      "entered age is negative\n"
     ]
    }
   ],
   "source": [
    "class validateage(Exception):\n",
    "    def __init__(self,msg):\n",
    "        self.msg=msg\n",
    "def validaetage(age):\n",
    "    if age < 0:\n",
    "        raise validateage(\"entered age is negative\")\n",
    "    elif age > 200:\n",
    "        raise validateage(\"immortral\")\n",
    "    else:\n",
    "        print(\"age is valid\")\n",
    "try:\n",
    "    age=int(input(\"enter the age\"))\n",
    "    validaetage(age)\n",
    "except validateage as e:\n",
    "    print(e)     \n",
    "\n",
    "      "
   ]
  },
  {
   "cell_type": "code",
   "execution_count": null,
   "id": "026acedf-f70b-404f-a2e5-b64102b67b75",
   "metadata": {},
   "outputs": [],
   "source": [
    "\n",
    "     "
   ]
  },
  {
   "cell_type": "code",
   "execution_count": null,
   "id": "6577ba5d-3a48-4ae2-9645-aea2cc4228ce",
   "metadata": {},
   "outputs": [],
   "source": []
  },
  {
   "cell_type": "code",
   "execution_count": null,
   "id": "1ae1413d-b42c-495d-89d9-b3f9969e4963",
   "metadata": {},
   "outputs": [],
   "source": [
    "Q6.create an custom Exception class.use this class to handle an exception "
   ]
  },
  {
   "cell_type": "code",
   "execution_count": 19,
   "id": "3641fe4d-f727-4799-aa49-8c911005738a",
   "metadata": {},
   "outputs": [
    {
     "name": "stdout",
     "output_type": "stream",
     "text": [
      "Error: Invalid input: -10 is a negative number.\n"
     ]
    }
   ],
   "source": [
    "class NegativeNumberError(Exception):\n",
    "    def __init__(self, number):\n",
    "        self.number = number\n",
    "        super().__init__(f\"Invalid input: {number} is a negative number.\")\n",
    "\n",
    "def square_root(num):\n",
    "    if num < 0:\n",
    "        raise NegativeNumberError(num)\n",
    "    return num ** 0.5\n",
    "\n",
    "try:\n",
    "    result = square_root(-10)\n",
    "    print(\"Square root:\", result)\n",
    "except NegativeNumberError as e:\n",
    "    print(\"Error:\", e)\n"
   ]
  },
  {
   "cell_type": "code",
   "execution_count": null,
   "id": "771db7a2-7bd1-43b7-9c16-b28f4efa9bb5",
   "metadata": {},
   "outputs": [],
   "source": []
  }
 ],
 "metadata": {
  "kernelspec": {
   "display_name": "Python 3 (ipykernel)",
   "language": "python",
   "name": "python3"
  },
  "language_info": {
   "codemirror_mode": {
    "name": "ipython",
    "version": 3
   },
   "file_extension": ".py",
   "mimetype": "text/x-python",
   "name": "python",
   "nbconvert_exporter": "python",
   "pygments_lexer": "ipython3",
   "version": "3.10.8"
  }
 },
 "nbformat": 4,
 "nbformat_minor": 5
}
