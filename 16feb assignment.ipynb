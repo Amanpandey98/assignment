{
 "cells": [
  {
   "cell_type": "code",
   "execution_count": null,
   "id": "d7987539-c0e5-4a15-ac24-2577035c4664",
   "metadata": {},
   "outputs": [],
   "source": [
    "Q1. What is a database? Differentiate between SQL and NoSQL databases."
   ]
  },
  {
   "cell_type": "code",
   "execution_count": null,
   "id": "9eb6df20-0696-45f6-85ba-e8908126867b",
   "metadata": {},
   "outputs": [],
   "source": [
    "A database is an organized collection of structured information, or data, typically stored electronically in a computer system. A database is usually controlled by a database management system (DBMS).\n",
    "SQL is the programming language used to interface with relational databases. (Relational databases model data as records in rows and tables with logical links between them). NoSQL is a class of DBMs that are non-relational and generally do not use SQL.\n"
   ]
  },
  {
   "cell_type": "code",
   "execution_count": null,
   "id": "d25fadfc-5a7d-4e83-91e4-563145a9ba10",
   "metadata": {},
   "outputs": [],
   "source": [
    "Q2. What is DDL? Explain why CREATE, DROP, ALTER, and TRUNCATE are used with an example."
   ]
  },
  {
   "cell_type": "code",
   "execution_count": null,
   "id": "2e2ad20d-2e46-4d73-a47d-941c49573fe5",
   "metadata": {},
   "outputs": [],
   "source": [
    "DDL stands for Data Definition Language, which is a set of SQL commands used to define and manage the structure of a database. DDL commands are used to create, modify, and delete database objects like tables, views, indexes, and procedures.\n",
    "here are the examples-:\n",
    "1.CREATE: This command is used to create a new database object such as a table, view, index, or stored procedure. The syntax for creating a table is as follows:\n",
    "CREATE TABLE employees (\n",
    "  id INT PRIMARY KEY,\n",
    "  name VARCHAR(50) NOT NULL,\n",
    "  department VARCHAR(50),\n",
    "  salary DECIMAL(10,2)\n",
    ");\n",
    "\n",
    "2.DROP: This command is used to delete a database object such as a table, view, index, or stored procedure. The syntax for dropping a table is as follows:\n",
    "DROP  table employees;\n",
    "\n",
    "3.ALTER: This command is used to modify the structure of an existing database object such as a table, view, or stored procedure. The syntax for adding a column to a table is as follows\n",
    "ALTER TABLE employees ADD email VARCHAR(100);\n",
    "\n",
    "4.TRUNCATE: This command is used to delete all data from a table, but not the table itself. The syntax for truncating a table is as follows:\n",
    "TRUNCATE TABLE employees;\n",
    " "
   ]
  },
  {
   "cell_type": "code",
   "execution_count": null,
   "id": "f2f2de8d-9504-4f52-b446-bcbbe369e8e7",
   "metadata": {},
   "outputs": [],
   "source": [
    "Q3. What is DML? Explain INSERT, UPDATE, and DELETE with an example."
   ]
  },
  {
   "cell_type": "code",
   "execution_count": null,
   "id": "c4a6d2bd-a04e-4275-8763-8c8da78ed7bd",
   "metadata": {},
   "outputs": [],
   "source": [
    "DML stands for Data Manipulation Language, which is a set of SQL commands used to manipulate the data stored in a database. DML commands are used to insert, update, and delete records in a database.\n",
    "\n",
    "Here are some of the commonly used DML commands in SQL:\n",
    "\n",
    "1.INSERT: This command is used to insert new records into a table. The syntax for inserting a record is as follows:\n",
    "INSERT INTO employees (employee_id, first_name, last_name, email, hire_date)\n",
    "VALUES (1, 'John', 'Doe', 'johndoe@example.com', '2022-01-01');\n",
    "\n",
    "2.UPDATE: This command is used to update existing records in a table. The syntax for updating a record is as follows:\n",
    "UPDATE employees\n",
    "SET email = 'johndoe_updated@example.com'\n",
    "WHERE employee_id = 1;\n",
    "\n",
    "3.DELETE: This command is used to delete records from a table. The syntax for deleting a record is as follows:\n",
    "DELETE FROM employees\n",
    "WHERE employee_id = 1;\n",
    "\n"
   ]
  },
  {
   "cell_type": "code",
   "execution_count": null,
   "id": "3e792279-7d21-4b71-aec1-c6d83f6b8ce1",
   "metadata": {},
   "outputs": [],
   "source": [
    "Q4. What is DQL? Explain SELECT with an example."
   ]
  },
  {
   "cell_type": "code",
   "execution_count": null,
   "id": "c8944a5b-1622-4e48-bd9c-a88b84a57a07",
   "metadata": {},
   "outputs": [],
   "source": [
    "DQL stands for Data Query Language, which is a set of SQL commands used to query the data stored in a database. DQL commands are used to retrieve data from one or more tables and can be used to filter, sort, and group the results.\n",
    "\n",
    "Here is an example of a commonly used DQL command:\n",
    "\n",
    "SELECT: This command is used to retrieve data from one or more tables in a database. The syntax for selecting data is as follows:\n",
    "1.SELECT employee_id, first_name, last_name\n",
    "FROM employees\n",
    "WHERE hire_date >= '2022-01-01' AND hire_date <= '2022-12-31';\n",
    "\n"
   ]
  },
  {
   "cell_type": "code",
   "execution_count": null,
   "id": "372d4e24-3bfb-445e-944d-17f7ef1a5ccb",
   "metadata": {},
   "outputs": [],
   "source": [
    "Q5. Explain Primary Key and Foreign Key."
   ]
  },
  {
   "cell_type": "code",
   "execution_count": null,
   "id": "9fc87205-dc69-4186-ad7a-035660b7c017",
   "metadata": {},
   "outputs": [],
   "source": [
    "In a relational database, a primary key and a foreign key are used to establish a relationship between two tables.\n",
    "1.Primary Key: A primary key is a column or a set of columns in a table that uniquely identifies each row in the table. A primary key is used to enforce the integrity of the data in the table by ensuring that each row is unique and can be identified easily. Typically, the primary key is created when the table is created and cannot be NULL or duplicated.\n",
    "2.Foreign Key: A foreign key is a column or a set of columns in one table that refers to the primary key of another table. The purpose of a foreign key is to establish a relationship between two tables and ensure the referential integrity of the data. When a foreign key is created, it references the primary key of another table, and it is used to enforce constraints that prevent data inconsistencies."
   ]
  },
  {
   "cell_type": "code",
   "execution_count": null,
   "id": "015b0755-53ab-4c0a-ace5-641d47bc0d6b",
   "metadata": {},
   "outputs": [],
   "source": [
    "Q6. Write a python code to connect MySQL to python. Explain the cursor() and execute() method."
   ]
  },
  {
   "cell_type": "code",
   "execution_count": null,
   "id": "8dc7f4d7-974d-4719-9dcb-1efdfb9031c3",
   "metadata": {},
   "outputs": [],
   "source": [
    "import mysql.connector\n",
    "\n",
    "# Establishing a connection to the MySQL database\n",
    "mydb = mysql.connector.connect(\n",
    "  host=\"localhost\",\n",
    "  user=\"yourusername\",\n",
    "  password=\"yourpassword\",\n",
    "  database=\"yourdatabase\"\n",
    ")\n",
    "\n",
    "# Creating a cursor object\n",
    "mycursor = mydb.cursor()\n",
    "\n",
    "# Executing a SQL query using the cursor object\n",
    "mycursor.execute(\"SELECT * FROM mytable\")\n",
    "\n",
    "# Fetching the result of the query\n",
    "result = mycursor.fetchall()\n",
    "\n",
    "# Printing the result\n",
    "for row in result:\n",
    "  print(row)\n",
    "\n",
    "hence,the cursor() method is used to create a cursor object that allows us to execute SQL statements and fetch data from the database. The execute() method is used to execute a SQL statement and return the results of the query."
   ]
  },
  {
   "cell_type": "code",
   "execution_count": null,
   "id": "37401ee3-68fd-48c7-8485-e8404bce234e",
   "metadata": {},
   "outputs": [],
   "source": [
    "Q7. Give the order of execution of SQL clauses in an SQL query."
   ]
  },
  {
   "cell_type": "code",
   "execution_count": null,
   "id": "0a090f03-72bd-4c2a-b9f6-b8e9cbe5a685",
   "metadata": {},
   "outputs": [],
   "source": [
    "The order of execution of SQL clauses in an SQL query is as follows:\n",
    "\n",
    "1.FROM clause: The FROM clause specifies the tables from which the data will be retrieved.\n",
    "\n",
    "2.JOIN clause: If the query involves joining multiple tables, the JOIN clause is executed next.\n",
    "\n",
    "3.WHERE clause: The WHERE clause filters the data based on a specified condition.\n",
    "\n",
    "4.GROUP BY clause: If the query involves grouping the data, the GROUP BY clause is executed next.\n",
    "\n",
    "5.HAVING clause: The HAVING clause filters the data based on a specified condition, but for groups rather than individual rows.\n",
    "\n",
    "6.SELECT clause: The SELECT clause specifies the columns to be included in the query result.\n",
    "\n",
    "7.DISTINCT clause: If the query includes the DISTINCT keyword, duplicates are removed at this stage.\n",
    "\n",
    "8.ORDER BY clause: If the query includes an ORDER BY clause, the data is sorted based on the specified column(s).\n",
    "\n",
    "9.LIMIT/OFFSET clauses: If the query includes LIMIT and/or OFFSET clauses, the data is restricted to the specified number of rows, starting at the specified offset."
   ]
  }
 ],
 "metadata": {
  "kernelspec": {
   "display_name": "Python 3 (ipykernel)",
   "language": "python",
   "name": "python3"
  },
  "language_info": {
   "codemirror_mode": {
    "name": "ipython",
    "version": 3
   },
   "file_extension": ".py",
   "mimetype": "text/x-python",
   "name": "python",
   "nbconvert_exporter": "python",
   "pygments_lexer": "ipython3",
   "version": "3.10.8"
  }
 },
 "nbformat": 4,
 "nbformat_minor": 5
}
