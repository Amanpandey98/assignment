{
 "cells": [
  {
   "cell_type": "code",
   "execution_count": null,
   "id": "5e963c7f-79dd-4616-99c3-b0ab88512258",
   "metadata": {},
   "outputs": [],
   "source": [
    "Q1.what is multithreading in python? why is it used? Name the module used to handle threads in python"
   ]
  },
  {
   "cell_type": "code",
   "execution_count": null,
   "id": "3480a4c4-0276-4550-8e52-bdd51ba17a0d",
   "metadata": {},
   "outputs": [],
   "source": [
    "Multithreading in Python is the ability of a program to concurrently execute multiple threads or parts of a program. In other words, it allows a program to perform multiple tasks simultaneously, by dividing the work into smaller parts that can be executed in parallel.\n",
    "\n",
    "Multithreading is used in Python to improve the performance of a program by making it more responsive and efficient, especially in cases where the program needs to perform multiple tasks concurrently, such as handling user input, responding to network requests, and performing complex calculations.\n",
    "\n",
    "The threading module is used to handle threads in Python. This module provides a simple way to create, start, and manage threads in a Python program. "
   ]
  },
  {
   "cell_type": "code",
   "execution_count": null,
   "id": "181cae20-7d0f-495b-90aa-f4182d4bccf5",
   "metadata": {},
   "outputs": [],
   "source": [
    "Q2.why threading module used?write the use of the following functions\n",
    "1.activeCount()\n",
    "2.currentThread()\n",
    "3.enumerate()"
   ]
  },
  {
   "cell_type": "code",
   "execution_count": null,
   "id": "29f7c246-4a56-410f-9c93-db52636286fe",
   "metadata": {},
   "outputs": [],
   "source": [
    "The threading module in Python is used to create and manage threads in a program. It provides a simple and efficient way to write concurrent programs, which can improve the performance and responsiveness of a program. Here are some common use cases of the threading module:\n",
    "\n",
    "1.activeCount(): This function is used to get the number of currently active threads in a Python program. It returns an integer value, which indicates the total number of threads that are currently running, including the main thread. This function can be useful for monitoring the performance of a program and identifying any potential bottlenecks that may be caused by excessive thread creation.\n",
    "\n",
    "2.currentThread(): This function is used to get a reference to the currently executing thread in a Python program. It returns a Thread object, which represents the thread that is currently running. This function can be used to perform various operations on the current thread, such as setting or getting the name of the thread, identifying its ID, or checking if it is a daemon thread.\n",
    "\n",
    "3.enumerate(): This function is used to get a list of all active thread objects in a Python program. It returns a list of Thread objects, which represent all the threads that are currently running. This function can be useful for debugging or monitoring the performance of a program, as it allows you to inspect the state of all threads in the program and identify any potential issues that may be caused by thread synchronization or race conditions."
   ]
  },
  {
   "cell_type": "code",
   "execution_count": null,
   "id": "6bc5ec9a-871f-4d1a-bb1c-a9b38e6da8ec",
   "metadata": {},
   "outputs": [],
   "source": [
    "Q3. Explain the following functions\n",
    "1.run()\n",
    "2.start()\n",
    "3.join()\n",
    "4.isAlive()"
   ]
  },
  {
   "cell_type": "code",
   "execution_count": null,
   "id": "6b9b7c73-300d-4014-a2e9-f06a7dc22f37",
   "metadata": {},
   "outputs": [],
   "source": [
    "In Python threading module, the Thread class provides several methods for managing threads. Here are the explanations of the following methods:\n",
    "\n",
    "1.run(): This method is the entry point for a thread execution. It defines the behavior of the thread when it is started, and typically contains the code that will be executed concurrently with other threads. \n",
    "\n",
    "2.start(): This method is used to start a thread execution. It schedules the thread to begin running in the near future, and returns immediately without waiting for the thread to complete. \n",
    "\n",
    "3.join(): This method is used to wait for a thread to complete its execution. When a thread is joined, the calling thread will block and wait for the joined thread to complete before continuing. \n",
    "\n",
    "4.isAlive(): This method is used to check if a thread is currently running. It returns a boolean value, which is True if the thread is still running, and False otherwise."
   ]
  },
  {
   "cell_type": "code",
   "execution_count": null,
   "id": "0b2b6f3d-3de7-4ab3-935e-77b967903db9",
   "metadata": {},
   "outputs": [],
   "source": [
    "Q4.write a python program to create two threads. Thread one must print the list of squares and thread\n",
    "two must print the list of cubes."
   ]
  },
  {
   "cell_type": "code",
   "execution_count": 1,
   "id": "3227d605-e595-4a0a-93ed-22769a0e58d8",
   "metadata": {},
   "outputs": [
    {
     "name": "stdout",
     "output_type": "stream",
     "text": [
      "1\n",
      "4\n",
      "9\n",
      "16\n",
      "25\n",
      "36\n",
      "49\n",
      "64\n",
      "81\n",
      "100\n",
      "1\n",
      "8\n",
      "27\n",
      "64\n",
      "125\n",
      "216\n",
      "343\n",
      "512\n",
      "729\n",
      "1000\n",
      "Both threads have completed their work.\n"
     ]
    }
   ],
   "source": [
    "import threading\n",
    "\n",
    "def print_squares():\n",
    "    squares = [x ** 2 for x in range(1, 11)]\n",
    "    for square in squares:\n",
    "        print(square)\n",
    "\n",
    "def print_cubes():\n",
    "    cubes = [x ** 3 for x in range(1, 11)]\n",
    "    for cube in cubes:\n",
    "        print(cube)\n",
    "\n",
    "if __name__ == \"__main__\":\n",
    "    # Create the first thread to print squares\n",
    "    t1 = threading.Thread(target=print_squares)\n",
    "\n",
    "    # Create the second thread to print cubes\n",
    "    t2 = threading.Thread(target=print_cubes)\n",
    "\n",
    "    # Start both threads\n",
    "    t1.start()\n",
    "    t2.start()\n",
    "\n",
    "    # Wait for both threads to finish\n",
    "    t1.join()\n",
    "    t2.join()\n",
    "\n",
    "    print(\"Both threads have completed their work.\")\n"
   ]
  },
  {
   "cell_type": "code",
   "execution_count": null,
   "id": "75009518-b546-4a71-b541-d1bb05f0d251",
   "metadata": {},
   "outputs": [],
   "source": [
    "Q5.State advantages and disadvantages of multithreading."
   ]
  },
  {
   "cell_type": "code",
   "execution_count": null,
   "id": "c7e4bedb-bb66-4460-bbae-af33b6392596",
   "metadata": {},
   "outputs": [],
   "source": [
    "Multithreading in programming can provide several advantages and disadvantages, which are outlined below:\n",
    "\n",
    "Advantages:\n",
    "\n",
    "1.Improved performance.\n",
    "2.Responsiveness.\n",
    "3.Resource sharing.\n",
    "4.Scalability.\n",
    "\n",
    "Disadvantages:\n",
    "1.Complexity.\n",
    "2.Concurrency issues.\n",
    "3.Increased memory usage.\n",
    "4.Debugging."
   ]
  },
  {
   "cell_type": "code",
   "execution_count": null,
   "id": "914200ec-8b0e-4009-9a5e-e570ad28ace2",
   "metadata": {},
   "outputs": [],
   "source": [
    "6. Explain deadlocks and race conditions."
   ]
  },
  {
   "cell_type": "code",
   "execution_count": null,
   "id": "c950c4ae-4f53-470f-bbf2-c19467a3ba8d",
   "metadata": {},
   "outputs": [],
   "source": [
    "Deadlocks and race conditions are two common concurrency issues that can occur in multithreaded programs.\n",
    "Deadlocks:\n",
    "A deadlock occurs when two or more threads are blocked and unable to continue because each is waiting for the other to release a resource that it holds. In other words, the threads are stuck in a circular dependency, where each thread is waiting for a resource that is being held by another thread. This can result in a situation where none of the threads can make progress, and the program becomes unresponsive.\n",
    "\n",
    "Race conditions:\n",
    "A race condition occurs when two or more threads access a shared resource simultaneously, and the outcome of the program depends on the relative timing and ordering of the threads. In other words, the threads are racing to access the shared resource, and the result of the program depends on which thread wins the race."
   ]
  }
 ],
 "metadata": {
  "kernelspec": {
   "display_name": "Python 3 (ipykernel)",
   "language": "python",
   "name": "python3"
  },
  "language_info": {
   "codemirror_mode": {
    "name": "ipython",
    "version": 3
   },
   "file_extension": ".py",
   "mimetype": "text/x-python",
   "name": "python",
   "nbconvert_exporter": "python",
   "pygments_lexer": "ipython3",
   "version": "3.10.8"
  }
 },
 "nbformat": 4,
 "nbformat_minor": 5
}
