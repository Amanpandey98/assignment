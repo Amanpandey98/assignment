{
 "cells": [
  {
   "cell_type": "code",
   "execution_count": null,
   "id": "b1dcf8ad-5142-4694-aa59-17b077d7fdaf",
   "metadata": {},
   "outputs": [],
   "source": [
    "Q1. Write a Python code to implement the KNN classifier algorithm on load_iris dataset in sklearn.datasets."
   ]
  },
  {
   "cell_type": "code",
   "execution_count": 1,
   "id": "07d88cfb-9d12-4f94-b38f-bf70210fae0f",
   "metadata": {},
   "outputs": [
    {
     "name": "stdout",
     "output_type": "stream",
     "text": [
      "Accuracy: 1.0\n",
      "confusion matrix\n",
      "[[10  0  0]\n",
      " [ 0  9  0]\n",
      " [ 0  0 11]]\n"
     ]
    }
   ],
   "source": [
    "from sklearn.datasets import load_iris\n",
    "iris=load_iris()\n",
    "\n",
    "#load indepedent and dependent features\n",
    "X=iris.data\n",
    "y=iris.target\n",
    "from sklearn.model_selection import train_test_split\n",
    "\n",
    "# train,test,split\n",
    "X_train,X_test,y_train,y_test=train_test_split(X,y,random_state=42,shuffle=True,test_size=0.20)\n",
    "from sklearn.neighbors import KNeighborsClassifier\n",
    "from sklearn.metrics import accuracy_score,confusion_matrix\n",
    "\n",
    "knn=KNeighborsClassifier(n_neighbors=3)\n",
    "\n",
    "# fit the train data\n",
    "knn.fit(X_train,y_train)\n",
    "y_pred = knn.predict(X_test)\n",
    "\n",
    "# Calculate the accuracy of the model\n",
    "accuracy = accuracy_score(y_test, y_pred)\n",
    "print(\"Accuracy:\", accuracy)\n",
    "print(\"confusion matrix\")\n",
    "print(confusion_matrix(y_pred,y_test))"
   ]
  },
  {
   "cell_type": "code",
   "execution_count": null,
   "id": "5c73e721-95bc-459e-acdd-6501f34d284c",
   "metadata": {},
   "outputs": [],
   "source": [
    "Q2. Write a Python code to implement the KNN regressor algorithm on load_boston dataset in sklearn.datasets."
   ]
  },
  {
   "cell_type": "code",
   "execution_count": null,
   "id": "f9c92d8d-e574-4a99-910a-e82b3f513e68",
   "metadata": {},
   "outputs": [],
   "source": [
    "from sklearn.datasets import load_boston\n",
    "from sklearn.model_selection import train_test_split\n",
    "from sklearn.neighbors import KNeighborsRegressor\n",
    "from sklearn.metrics import mean_squared_error,r2_score,mean_absolute_error\n",
    "\n",
    "# Load the boston dataset\n",
    "boston=load_boston()\n",
    "\n",
    "# Split the dataset into training and testing sets\n",
    "X_train, X_test, y_train, y_test = train_test_split(boston.data, boston.target, test_size=0.3, random_state=42)\n",
    "\n",
    "# Create a KNN regressor with k = 3\n",
    "knn=KNeighborsRegressor(n_neighbors=3)\n",
    "\n",
    "# Fit the model using the training data\n",
    "knn.fit(X_train, y_train)\n",
    "\n",
    "# Predict the target values for the testing data\n",
    "y_pred=knn.predict(X_test)\n",
    "\n",
    "# Calculate the mean squared error of the model\n",
    "mse=mean_squared_error(y_test, y_pred)\n",
    "print(\"Mean squared error:\", mse)\n",
    "print(\"Mean absolute error:\",mean_absolute_error(y_test, y_pred))\n",
    "print(\"R2 Score:\",r2_score(y_test,y_pred))\n",
    "## i have written the code but the boston datset is now not available "
   ]
  },
  {
   "cell_type": "code",
   "execution_count": null,
   "id": "836228a6-adb0-4e65-a72a-db37130f0491",
   "metadata": {},
   "outputs": [],
   "source": [
    "Q3. Write a Python code snippet to find the optimal value of K for the KNN classifier algorithm using cross-validation on load_iris dataset in sklearn.datasets.\n"
   ]
  },
  {
   "cell_type": "code",
   "execution_count": 4,
   "id": "6ce7c656-7319-40ca-9e93-b6c03145623a",
   "metadata": {},
   "outputs": [
    {
     "name": "stdout",
     "output_type": "stream",
     "text": [
      "Optimal Value of K: 13\n"
     ]
    }
   ],
   "source": [
    "from sklearn.datasets import load_iris\n",
    "from sklearn.model_selection import cross_val_score\n",
    "from sklearn.neighbors import KNeighborsClassifier\n",
    "# Load the iris dataset\n",
    "\n",
    "iris =load_iris()\n",
    "# Define a list of possible values of K\n",
    "\n",
    "k_vals=list(range(1,31))\n",
    "\n",
    "# Define an empty list to store cross-validation scores\n",
    "cv_scores=[]\n",
    "\n",
    "for k in k_vals:\n",
    "    knn=KNeighborsClassifier(n_neighbors=k)\n",
    "    scores=cross_val_score(knn,X=iris.data,y=iris.target,cv=10,scoring='accuracy')\n",
    "    cv_scores.append(scores.mean())\n",
    "optimal_k=k_vals[cv_scores.index(max(cv_scores))]\n",
    "print(\"Optimal Value of K:\",optimal_k)"
   ]
  },
  {
   "cell_type": "code",
   "execution_count": null,
   "id": "fab96e58-1bfa-4a14-a324-1cd1161d96ca",
   "metadata": {},
   "outputs": [],
   "source": [
    "Q4. Implement the KNN regressor algorithm with feature scaling on load_boston dataset in\n",
    "sklearn.datasets."
   ]
  },
  {
   "cell_type": "code",
   "execution_count": null,
   "id": "0457bcad-83ef-4670-91e6-bb004839ad47",
   "metadata": {},
   "outputs": [],
   "source": [
    "from sklearn.datasets import load_boston\n",
    "from sklearn.model_selection import train_test_split\n",
    "from sklearn.neighbors import KNeighborsRegressor\n",
    "from sklearn.metrics import mean_squared_error,mean_absolute_error,r2_score\n",
    "from sklearn.preprocessing import StandardScaler\n",
    "boston = load_boston()\n",
    "\n",
    "X_train, X_test, y_train, y_test = train_test_split(boston.data, boston.target, test_size=0.3, random_state=42)\n",
    "\n",
    "# Standardize the features using StandardScaler\n",
    "scaler=StandardScaler()\n",
    "X_train_scaled=scaler.fit_transform(X_train)\n",
    "X_test_scaled=scaler.transform(X_test)\n",
    "# Create a KNN regressor with k = 3\n",
    "knn = KNeighborsRegressor(n_neighbors=3)\n",
    "\n",
    "# Fit the model using the scaled training data\n",
    "knn.fit(X_train_scaled, y_train)\n",
    "\n",
    "# Predict the target values for the scaled testing data\n",
    "y_pred_scaled = knn.predict(X_test_scaled)\n",
    "## check performance:\n",
    "\n",
    "print(\"Mean squared error with feature scaling:\", mean_squared_error(y_test,y_pred_scaled))\n",
    "print(\"Mean absolute error with feature scaling:\",mean_absolute_error(y_test,y_pred_scaled))\n",
    "print(\"R2_score:\",r2_score(y_test,y_pred_scaled))\n"
   ]
  },
  {
   "cell_type": "code",
   "execution_count": null,
   "id": "0b90afe4-ec76-4144-b185-ac491921255e",
   "metadata": {},
   "outputs": [],
   "source": [
    "Q5. Write a Python code snippet to implement the KNN classifier algorithm with weighted voting on\n",
    "load_iris dataset in sklearn.datasets."
   ]
  },
  {
   "cell_type": "code",
   "execution_count": 7,
   "id": "bcded8d7-fe79-48f7-811b-81b8a08dd930",
   "metadata": {},
   "outputs": [
    {
     "name": "stdout",
     "output_type": "stream",
     "text": [
      "Accuracy: 1.0\n",
      "confusion matrix\n",
      "[[19  0  0]\n",
      " [ 0 13  0]\n",
      " [ 0  0 13]]\n"
     ]
    }
   ],
   "source": [
    "from sklearn.datasets import load_iris\n",
    "from sklearn.model_selection import train_test_split\n",
    "from sklearn.neighbors import KNeighborsClassifier\n",
    "from sklearn.metrics import accuracy_score\n",
    "\n",
    "# Load the iris dataset\n",
    "iris = load_iris()\n",
    "\n",
    "# Split the dataset into training and testing sets\n",
    "X_train, X_test, y_train, y_test = train_test_split(iris.data, iris.target, test_size=0.3, random_state=42)\n",
    "\n",
    "# Create a KNN classifier with k = 5 and weights='distance'\n",
    "knn = KNeighborsClassifier(n_neighbors=5, weights='distance')\n",
    "\n",
    "# Fit the model using the training data\n",
    "knn.fit(X_train, y_train)\n",
    "\n",
    "# Predict the target values for the testing data\n",
    "y_pred = knn.predict(X_test)\n",
    "\n",
    "# Calculate the accuracy of the model\n",
    "accuracy = accuracy_score(y_test, y_pred)\n",
    "\n",
    "print(\"Accuracy:\", accuracy)\n",
    "print(\"confusion matrix\")\n",
    "print(confusion_matrix(y_pred,y_test))"
   ]
  },
  {
   "cell_type": "code",
   "execution_count": 8,
   "id": "098b88cc-86f7-4221-b138-4a760c3e86e7",
   "metadata": {},
   "outputs": [],
   "source": [
    "Q6. Implement a function to standardise the features before applying KNN classifier."
   ]
  },
  {
   "cell_type": "code",
   "execution_count": 9,
   "id": "5578061b-cb6a-4314-8f5a-81bbaa3bce04",
   "metadata": {},
   "outputs": [],
   "source": [
    "from sklearn.preprocessing import StandardScaler\n",
    "from sklearn.neighbors import KNeighborsClassifier\n",
    "from sklearn.model_selection import train_test_split\n",
    "from sklearn.datasets import load_iris\n",
    "\n",
    "def knn_with_standardization():\n",
    "    # Load the iris dataset\n",
    "    iris = load_iris()\n",
    "\n",
    "    # Split the data into training and testing sets\n",
    "    X_train, X_test, y_train, y_test = train_test_split(iris.data, iris.target, test_size=0.2)\n",
    "\n",
    "    # Initialize the scaler and standardize the training and testing data\n",
    "    scaler = StandardScaler()\n",
    "    X_train = scaler.fit_transform(X_train)\n",
    "    X_test = scaler.transform(X_test)\n",
    "    \n",
    "      # Initialize the KNN classifier\n",
    "    knn = KNeighborsClassifier(n_neighbors=5)\n",
    "\n",
    "    # Fit the model on the training data\n",
    "    knn.fit(X_train, y_train)\n",
    "\n",
    "    # Make predictions on the testing data\n",
    "    y_pred = knn.predict(X_test)\n",
    "\n",
    "    # Print the accuracy score of the model\n",
    "    print(\"Accuracy:\", knn.score(X_test, y_test))"
   ]
  },
  {
   "cell_type": "code",
   "execution_count": null,
   "id": "04302c90-b163-4f37-a593-f20c5631b6b3",
   "metadata": {},
   "outputs": [],
   "source": [
    "Q7. Write a Python function to calculate the euclidean distance between two points."
   ]
  },
  {
   "cell_type": "code",
   "execution_count": 10,
   "id": "2d58b9ce-a8b8-40df-bf80-610dbe5349d0",
   "metadata": {},
   "outputs": [
    {
     "data": {
      "text/plain": [
       "5.0"
      ]
     },
     "execution_count": 10,
     "metadata": {},
     "output_type": "execute_result"
    }
   ],
   "source": [
    "import math\n",
    "\n",
    "def cal_euclidean_distance(point1,point2):\n",
    "    distance= math.sqrt((point1[0]-point2[0])**2 + (point1[1]-point2[1])**2)\n",
    "    return distance\n",
    "point1=(8,6)\n",
    "point2=(4,3)\n",
    "cal_euclidean_distance(point1,point2)"
   ]
  },
  {
   "cell_type": "code",
   "execution_count": null,
   "id": "909ff966-e01b-40f8-ae5b-4ff18d147636",
   "metadata": {},
   "outputs": [],
   "source": [
    "Q8. Write a Python function to calculate the manhattan distance between two points."
   ]
  },
  {
   "cell_type": "code",
   "execution_count": 13,
   "id": "05e1dfea-cf86-4b2f-b498-ec5f4dabc06c",
   "metadata": {},
   "outputs": [
    {
     "data": {
      "text/plain": [
       "7"
      ]
     },
     "execution_count": 13,
     "metadata": {},
     "output_type": "execute_result"
    }
   ],
   "source": [
    "def cal_manhattan_distance(point1,point2):\n",
    "    distance= (abs(point1[0]-point2[0]) + abs(point1[1]-point2[1]))\n",
    "    return distance\n",
    "point1=(8,6)\n",
    "point2=(4,3)\n",
    "cal_manhattan_distance(point1,point2)"
   ]
  },
  {
   "cell_type": "code",
   "execution_count": null,
   "id": "c799c09b-4e6e-4f93-844a-01a85248bdc0",
   "metadata": {},
   "outputs": [],
   "source": []
  }
 ],
 "metadata": {
  "kernelspec": {
   "display_name": "Python 3 (ipykernel)",
   "language": "python",
   "name": "python3"
  },
  "language_info": {
   "codemirror_mode": {
    "name": "ipython",
    "version": 3
   },
   "file_extension": ".py",
   "mimetype": "text/x-python",
   "name": "python",
   "nbconvert_exporter": "python",
   "pygments_lexer": "ipython3",
   "version": "3.10.8"
  }
 },
 "nbformat": 4,
 "nbformat_minor": 5
}
