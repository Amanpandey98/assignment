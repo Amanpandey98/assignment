{
 "cells": [
  {
   "cell_type": "code",
   "execution_count": null,
   "id": "26827872-3bd0-4fa8-bbe8-03df33ef9046",
   "metadata": {},
   "outputs": [],
   "source": [
    "Q1. How can you create a Bokeh plot using Python code?"
   ]
  },
  {
   "cell_type": "code",
   "execution_count": null,
   "id": "895993fa-ab98-481e-9b5c-2c2630f28beb",
   "metadata": {},
   "outputs": [],
   "source": [
    "Bokeh is a Python library used for creating interactive visualizations in web browsers. Here are the steps to create a basic Bokeh plot using Python code:\n",
    "\n",
    "1.Import the necessary modules: from bokeh.plotting import figure, output_file, show.\n",
    "\n",
    "2Prepare the data for the plot: This step involves loading the data that you want to plot into Python data structures such as lists, NumPy arrays or Pandas dataframes.\n",
    "\n",
    "3.Create a figure object: This step involves creating a figure object using the figure() function. This function allows you to specify the dimensions of the plot, the title, the axis labels, and other plot properties.\n",
    "\n",
    "4.Add glyphs to the plot: This step involves adding glyphs (e.g. circles, lines, rectangles) to the figure object using various glyph methods such as line(), circle(), rect(), and so on. Each glyph method requires x and y coordinates to be specified.\n",
    "\n",
    "5.Add interactive features: This step involves adding interactive features such as hover tooltips, zoom, pan, and other widgets to the plot.\n",
    "\n",
    "6.Save and display the plot: This step involves saving the plot to an HTML file using the output_file() function and displaying the plot in a web browser using the show() function.\n"
   ]
  },
  {
   "cell_type": "code",
   "execution_count": null,
   "id": "fa8e52de-92be-4ab6-8218-79b2bb87bbdb",
   "metadata": {},
   "outputs": [],
   "source": [
    "Q2. What are glyphs in Bokeh, and how can you add them to a Bokeh plot? Explain with an example."
   ]
  },
  {
   "cell_type": "code",
   "execution_count": null,
   "id": "a0e8d41a-b799-44b3-a7f3-03ae84b26118",
   "metadata": {},
   "outputs": [],
   "source": [
    "In Bokeh, a glyph is a graphical object that represents data points in a plot. Glyphs are used to create scatter plots, line plots, bar charts, and other types of visualizations. Bokeh provides a wide range of glyph methods that can be used to create different types of glyphs, including circles, squares, lines, bars, and more.\n",
    "from bokeh.plotting import figure, output_file, show\n",
    "\n",
    "# Prepare the data\n",
    "x = [1, 2, 3, 4, 5]\n",
    "y = [6, 7, 2, 4, 5]\n",
    "\n",
    "# Create a figure object\n",
    "p = figure(title=\"My Bokeh Plot\", x_axis_label='X-axis', y_axis_label='Y-axis')\n",
    "\n",
    "# Add a circle glyph to the plot\n",
    "p.circle(x=x, y=y, size=10, color='red')\n",
    "\n",
    "# Show the plot\n",
    "show(p)\n"
   ]
  },
  {
   "cell_type": "code",
   "execution_count": null,
   "id": "2a69c8d6-5423-475a-add6-8582ec6ca820",
   "metadata": {},
   "outputs": [],
   "source": [
    "Q3. How can you customize the appearance of a Bokeh plot, including the axes, title, and legend?"
   ]
  },
  {
   "cell_type": "code",
   "execution_count": null,
   "id": "a675b11d-0739-4c8b-84ab-df49d4363a6b",
   "metadata": {},
   "outputs": [],
   "source": [
    "In Bokeh, you can customize the appearance of a plot by modifying various properties of the plot, including the axes, title, and legend. Here are some examples of how you can customize the appearance of a Bokeh plot:\n",
    "\n",
    "Changing the plot title: You can change the plot title by setting the title property of the figure object. For example, p.title.text = \"My Plot\" will set the plot title to \"My Plot\".\n",
    "\n",
    "Customizing the axes: You can customize the appearance of the x and y axes by modifying various properties of the xaxis and yaxis objects, respectively. For example, p.xaxis.axis_label = \"X-axis\" will set the x-axis label to \"X-axis\". Similarly, you can set the axis limits, tick labels, and other properties of the axes.\n",
    "\n",
    "Adding a legend: You can add a legend to a plot by setting the legend property of the glyph objects. For example, p.circle(x, y, legend_label=\"My Circle\") will add a circle glyph to the plot with the label \"My Circle\" in the legend. You can customize the appearance of the legend by modifying properties of the Legend object, such as the location, font size, and so on."
   ]
  },
  {
   "cell_type": "code",
   "execution_count": null,
   "id": "04ce6277-3a22-4a65-bd9b-638dbd6e21df",
   "metadata": {},
   "outputs": [],
   "source": [
    "Q4. What is a Bokeh server, and how can you use it to create interactive plots that can be updated in\n",
    "real time?"
   ]
  },
  {
   "cell_type": "code",
   "execution_count": null,
   "id": "dd911dbb-05da-4524-a8b9-264d732be063",
   "metadata": {},
   "outputs": [],
   "source": [
    "Bokeh server is a feature in Bokeh that allows you to create interactive plots that can be updated in real-time. With Bokeh server, you can create web applications that serve Bokeh plots, widgets, and layouts to multiple users.\n",
    "\n",
    "Here are the basic steps to create a Bokeh server application:\n",
    "\n",
    "Define your plot or layout using the Bokeh API, just as you would for a non-server plot.\n",
    "\n",
    "Create a function that defines how the plot or layout should update in response to user input or data changes. This function will be called whenever the plot needs to be updated, such as when the user interacts with a widget.\n",
    "\n",
    "Use the curdoc() function to access the current document, which represents the state of the application. You can add your plot or layout to the document using the add_root() or add_layout() functions.\n",
    "\n",
    "Use the curdoc().add_periodic_callback() function to schedule a periodic callback function that updates the plot or layout at a fixed interval.\n",
    "\n",
    "Run the Bokeh server using the bokeh serve command, passing the name of your Python script as an argument. This will start a web server that serves your application.\n"
   ]
  },
  {
   "cell_type": "code",
   "execution_count": null,
   "id": "b8ad9626-0a7c-4ac9-bec4-e3adb1cd3c6a",
   "metadata": {},
   "outputs": [],
   "source": [
    "Q5. How can you embed a Bokeh plot into a web page or dashboard using Flask or Django?"
   ]
  },
  {
   "cell_type": "code",
   "execution_count": null,
   "id": "de62136f-4b72-49ee-ab27-e87fb62b3b43",
   "metadata": {},
   "outputs": [],
   "source": [
    "Bokeh is a Python library that allows for the creation of interactive visualizations in web browsers. Flask and Django are two popular Python web frameworks that can be used to create web applications. Here are the general steps to embed a Bokeh plot into a web page or dashboard using Flask or Django:\n",
    "\n",
    "@Flask\n",
    "Create a Flask application.\n",
    "Create a Bokeh plot and save it to an HTML file using output_file.\n",
    "In the Flask view function, read the HTML file using file_html and pass it as a string to the template.\n",
    "Render the template in the Flask view function using render_template.\n",
    "\n",
    "@Django \n",
    "Create a Django application.\n",
    "Create a Bokeh plot and save it to an HTML file using output_file.\n",
    "Create a Django view function that reads the HTML file using file_html and passes it as a context variable to the template.\n",
    "Create a Django template that renders the Bokeh plot using the safe filter."
   ]
  },
  {
   "cell_type": "code",
   "execution_count": null,
   "id": "d5828a06-eb16-45a1-9fac-b4ee910f87c8",
   "metadata": {},
   "outputs": [],
   "source": []
  }
 ],
 "metadata": {
  "kernelspec": {
   "display_name": "Python 3 (ipykernel)",
   "language": "python",
   "name": "python3"
  },
  "language_info": {
   "codemirror_mode": {
    "name": "ipython",
    "version": 3
   },
   "file_extension": ".py",
   "mimetype": "text/x-python",
   "name": "python",
   "nbconvert_exporter": "python",
   "pygments_lexer": "ipython3",
   "version": "3.10.8"
  }
 },
 "nbformat": 4,
 "nbformat_minor": 5
}
