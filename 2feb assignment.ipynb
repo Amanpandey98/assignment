{
 "cells": [
  {
   "cell_type": "code",
   "execution_count": null,
   "id": "1ba30724-c52a-4c04-8bb7-74932696ed3a",
   "metadata": {},
   "outputs": [],
   "source": [
    "Q1.  Explain with an example each when to use a for loop and a while loop. \n",
    "ans= For Loop: A for loop is an iteration method that is best used when you know the number of iterations ahead of time.\n",
    "     example of for loop-\n",
    "    n = [1, 2, 3]  # Initialization\n",
    "for i in n:  # Condition and Updation\n",
    "    print(i)\n",
    "\n",
    " \n",
    "     While Loop: A while loop is an iteration method that is best used when you do not know the number of iterations ahead of time.\n",
    "     example of while loop-\n",
    "        n = [1, 2, 3]  # Initialization\n",
    "for i in n:  # Condition and Updation\n",
    "    print(i)\n",
    "\n",
    "    "
   ]
  },
  {
   "cell_type": "code",
   "execution_count": null,
   "id": "185b8dc1-bc9a-4e1a-b9c7-3107607450cb",
   "metadata": {},
   "outputs": [],
   "source": [
    "Q2.  Write a python program to print the sum and product of the first 10 natural numbers using for  and while loop. \n"
   ]
  },
  {
   "cell_type": "code",
   "execution_count": null,
   "id": "76d21611-cc6d-453f-8721-fbf61b031490",
   "metadata": {},
   "outputs": [],
   "source": [
    "# print sum of first 10 natural numbers using for loop.\n",
    "sum=0\n",
    "for i in range(0,11):\n",
    "    sum+=i\n",
    "print(sum)\n",
    "## print product of first 10 natural number using for loop.\n",
    "product=1\n",
    "for i in range(1,11):\n",
    "    product=product*i\n",
    "print(product)\n",
    "\n",
    "##by using while loop print sum of first 10 natural number\n",
    "n=int(input(\"enter numbers\"))\n",
    "sum=0\n",
    "i=1\n",
    "while i<=n:\n",
    "    sum=sum+i\n",
    "    i=i+1\n",
    "print(sum)\n",
    "\n",
    "##by using while loop print product of first 10 natural number\n",
    "n=int(input(\"enter number\"))\n",
    "product=1\n",
    "i=1\n",
    "while i<=n:\n",
    "    product=product*i\n",
    "    i=i+1\n",
    "print(product)\n"
   ]
  },
  {
   "cell_type": "code",
   "execution_count": null,
   "id": "acb78d9f-0deb-428a-9c46-5530fc23413f",
   "metadata": {},
   "outputs": [],
   "source": [
    "Q3. Create a python program to compute the electricity bill for a household. \n",
    "The per-unit charges in rupees are as follows: For the first 100 units, the user will be charged Rs. 4.5 per  unit, for the next 100 units, the user will be charged Rs. 6 per unit, and for the next 100 units, the user will  be charged Rs. 10 per unit, After 300 units and above the user will be charged Rs. 20 per unit. \n",
    "You are required to take the units of electricity consumed in a month from the user as input. \n",
    "Your program must pass this test case: when the unit of electricity consumed by the user in a month is  310, the total electricity bill should be 2250. \n"
   ]
  },
  {
   "cell_type": "code",
   "execution_count": null,
   "id": "0e87cc61-4471-48fb-b5a7-72e0c6fa03fd",
   "metadata": {},
   "outputs": [],
   "source": [
    "units = int(input(\"Enter the number of units consumed: \"))\n",
    "\n",
    "if units <= 100:\n",
    "    bill = units * 4.5\n",
    "elif units <= 200:\n",
    "    bill = 100 * 4.5 + (units - 100) * 6\n",
    "elif units <= 300:\n",
    "    bill = 100 * 4.5 + 100 * 6 + (units - 200) * 10\n",
    "else:\n",
    "    bill = 100 * 4.5 + 100 * 6 + 100 * 10 + (units - 300) * 20\n",
    "\n",
    "print(\"The total electricity bill is:\", bill, \"rupees\")\n",
    "\n",
    "\n",
    "    "
   ]
  },
  {
   "cell_type": "code",
   "execution_count": null,
   "id": "8264ceca-9b2d-4da3-9ffd-9f464de5cb96",
   "metadata": {},
   "outputs": [],
   "source": [
    "Q4. Create a list of numbers from 1 to 100. Use for loop and while loop to calculate the cube of each  number and if the cube of that number is divisible by 4 or 5 then append that number in a list and print  that list. \n"
   ]
  },
  {
   "cell_type": "code",
   "execution_count": null,
   "id": "f51a0825-6169-426f-97ea-54c5bda8bcfa",
   "metadata": {},
   "outputs": [],
   "source": [
    "result = []\n",
    "for i in range(1, 101):\n",
    "    cube = i**3\n",
    "    if (cube % 4 == 0) or (cube % 5 == 0):\n",
    "        result.append(i)\n",
    "\n",
    "print( result)\n",
    "##using while loop\n",
    "result = []\n",
    "i = 1\n",
    "while i <= 100:\n",
    "    cube = i**3\n",
    "    if (cube % 4 == 0) or (cube % 5 == 0):\n",
    "        result.append(i)\n",
    "    i += 1\n",
    "\n",
    "print( result)"
   ]
  },
  {
   "cell_type": "code",
   "execution_count": null,
   "id": "af05d35b-5806-4895-a8bb-b7d24965792e",
   "metadata": {},
   "outputs": [],
   "source": [
    "Q5. Write a program to filter count vowels in the below-given string.\n",
    "string = \"I want to become a data scientist\""
   ]
  },
  {
   "cell_type": "code",
   "execution_count": null,
   "id": "728cd7ec-538f-4084-841d-c8724cf17f1a",
   "metadata": {},
   "outputs": [],
   "source": [
    "string = \"I want to become a data scientist\"\n",
    "vowels = \"AEIOUaeiou\"\n",
    "count = 0\n",
    "for char in string:\n",
    "    if char in vowels:\n",
    "        count += 1\n",
    "\n",
    "print(\"Number of vowels in the string:\", count)\n"
   ]
  },
  {
   "cell_type": "code",
   "execution_count": null,
   "id": "4fb5b77e-ca04-49b4-a72c-bc00f5e84d3b",
   "metadata": {},
   "outputs": [],
   "source": []
  },
  {
   "cell_type": "code",
   "execution_count": null,
   "id": "aeabbf3f-9e06-4567-8748-8a937113977c",
   "metadata": {},
   "outputs": [],
   "source": []
  }
 ],
 "metadata": {
  "kernelspec": {
   "display_name": "Python 3 (ipykernel)",
   "language": "python",
   "name": "python3"
  },
  "language_info": {
   "codemirror_mode": {
    "name": "ipython",
    "version": 3
   },
   "file_extension": ".py",
   "mimetype": "text/x-python",
   "name": "python",
   "nbconvert_exporter": "python",
   "pygments_lexer": "ipython3",
   "version": "3.10.8"
  }
 },
 "nbformat": 4,
 "nbformat_minor": 5
}
