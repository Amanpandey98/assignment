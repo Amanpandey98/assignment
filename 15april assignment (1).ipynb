{
 "cells": [
  {
   "cell_type": "code",
   "execution_count": null,
   "id": "b34ab3d1-a8c3-4715-86f1-60e4bf79ddbd",
   "metadata": {},
   "outputs": [],
   "source": [
    "Q1. Ans-\n",
    "\n",
    "from sklearn.compose import ColumnTransformer\n",
    "from sklearn.pipeline import Pipeline\n",
    "from sklearn.impute import SimpleImputer\n",
    "from sklearn.preprocessing import StandardScaler, OneHotEncoder\n",
    "from sklearn.ensemble import RandomForestClassifier\n",
    "from sklearn.feature_selection import SelectFromModel\n",
    "\n",
    "# Define the column transformer for numerical and categorical features\n",
    "numerical_transformer = Pipeline(steps=[\n",
    "    ('imputer', SimpleImputer(strategy='mean')),\n",
    "    ('scaler', StandardScaler())\n",
    "])\n",
    "\n",
    "categorical_transformer = Pipeline(steps=[\n",
    "    ('imputer', SimpleImputer(strategy='most_frequent')),\n",
    "    ('onehot', OneHotEncoder(handle_unknown='ignore'))\n",
    "])\n",
    "\n",
    "preprocessor = ColumnTransformer(\n",
    "    transformers=[\n",
    "        ('num', numerical_transformer, numerical_features),\n",
    "        ('cat', categorical_transformer, categorical_features)\n",
    "    ])\n",
    "\n",
    "# Use a feature selection method to identify important features\n",
    "selector = SelectFromModel(RandomForestClassifier())\n",
    "\n",
    "# Define the final pipeline with preprocessor, feature selector, and classifier\n",
    "rf_pipeline = Pipeline(steps=[\n",
    "    ('preprocessor', preprocessor),\n",
    "    ('selector', selector),\n",
    "    ('classifier', RandomForestClassifier())\n",
    "])\n",
    "\n",
    "# Train the model on the training data\n",
    "rf_pipeline.fit(X_train, y_train)\n",
    "\n",
    "# Evaluate the accuracy of the model on the test data\n",
    "accuracy = rf_pipeline.score(X_test, y_test)\n",
    "print(\"Accuracy:\", accuracy)\n",
    "#In this pipeline, we first define a ColumnTransformer to handle the numerical and categorical features separately. The numerical features are imputed using the mean of the column values and then scaled using standardization. The categorical features are imputed using the most frequent value of the column and then one-hot encoded.\n",
    "#Next, we use a SelectFromModel feature selection method with a RandomForestClassifier to identify important features.\n",
    "#Finally, we define the final pipeline with the preprocessor, feature selector, and a RandomForestClassifier as the final classifier.\n",
    "#We train the model on the training data and evaluate its accuracy on the test data\n",
    "#To improve the pipeline, we could try different feature selection methods or hyperparameters for the classifier. We could also try differen\n"
   ]
  },
  {
   "cell_type": "code",
   "execution_count": null,
   "id": "06e14265-b391-4482-9033-6c7fdf041994",
   "metadata": {},
   "outputs": [],
   "source": [
    "Q.2 Ans-\n",
    "\n",
    "from sklearn.pipeline import Pipeline from sklearn.ensemble import RandomForestClassifier from sklearn.linear_model import LogisticRegression from sklearn.ensemble import VotingClassifier\n",
    "\n",
    "Create pipelines for the individual classifiers\n",
    "rf_pipeline = Pipeline([ ('imputer', SimpleImputer(strategy='mean')), ('scaler', StandardScaler()), ('rf', RandomForestClassifier()) ])\n",
    "\n",
    "lr_pipeline = Pipeline([ ('imputer', SimpleImputer(strategy='most_frequent')), ('onehot', OneHotEncoder()), ('scaler', StandardScaler(with_mean=False)), ('lr', LogisticRegression()) ])\n",
    "\n",
    "Create the voting classifier\n",
    "voting_classifier = VotingClassifier( estimators=[('rf', rf_pipeline), ('lr', lr_pipeline)], voting='soft' )\n",
    "\n",
    "Train the pipeline on the data\n",
    "voting_classifier.fit(X_train, y_train)\n",
    "\n",
    "Evaluate the accuracy on the test set\n",
    "accuracy = voting_classifier.score(X_test, y_test) print(\"Accuracy:\", accuracy) In this example, we create separate pipelines for the Random Forest Classifier and the Logistic Regression Classifier, each including any necessary preprocessing steps such as imputation, scaling, and one-hot encoding. We then create a Voting Classifier that combines the predictions of these two classifiers using a soft voting strategy, which takes the predicted probabilities and averages them to make a final prediction.\n",
    "\n",
    "We train the entire pipeline on the training data and evaluate its accuracy on the test set. The final accuracy score can be used to assess the performance of the ensemble classifier."
   ]
  },
  {
   "cell_type": "code",
   "execution_count": null,
   "id": "2be0a2fc-3150-4fd5-8158-b8a6edf8b7d6",
   "metadata": {},
   "outputs": [],
   "source": []
  },
  {
   "cell_type": "code",
   "execution_count": null,
   "id": "244cf45b-2fbd-4be8-a9b8-51a39e33b306",
   "metadata": {},
   "outputs": [],
   "source": []
  },
  {
   "cell_type": "code",
   "execution_count": null,
   "id": "de2f3f18-c08a-4944-a8c8-ac23524fa339",
   "metadata": {},
   "outputs": [],
   "source": []
  },
  {
   "cell_type": "code",
   "execution_count": null,
   "id": "be08f1f5-7f1b-4391-aacb-f1f8df2d8007",
   "metadata": {},
   "outputs": [],
   "source": []
  },
  {
   "cell_type": "code",
   "execution_count": null,
   "id": "24a74a85-f028-4cd7-ba65-0e2f8a3f8160",
   "metadata": {},
   "outputs": [],
   "source": []
  },
  {
   "cell_type": "code",
   "execution_count": null,
   "id": "26fe7dc7-cf00-4e04-966b-6839013c8fbd",
   "metadata": {},
   "outputs": [],
   "source": []
  },
  {
   "cell_type": "code",
   "execution_count": null,
   "id": "ae2117ba-0cbc-4738-a059-68ae206e70ea",
   "metadata": {},
   "outputs": [],
   "source": []
  },
  {
   "cell_type": "code",
   "execution_count": null,
   "id": "95235db5-8f7e-464c-8e72-1fba7e5c11a9",
   "metadata": {},
   "outputs": [],
   "source": []
  },
  {
   "cell_type": "code",
   "execution_count": null,
   "id": "9962f277-377d-42c1-8627-24110874cef6",
   "metadata": {},
   "outputs": [],
   "source": []
  },
  {
   "cell_type": "code",
   "execution_count": null,
   "id": "377d7001-9087-4214-9356-7da145886c41",
   "metadata": {},
   "outputs": [],
   "source": []
  },
  {
   "cell_type": "code",
   "execution_count": null,
   "id": "991d304e-317d-4274-9297-883f0bd38375",
   "metadata": {},
   "outputs": [],
   "source": []
  },
  {
   "cell_type": "code",
   "execution_count": null,
   "id": "9b16f462-4107-477a-a800-ea1a22cf6c39",
   "metadata": {},
   "outputs": [],
   "source": []
  },
  {
   "cell_type": "code",
   "execution_count": null,
   "id": "eefdba00-0d77-4473-88ac-997fd9fe4a2d",
   "metadata": {},
   "outputs": [],
   "source": []
  }
 ],
 "metadata": {
  "kernelspec": {
   "display_name": "Python 3 (ipykernel)",
   "language": "python",
   "name": "python3"
  },
  "language_info": {
   "codemirror_mode": {
    "name": "ipython",
    "version": 3
   },
   "file_extension": ".py",
   "mimetype": "text/x-python",
   "name": "python",
   "nbconvert_exporter": "python",
   "pygments_lexer": "ipython3",
   "version": "3.10.8"
  }
 },
 "nbformat": 4,
 "nbformat_minor": 5
}
