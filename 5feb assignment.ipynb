{
 "cells": [
  {
   "cell_type": "code",
   "execution_count": null,
   "id": "32071359-7d3f-43cf-9996-8dc9992d2dfc",
   "metadata": {},
   "outputs": [],
   "source": [
    "Q1. Explain Class and Object with respect to Object-Oriented Programming. Give a suitable example."
   ]
  },
  {
   "cell_type": "code",
   "execution_count": 8,
   "id": "61978e74-d163-4d3c-8602-ec716b36b4b0",
   "metadata": {},
   "outputs": [],
   "source": [
    "##A Class in object oriented programming is a blueprint or prototype that defines the variables and the methods.An object is called an instance of a class.\n",
    "class pwskills:\n",
    "    def welcome_msg(self):\n",
    "        print(\"welcome to pw skills\")\n",
    "        \n",
    "        #now we define an object.\n",
    "        aman=pwskills()\n",
    "        aman.welcome_msg()\n",
    "      \n",
    "    \n"
   ]
  },
  {
   "cell_type": "code",
   "execution_count": null,
   "id": "20257da2-f524-45e5-8150-1cbc16a01712",
   "metadata": {},
   "outputs": [],
   "source": [
    "Q2. Name the four pillars of OOPs.\n"
   ]
  },
  {
   "cell_type": "code",
   "execution_count": null,
   "id": "d00591af-bf76-4e0c-8c2c-7cb415f07d39",
   "metadata": {},
   "outputs": [],
   "source": [
    "the four pillars of OOPs are-:\n",
    "1)Inheritance\n",
    "2)Polymorphism\n",
    "3)Encapsulation\n",
    "4)Abstraction"
   ]
  },
  {
   "cell_type": "code",
   "execution_count": null,
   "id": "89c888a4-13a7-4ea4-a442-fb3f3848d3c6",
   "metadata": {},
   "outputs": [],
   "source": [
    "Q3. Explain why the __init__() function is used. Give a suitable example."
   ]
  },
  {
   "cell_type": "code",
   "execution_count": 15,
   "id": "f498705c-a7b4-4048-9d5c-a8b1556623bf",
   "metadata": {},
   "outputs": [
    {
     "data": {
      "text/plain": [
       "(9812345621, 'aman@gmail.com', 100)"
      ]
     },
     "execution_count": 15,
     "metadata": {},
     "output_type": "execute_result"
    }
   ],
   "source": [
    "## __init__ function is a constructor,Constructors are used to initializing the object’s state.\n",
    "##The task of constructors is to initialize(assign values) to the data members of the class when an object of the class is created.\n",
    "class pwskills:\n",
    "    def __init__(self,phone_number,email_id,roll_number):\n",
    "        self.phone_number=phone_number\n",
    "        self.email_id=email_id\n",
    "        self.roll_number=roll_number\n",
    "    def student_details(self):\n",
    "        return self.phone_number,self.email_id,self.roll_number\n",
    "aman=pwskills(9812345621,\"aman@gmail.com\",100)\n",
    "aman.student_details()\n",
    "    \n",
    "    \n",
    "        \n",
    "\n"
   ]
  },
  {
   "cell_type": "code",
   "execution_count": null,
   "id": "7d3469d3-48ab-4664-b66a-255e74797462",
   "metadata": {},
   "outputs": [],
   "source": [
    "Q4. Why self is used in OOPs?"
   ]
  },
  {
   "cell_type": "code",
   "execution_count": null,
   "id": "0334329e-0e80-46bc-95df-9d41353684b1",
   "metadata": {},
   "outputs": [],
   "source": [
    "self represents the instance of the class. By using the “self” we can access the attributes and methods of the class in python.\n",
    "It binds the attributes with the given arguments."
   ]
  },
  {
   "cell_type": "code",
   "execution_count": null,
   "id": "db46a6db-47ea-4841-bd8c-33a8ebbfd6a2",
   "metadata": {},
   "outputs": [],
   "source": [
    "Q5. What is inheritance? Give an example for each type of inheritance."
   ]
  },
  {
   "cell_type": "code",
   "execution_count": null,
   "id": "d5fedab8-dca9-4e9e-ad81-8078ba46c1ba",
   "metadata": {},
   "outputs": [],
   "source": [
    "Inheritance is a feature in object-oriented programming (OOP) that allows an object or class to inherit characteristics and behavior from a parent object or class. There are several types of inheritance, including:\n",
    "\n",
    "\"Single inheritance\": a subclass inherits from a single superclass. For example, a \"Bird\" class could inherit characteristics and behavior from an \"Animal\" class.\n",
    "\n",
    "\"Multi-level inheritance\": a subclass inherits from a superclass, which in turn inherits from another superclass. For example, a \"Penguin\" class could inherit from a \"Bird\" class, which in turn inherits from an \"Animal\" class.\n",
    "\n",
    "\"Multiple inheritance\": a subclass inherits characteristics and behavior from multiple superclasses. For example, a \"FlyingPenguin\" class could inherit from both a \"Penguin\" class and a \"FlyingAnimal\" class.\n",
    "\n",
    "\"Hierarchical inheritance\": multiple subclasses inherit from a single superclass. For example, different types of birds such as \"Owl\", \"Eagle\", and \"Penguin\" could all inherit from a single \"Bird\" class.\n",
    "\n",
    "\"Hybrid inheritance\": a combination of multiple inheritance types. For example, a \"SuperFlyingPenguin\" class could inherit from a \"FlyingPenguin\" class (multiple inheritance) and a \"SuperAnimal\" class (single inheritance).\n",
    "\n",
    "\n",
    "\n",
    "\n",
    "\n"
   ]
  },
  {
   "cell_type": "code",
   "execution_count": null,
   "id": "b9c3828c-42bb-46c5-b236-d6c043087659",
   "metadata": {},
   "outputs": [],
   "source": []
  }
 ],
 "metadata": {
  "kernelspec": {
   "display_name": "Python 3 (ipykernel)",
   "language": "python",
   "name": "python3"
  },
  "language_info": {
   "codemirror_mode": {
    "name": "ipython",
    "version": 3
   },
   "file_extension": ".py",
   "mimetype": "text/x-python",
   "name": "python",
   "nbconvert_exporter": "python",
   "pygments_lexer": "ipython3",
   "version": "3.10.8"
  }
 },
 "nbformat": 4,
 "nbformat_minor": 5
}
