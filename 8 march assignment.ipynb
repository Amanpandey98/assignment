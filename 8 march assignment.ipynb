{
 "cells": [
  {
   "cell_type": "code",
   "execution_count": null,
   "id": "d01b3c37-4a72-4fa6-9808-715673a8e386",
   "metadata": {},
   "outputs": [],
   "source": [
    "Q1. What is the Probability density function?"
   ]
  },
  {
   "cell_type": "code",
   "execution_count": null,
   "id": "31fa99bf-a51a-4ad2-8759-3e471f48031d",
   "metadata": {},
   "outputs": [],
   "source": [
    "Probability density function (PDF) is a statistical expression that defines a probability distribution (the likelihood of an outcome) for a discrete random variable (e.g., a stock or ETF) as opposed to a continuous random variable."
   ]
  },
  {
   "cell_type": "code",
   "execution_count": null,
   "id": "86e618a4-9255-406f-8ea9-468816f59492",
   "metadata": {},
   "outputs": [],
   "source": [
    "Q2. What are the types of Probability distribution?"
   ]
  },
  {
   "cell_type": "code",
   "execution_count": null,
   "id": "d86db96c-c8ca-49cd-b48d-1d17ef2ea121",
   "metadata": {},
   "outputs": [],
   "source": [
    "1.Bernoulli's Distribution\n",
    "2.Poisson Distribution\n",
    "3.binomial Distribution\n",
    "4.Normal Distributon\n",
    "5.Log Normal Distribution"
   ]
  },
  {
   "cell_type": "code",
   "execution_count": null,
   "id": "8d752439-d743-4e06-8436-80ea04e61165",
   "metadata": {},
   "outputs": [],
   "source": [
    "Q3. Write a Python function to calculate the probability density function of a normal distribution with\n",
    "given mean and standard deviation at a given point."
   ]
  },
  {
   "cell_type": "code",
   "execution_count": 7,
   "id": "88d8f636-cfe8-4530-bc02-f71b7a6fb3df",
   "metadata": {},
   "outputs": [
    {
     "name": "stdout",
     "output_type": "stream",
     "text": [
      "The PDF of a normal distribution with mean=0 and standard deviation=1 at x=1 is 0.242\n"
     ]
    }
   ],
   "source": [
    "import numpy as np\n",
    "\n",
    "def normal_pdf(x, mu, sigma):\n",
    "    \"\"\"\n",
    "    Calculates the probability density function of a normal distribution\n",
    "    with mean mu and standard deviation sigma at a given point x.\n",
    "    \"\"\"\n",
    "    return (1 / (np.sqrt(2 * np.pi) * sigma)) * np.exp(-0.5 * ((x - mu) / sigma)**2)\n",
    "# Evaluate the PDF of a normal distribution with mean=0 and standard deviation=1 at x=1\n",
    "pdf_value = normal_pdf(1, 0, 1)\n",
    "print(f\"The PDF of a normal distribution with mean=0 and standard deviation=1 at x=1 is {pdf_value:.3f}\")\n"
   ]
  },
  {
   "cell_type": "code",
   "execution_count": null,
   "id": "a4d1a84e-029c-44db-ab53-ba740a345119",
   "metadata": {},
   "outputs": [],
   "source": []
  },
  {
   "cell_type": "code",
   "execution_count": 1,
   "id": "498bb107-5094-420d-a96e-6af84884821c",
   "metadata": {},
   "outputs": [
    {
     "name": "stdout",
     "output_type": "stream",
     "text": [
      "0.24197072451914337\n"
     ]
    }
   ],
   "source": [
    "import scipy.stats as stats\n",
    "\n",
    "def normal_pdf(mean, std_dev, x):\n",
    "    return stats.norm.pdf(x, loc=mean, scale=std_dev)\n",
    "mean = 0\n",
    "std_dev = 1\n",
    "x = 1\n",
    "\n",
    "pdf = normal_pdf(mean, std_dev, x)\n",
    "print(pdf)\n"
   ]
  },
  {
   "cell_type": "code",
   "execution_count": null,
   "id": "3ddbfa10-0f0a-459f-979b-e86e7977dcf9",
   "metadata": {},
   "outputs": [],
   "source": [
    "Q4. What are the properties of Binomial distribution? Give two examples of events where binomial\n",
    "distribution can be applied."
   ]
  },
  {
   "cell_type": "code",
   "execution_count": null,
   "id": "914bbf2c-b29a-48e5-b092-32870f796abd",
   "metadata": {},
   "outputs": [],
   "source": [
    "The binomial distribution is a probability distribution that describes the number of successes in a fixed number of independent trials, where each trial has only two possible outcomes, success or failure. The properties of the binomial distribution are:\n",
    "\n",
    "The trials are independent of each other.\n",
    "Each trial has only two possible outcomes.\n",
    "The probability of success and failure is constant for each trial.\n",
    "The number of trials is fixed.\n",
    "The binomial distribution is a probability distribution that describes the number of successes in a fixed number of independent trials, where each trial has only two possible outcomes, success or failure. The properties of the binomial distribution are:\n",
    "two examples of events where the binomial distribution can be applied are:\n",
    "1.flipping a coin\n",
    "2.quality control inspection"
   ]
  },
  {
   "cell_type": "code",
   "execution_count": null,
   "id": "9c295375-14fe-49e0-a08a-895e9c33d2d0",
   "metadata": {},
   "outputs": [],
   "source": [
    "Q5. Generate a random sample of size 1000 from a binomial distribution with probability of success 0.4\n",
    "and plot a histogram of the results using matplotlib."
   ]
  },
  {
   "cell_type": "code",
   "execution_count": 2,
   "id": "d403c82c-84ae-42e7-8391-b5a93381fb86",
   "metadata": {},
   "outputs": [
    {
     "data": {
      "image/png": "[encoded data removed]",
      "text/plain": [
       "<Figure size 640x480 with 1 Axes>"
      ]
     },
     "metadata": {},
     "output_type": "display_data"
    }
   ],
   "source": [
    "import numpy as np\n",
    "import matplotlib.pyplot as plt\n",
    "\n",
    "# Set parameters\n",
    "n = 1000  # Sample size\n",
    "p = 0.4  # Probability of success\n",
    "\n",
    "# Generate random sample\n",
    "sample = np.random.binomial(n, p, size=1000)\n",
    "\n",
    "# Plot histogram\n",
    "plt.hist(sample, bins=range(0, n+1), density=True, alpha=0.5)\n",
    "plt.xlabel('Number of successes')\n",
    "plt.ylabel('Probability')\n",
    "plt.title('Binomial Distribution Histogram (n=1000, p=0.4)')\n",
    "plt.show()\n"
   ]
  },
  {
   "cell_type": "code",
   "execution_count": null,
   "id": "6fc9a5aa-71ca-47dc-b28f-97c70f3ac1ac",
   "metadata": {},
   "outputs": [],
   "source": [
    "Q6. Write a Python function to calculate the cumulative distribution function of a Poisson distribution\n",
    "with given mean at a given point."
   ]
  },
  {
   "cell_type": "code",
   "execution_count": 3,
   "id": "c923f511-62a7-412c-b393-4ea1f88040a8",
   "metadata": {},
   "outputs": [
    {
     "name": "stdout",
     "output_type": "stream",
     "text": [
      "0.857123460498547\n"
     ]
    }
   ],
   "source": [
    "import scipy.stats as stats\n",
    "\n",
    "def poisson_cdf(mean, x):\n",
    "    return stats.poisson.cdf(x, mu=mean)\n",
    "mean = 2\n",
    "x = 3\n",
    "\n",
    "cdf = poisson_cdf(mean, x)\n",
    "print(cdf)\n"
   ]
  },
  {
   "cell_type": "code",
   "execution_count": null,
   "id": "94049fc4-428f-44d1-a4a0-980ad817773f",
   "metadata": {},
   "outputs": [],
   "source": [
    "Q7. How Binomial distribution different from Poisson distribution?"
   ]
  },
  {
   "cell_type": "code",
   "execution_count": null,
   "id": "a7c15e08-834b-49de-951b-a37bfd2bc4b9",
   "metadata": {},
   "outputs": [],
   "source": [
    "The Binomial distribution and Poisson distribution are both probability distributions that describe the number of events in a certain situation. However, they differ in a few key ways:\n",
    "\n",
    "Number of trials: The Binomial distribution is used to model the number of successes in a fixed number of independent trials, where each trial has only two possible outcomes (success or failure). The Poisson distribution, on the other hand, models the number of events that occur in a fixed interval of time or space.\n",
    "\n",
    "Probability of success: In a Binomial distribution, the probability of success (p) is constant for each trial. In a Poisson distribution, the mean number of events (lambda) is constant, but the probability of an event occurring at a particular time or location can vary."
   ]
  },
  {
   "cell_type": "code",
   "execution_count": null,
   "id": "4a2cbe21-3fba-467d-a2ca-dfcfab1b7bf9",
   "metadata": {},
   "outputs": [],
   "source": [
    "Q8. Generate a random sample of size 1000 from a Poisson distribution with mean 5 and calculate the\n",
    "sample mean and variance."
   ]
  },
  {
   "cell_type": "code",
   "execution_count": 4,
   "id": "b9499c50-1351-48de-9444-ea254624703f",
   "metadata": {},
   "outputs": [
    {
     "name": "stdout",
     "output_type": "stream",
     "text": [
      "Sample mean: 4.919\n",
      "Sample variance: 5.148\n"
     ]
    }
   ],
   "source": [
    "import numpy as np\n",
    "\n",
    "# Set parameters\n",
    "n = 1000  # Sample size\n",
    "mean = 5  # Mean of Poisson distribution\n",
    "\n",
    "# Generate random sample\n",
    "sample = np.random.poisson(mean, size=n)\n",
    "\n",
    "# Calculate sample mean and variance\n",
    "sample_mean = np.mean(sample)\n",
    "sample_var = np.var(sample)\n",
    "\n",
    "# Print results\n",
    "print(f\"Sample mean: {sample_mean:.3f}\")\n",
    "print(f\"Sample variance: {sample_var:.3f}\")\n"
   ]
  },
  {
   "cell_type": "code",
   "execution_count": null,
   "id": "ed2269c1-1837-495d-b088-7bb98bd142a8",
   "metadata": {},
   "outputs": [],
   "source": [
    "Q9. How mean and variance are related in Binomial distribution and Poisson distribution?"
   ]
  },
  {
   "cell_type": "code",
   "execution_count": null,
   "id": "4f7b75e1-70aa-40e9-9b15-606546867edf",
   "metadata": {},
   "outputs": [],
   "source": [
    "in both the Binomial and Poisson distributions, the mean and variance are directly proportional to each other. As the mean increases, the variance also increases, and vice versa. This relationship between the mean and variance is often referred to as the \"spread\" of the distribution."
   ]
  },
  {
   "cell_type": "code",
   "execution_count": null,
   "id": "6c9eaac3-17d5-4e9d-a745-59a82592aa29",
   "metadata": {},
   "outputs": [],
   "source": [
    "Q10. In normal distribution with respect to mean position, where does the least frequent data appear?"
   ]
  },
  {
   "cell_type": "code",
   "execution_count": null,
   "id": "95469122-6eb4-4eba-a003-138a03544456",
   "metadata": {},
   "outputs": [],
   "source": [
    "In a normal distribution, the data is symmetric around the mean. This means that the least frequent data points appear at the tails of the distribution, which are the points furthest away from the mean.\n"
   ]
  },
  {
   "cell_type": "code",
   "execution_count": null,
   "id": "58c874c1-c136-4a84-95b4-02a608fd58c4",
   "metadata": {},
   "outputs": [],
   "source": []
  },
  {
   "cell_type": "code",
   "execution_count": null,
   "id": "7fedc728-d270-4473-b2d1-26b937e14788",
   "metadata": {},
   "outputs": [],
   "source": []
  },
  {
   "cell_type": "code",
   "execution_count": null,
   "id": "6fb0f033-4613-4f24-a3ee-b9be29d54545",
   "metadata": {},
   "outputs": [],
   "source": []
  }
 ],
 "metadata": {
  "kernelspec": {
   "display_name": "Python 3 (ipykernel)",
   "language": "python",
   "name": "python3"
  },
  "language_info": {
   "codemirror_mode": {
    "name": "ipython",
    "version": 3
   },
   "file_extension": ".py",
   "mimetype": "text/x-python",
   "name": "python",
   "nbconvert_exporter": "python",
   "pygments_lexer": "ipython3",
   "version": "3.10.8"
  }
 },
 "nbformat": 4,
 "nbformat_minor": 5
}
