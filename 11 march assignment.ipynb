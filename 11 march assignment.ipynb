{
 "cells": [
  {
   "cell_type": "code",
   "execution_count": null,
   "id": "ff8cc0a0-324f-4c44-ac8d-c73a684aeed5",
   "metadata": {},
   "outputs": [],
   "source": [
    "Q1: What is the difference between a t-test and a z-test? Provide an example scenario where you would\n",
    "use each type of test."
   ]
  },
  {
   "cell_type": "code",
   "execution_count": null,
   "id": "77378559-47ca-4541-bfd3-1209304bee7b",
   "metadata": {},
   "outputs": [],
   "source": [
    "A z-test assumes that the population standard deviation is known or can be estimated accurately from a large sample, whereas a t-test assumes that the population standard deviation is unknown and must be estimated from the sample data. A t-test is also typically used when the sample size is small (less than 30), whereas a z-test is used when the sample size is large (greater than 30).\n",
    "1.T-test: Suppose you want to test whether a new weight-loss program is effective in helping people lose weight. You randomly select 20 participants and measure their weight before and after the program. You want to determine whether the program significantly reduced the participants' weight. Since the sample size is small, and the population standard deviation is unknown, you would use a t-test to compare the mean weight before and after the program.\n",
    "2.Z-test: Suppose you want to test whether the average height of adult males in the United States is different from the average height of adult males in Canada. You randomly select 500 adult males from each country and measure their heights. Since the sample size is large, and the population standard deviation can be estimated accurately from the sample, you would use a z-test to compare the mean height of the two populations."
   ]
  },
  {
   "cell_type": "code",
   "execution_count": null,
   "id": "6bdeba10-60d3-478c-9751-d08f245ef41c",
   "metadata": {},
   "outputs": [],
   "source": [
    "Q2: Differentiate between one-tailed and two-tailed tests."
   ]
  },
  {
   "cell_type": "code",
   "execution_count": null,
   "id": "9becc7fa-fcc8-44de-a4b6-a9d8c422a32c",
   "metadata": {},
   "outputs": [],
   "source": [
    "In hypothesis testing, a one-tailed test is a statistical test that involves testing a hypothesis in a specific direction, either in the positive or negative direction. This means that the null hypothesis is rejected only if the observed data falls within one tail of the distribution, either the upper tail or the lower tail. For example, a one-tailed test might be used to determine whether a new medication is better than an existing medication or whether a particular treatment is worse than a control treatment.\n",
    "\n",
    "In contrast, a two-tailed test is a statistical test that involves testing a hypothesis in both directions, both the positive and negative direction. This means that the null hypothesis is rejected if the observed data falls within either tail of the distribution, either the upper tail or the lower tail. For example, a two-tailed test might be used to determine whether a coin is biased or whether there is a significant difference between the mean scores of two groups."
   ]
  },
  {
   "cell_type": "code",
   "execution_count": null,
   "id": "34da646d-2840-405c-b215-d6e5f8661fb7",
   "metadata": {},
   "outputs": [],
   "source": [
    "Q3: Explain the concept of Type 1 and Type 2 errors in hypothesis testing. Provide an example scenario for\n",
    "each type of error."
   ]
  },
  {
   "cell_type": "code",
   "execution_count": null,
   "id": "d82e8c6c-2fce-4c49-83e4-fd352c869c42",
   "metadata": {},
   "outputs": [],
   "source": [
    "Type 1 error occurs when a null hypothesis is rejected even though it is true. This is also known as a false positive error. The probability of making a Type 1 error is denoted by α and is also known as the level of significance.\n",
    "\n",
    "Example scenario of a Type 1 error: Suppose a pharmaceutical company is testing a new drug, and the null hypothesis is that the drug is not effective. If the company concludes that the drug is effective, but in reality, it is not, this would be a Type 1 error. The company might spend a lot of money on producing and marketing the drug, but it won't help anyone.\n",
    "\n",
    "Type 2 error occurs when a null hypothesis is not rejected even though it is false. This is also known as a false negative error. The probability of making a Type 2 error is denoted by β.\n",
    "\n",
    "Example scenario of a Type 2 error: Suppose a medical company is testing a new drug, and the null hypothesis is that the drug is not effective. If the company concludes that the drug is not effective, but in reality, it is effective, this would be a Type 2 error. The company might miss out on a promising drug that could help many patients."
   ]
  },
  {
   "cell_type": "code",
   "execution_count": null,
   "id": "0c6360e2-5a5b-43ad-b323-b9cb7f3f248a",
   "metadata": {},
   "outputs": [],
   "source": [
    "Q4: Explain Bayes's theorem with an example."
   ]
  },
  {
   "cell_type": "code",
   "execution_count": null,
   "id": "ff367e00-66e0-4925-8aab-b031502870be",
   "metadata": {},
   "outputs": [],
   "source": [
    "Bayes's theorem is a mathematical formula that describes the probability of an event occurring, given some prior knowledge or evidence. It was first introduced by Reverend Thomas Bayes in the 18th century and is widely used in fields such as statistics, data science, and machine learning.\n",
    "\n",
    "The theorem states that the probability of an event A given that event B has occurred can be calculated using the following formula:\n",
    "\n",
    "P(A|B) = P(B|A) * P(A) / P(B)\n",
    "\n",
    "where P(A) is the prior probability of event A, P(B|A) is the conditional probability of event B given that event A has occurred, P(B) is the probability of event B occurring, and P(A|B) is the posterior probability of event A given that event B has occurred."
   ]
  },
  {
   "cell_type": "code",
   "execution_count": null,
   "id": "8a668318-8d01-41e6-8722-3f6bbde4a863",
   "metadata": {},
   "outputs": [],
   "source": [
    "Q5: What is a confidence interval? How to calculate the confidence interval, explain with an example."
   ]
  },
  {
   "cell_type": "code",
   "execution_count": null,
   "id": "96fba7eb-9af5-4079-b534-47be7996fedb",
   "metadata": {},
   "outputs": [],
   "source": [
    "A confidence interval is a statistical measure that provides a range of values within which a population parameter, such as the mean or proportion, is likely to lie. It is often used to estimate the precision of a sample statistic, such as the mean or proportion, based on a given sample size and level of confidence.\n",
    "\n",
    "The confidence interval is expressed as a range of values with a specified level of confidence, which is typically 95% or 99%. This means that if the same population is sampled multiple times, the true population parameter is expected to fall within the confidence interval for the specified level of confidence in the vast majority of cases.\n",
    "\n",
    "To calculate a confidence interval, we need to know the sample size, the sample statistic, the standard error of the statistic, and the level of confidence.\n",
    "\n",
    "The formula for calculating a confidence interval for the mean, given a sample size n, sample mean x̄, sample standard deviation s, and a level of confidence of 95%, is:\n",
    "\n",
    "CI = x̄ ± t* (s/√n)\n",
    "\n",
    "where t is the critical value of the t-distribution with n-1 degrees of freedom, which can be obtained from a t-distribution table or a statistical software package.\n",
    "\n",
    "For example, suppose we want to estimate the mean weight of all apples produced in a certain orchard. We take a random sample of 50 apples and measure their weights. The sample mean weight is 120 grams, and the sample standard deviation is 10 grams. We want to calculate a 95% confidence interval for the population mean weight.\n",
    "\n",
    "First, we need to calculate the standard error of the mean, which is the standard deviation of the sampling distribution of the mean:\n",
    "\n",
    "SEM = s/√n = 10/√50 = 1.41\n",
    "\n",
    "Next, we need to find the critical value of the t-distribution with 49 degrees of freedom, which is 2.009 for a 95% confidence level. This value can be obtained from a t-distribution table or a statistical software package.\n",
    "\n",
    "Finally, we can calculate the confidence interval:\n",
    "\n",
    "CI = 120 ± 2.009*(1.41) = [117.24, 122.76]\n",
    "\n",
    "Therefore, we can say with 95% confidence that the true population mean weight of all apples in the orchard is between 117.24 grams and 122.76 grams."
   ]
  },
  {
   "cell_type": "code",
   "execution_count": null,
   "id": "4d66a92e-2ac3-463a-99f6-47a7f6133646",
   "metadata": {},
   "outputs": [],
   "source": [
    "Q6. Use Bayes' Theorem to calculate the probability of an event occurring given prior knowledge of the\n",
    "event's probability and new evidence. Provide a sample problem and solution."
   ]
  },
  {
   "cell_type": "code",
   "execution_count": null,
   "id": "87435b8a-df2b-4c91-b42c-c7d24b5c3c29",
   "metadata": {},
   "outputs": [],
   "source": [
    "Problem: A doctor wants to determine the probability that a patient has a certain disease based on the patient's symptoms. The prevalence of the disease in the general population is 5%, and the test for the disease is 95% accurate (meaning it correctly identifies 95% of people who have the disease and 5% of people who do not have the disease). If the patient tests positive for the disease, what is the probability that they actually have the disease?\n",
    "\n",
    "Solution:\n",
    "\n",
    "Let's define the events as follows:\n",
    "\n",
    "A: the patient has the disease\n",
    "B: the patient tests positive for the disease\n",
    "We want to find P(A|B), the probability that the patient has the disease given a positive test result.\n",
    "\n",
    "First, we need to calculate the prior probability of the patient having the disease, P(A). We are told that the prevalence of the disease in the general population is 5%, so:\n",
    "\n",
    "P(A) = 0.05\n",
    "\n",
    "Next, we need to calculate the conditional probability of testing positive for the disease given that the patient has the disease, P(B|A). We are told that the test is 95% accurate, so:\n",
    "\n",
    "P(B|A) = 0.95\n",
    "\n",
    "We also need to calculate the conditional probability of testing positive for the disease given that the patient does not have the disease, P(B|not A). Since the test is 95% accurate, it has a false positive rate of 5%, so:\n",
    "\n",
    "P(B|not A) = 0.05\n",
    "\n",
    "Next, we need to calculate the marginal probability of testing positive for the disease, P(B). We can use the law of total probability to calculate this, which states that:\n",
    "\n",
    "P(B) = P(B|A) * P(A) + P(B|not A) * P(not A)\n",
    "\n",
    "We know P(B|A) and P(B|not A), and we can calculate P(not A) as:\n",
    "\n",
    "P(not A) = 1 - P(A) = 0.95\n",
    "\n",
    "Therefore:\n",
    "\n",
    "P(B) = 0.95 * 0.05 + 0.05 * 0.95 = 0.0975\n",
    "\n",
    "Finally, we can use Bayes' Theorem to calculate the probability that the patient has the disease given a positive test result:\n",
    "\n",
    "P(A|B) = P(B|A) * P(A) / P(B)\n",
    "\n",
    "Plugging in the values we calculated, we get:\n",
    "\n",
    "P(A|B) = 0.95 * 0.05 / 0.0975 = 0.487\n",
    "\n",
    "So the probability that the patient actually has the disease given a positive test result is about 49%. This means that even with a positive test result, there is still a significant chance that the patient does not have the disease, and further testing or evaluation may be necessary."
   ]
  },
  {
   "cell_type": "code",
   "execution_count": null,
   "id": "154c2f87-d31d-4c5f-931e-2ca662f8cc72",
   "metadata": {},
   "outputs": [],
   "source": [
    "Q7. Calculate the 95% confidence interval for a sample of data with a mean of 50 and a standard deviation\n",
    "of 5. Interpret the results."
   ]
  },
  {
   "cell_type": "code",
   "execution_count": null,
   "id": "afb21645-6fbb-4103-a67e-1b785d85da23",
   "metadata": {},
   "outputs": [],
   "source": [
    "To calculate the 95% confidence interval for a sample of data with a mean of 50 and a standard deviation of 5, we need to use the formula:\n",
    "\n",
    "CI = x̄ ± z* (s/√n)\n",
    "\n",
    "where x̄ is the sample mean, s is the sample standard deviation, n is the sample size, and z is the critical value of the standard normal distribution for a 95% confidence level, which is 1.96.\n",
    "\n",
    "Plugging in the values we have, we get:\n",
    "\n",
    "CI = 50 ± 1.96*(5/√n)\n",
    "\n",
    "We don't have a sample size, so we cannot calculate the exact confidence interval. However, we can still interpret the results.\n",
    "\n",
    "The 95% confidence interval means that if we were to take multiple samples of the same size from the same population, and calculate a 95% confidence interval for each sample mean, 95% of those intervals would contain the true population mean.\n",
    "\n",
    "In this case, if we had a sample size and were able to calculate the exact confidence interval, it would mean that we are 95% confident that the true population mean falls within that interval.\n",
    "\n",
    "So, for example, if we had a 95% confidence interval of (48.5, 51.5), we would interpret it as there is a 95% chance that the true population mean falls between 48.5 and 51.5."
   ]
  },
  {
   "cell_type": "code",
   "execution_count": null,
   "id": "accf567a-ada1-48f2-bf2f-2579361131cb",
   "metadata": {},
   "outputs": [],
   "source": [
    "Q8. What is the margin of error in a confidence interval? How does sample size affect the margin of error?\n",
    "Provide an example of a scenario where a larger sample size would result in a smaller margin of error."
   ]
  },
  {
   "cell_type": "code",
   "execution_count": null,
   "id": "5310d623-db5f-4d4c-8140-a2bbfec5f3c9",
   "metadata": {},
   "outputs": [],
   "source": [
    "The margin of error in a confidence interval is the range of values above and below the sample estimate of a population parameter that is likely to contain the true value of that parameter with a certain level of confidence. It is usually expressed as a percentage or as a value.\n",
    "\n",
    "The margin of error is affected by various factors, such as the sample size, the level of confidence desired, and the variability in the data.\n",
    "\n",
    "In general, larger sample sizes result in smaller margins of error because larger samples provide more information about the population being studied. As the sample size increases, the standard error of the estimate decreases, resulting in a smaller margin of error.\n",
    "\n",
    "For example, suppose a political survey wants to estimate the percentage of voters who support a certain candidate in a city of 10,000 voters. If they survey only 100 voters, they may find that 55% of them support the candidate. With a 95% confidence level, the margin of error for this estimate would be around +/- 9.8%. However, if they survey 1,000 voters, the margin of error for the estimate would be around +/- 3.1%, which is much smaller.\n",
    "\n",
    "Thus, a larger sample size would result in a smaller margin of error, which would increase the precision and accuracy of the estimate of the population parameter."
   ]
  },
  {
   "cell_type": "code",
   "execution_count": null,
   "id": "2f1f0b50-201e-440f-ae87-34265fcde841",
   "metadata": {},
   "outputs": [],
   "source": [
    "Q9. Calculate the z-score for a data point with a value of 75, a population mean of 70, and a population\n",
    "standard deviation of 5. Interpret the results."
   ]
  },
  {
   "cell_type": "code",
   "execution_count": null,
   "id": "09c99124-0621-4717-8284-2a030de8c830",
   "metadata": {},
   "outputs": [],
   "source": [
    "he z-score (or standard score) for a data point measures how many standard deviations a data point is away from the population mean. It is calculated using the formula:\n",
    "\n",
    "z = (x - μ) / σ\n",
    "\n",
    "where x is the data point, μ is the population mean, and σ is the population standard deviation.\n",
    "\n",
    "In this case, we have:\n",
    "\n",
    "x = 75 (data point)\n",
    "μ = 70 (population mean)\n",
    "σ = 5 (population standard deviation)\n",
    "\n",
    "Plugging in these values, we get:\n",
    "\n",
    "z = (75 - 70) / 5 = 1\n",
    "\n",
    "So the z-score for the data point of 75 is 1.\n",
    "\n",
    "Interpreting the results, we can say that the data point of 75 is 1 standard deviation above the population mean of 70. This means that the value of 75 is relatively high compared to the population, and that there are only a few observations with a value greater than 75. The z-score also tells us that the value of 75 falls within the first standard deviation from the mean, which means it is not very unusual or extreme."
   ]
  },
  {
   "cell_type": "code",
   "execution_count": null,
   "id": "68223381-454c-42ce-963a-971ed6e0fc6b",
   "metadata": {},
   "outputs": [],
   "source": [
    "Q10. In a study of the effectiveness of a new weight loss drug, a sample of 50 participants lost an average\n",
    "of 6 pounds with a standard deviation of 2.5 pounds. Conduct a hypothesis test to determine if the drug is\n",
    "significantly effective at a 95% confidence level using a t-test."
   ]
  },
  {
   "cell_type": "code",
   "execution_count": null,
   "id": "5db22f78-4fb4-424a-9913-eea790da0b12",
   "metadata": {},
   "outputs": [],
   "source": [
    "To conduct a hypothesis test to determine if the weight loss drug is significantly effective at a 95% confidence level, we need to set up the null and alternative hypotheses:\n",
    "\n",
    "Null hypothesis (H0): The weight loss drug is not significantly effective; the mean weight loss is not significantly different from zero.\n",
    "Alternative hypothesis (Ha): The weight loss drug is significantly effective; the mean weight loss is significantly different from zero.\n",
    "We will use a two-tailed t-test, as the alternative hypothesis is not directional.\n",
    "\n",
    "The test statistic for a t-test is calculated using the formula:\n",
    "\n",
    "t = (x̄ - μ) / (s / √n)\n",
    "\n",
    "where x̄ is the sample mean, μ is the hypothesized population mean (in this case, zero), s is the sample standard deviation, and n is the sample size.\n",
    "\n",
    "Plugging in the values we have, we get:\n",
    "\n",
    "t = (6 - 0) / (2.5 / √50) = 13.42\n",
    "\n",
    "The degrees of freedom for this test are 49 (n - 1).\n",
    "\n",
    "Using a t-distribution table or calculator with 49 degrees of freedom and a 95% confidence level, we find the critical values to be -2.01 and 2.01.\n",
    "\n",
    "Since our calculated t-value of 13.42 falls outside of the critical values, we reject the null hypothesis and conclude that the weight loss drug is significantly effective at a 95% confidence level."
   ]
  },
  {
   "cell_type": "code",
   "execution_count": null,
   "id": "d7fbcf6f-4664-46b4-abe9-b02d8491f1a9",
   "metadata": {},
   "outputs": [],
   "source": [
    "Q11. In a survey of 500 people, 65% reported being satisfied with their current job. Calculate the 95%\n",
    "confidence interval for the true proportion of people who are satisfied with their job."
   ]
  },
  {
   "cell_type": "code",
   "execution_count": null,
   "id": "0b321163-5d4d-4876-bf63-3b44371229d7",
   "metadata": {},
   "outputs": [],
   "source": [
    "To calculate the 95% confidence interval for the true proportion of people who are satisfied with their job, we can use the following formula:\n",
    "\n",
    "CI = p̂ ± z*√(p̂(1-p̂) / n)\n",
    "\n",
    "where p̂ is the sample proportion, z is the critical value from the standard normal distribution for the desired confidence level (in this case, 95%), and n is the sample size.\n",
    "\n",
    "Plugging in the values we have, we get:\n",
    "\n",
    "p̂ = 0.65 (sample proportion)\n",
    "n = 500 (sample size)\n",
    "z = 1.96 (critical value for 95% confidence level)\n",
    "\n",
    "CI = 0.65 ± 1.96*√(0.65(1-0.65) / 500)\n",
    "= 0.65 ± 0.042\n",
    "= (0.608, 0.692)\n",
    "\n",
    "Therefore, we can be 95% confident that the true proportion of people who are satisfied with their job is between 60.8% and 69.2%, based on the sample of 500 people. This means that if we were to repeat the survey many times, we would expect the true proportion of satisfied people to fall within this interval about 95% of the time."
   ]
  },
  {
   "cell_type": "code",
   "execution_count": null,
   "id": "8a4ca66c-21bc-4a91-9ad0-eda543851c8e",
   "metadata": {},
   "outputs": [],
   "source": [
    "Q12. A researcher is testing the effectiveness of two different teaching methods on student performance.\n",
    "Sample A has a mean score of 85 with a standard deviation of 6, while sample B has a mean score of 82\n",
    "with a standard deviation of 5. Conduct a hypothesis test to determine if the two teaching methods have a\n",
    "significant difference in student performance using a t-test with a significance level of 0.01."
   ]
  },
  {
   "cell_type": "code",
   "execution_count": null,
   "id": "cf5ee335-d922-4f16-b16c-3273a506d404",
   "metadata": {},
   "outputs": [],
   "source": [
    "To conduct a hypothesis test to determine if the two teaching methods have a significant difference in student performance using a t-test, we need to set up the null and alternative hypotheses:\n",
    "\n",
    "Null hypothesis (H0): The two teaching methods do not have a significant difference in student performance; the mean difference between the two samples is not significantly different from zero.\n",
    "Alternative hypothesis (Ha): The two teaching methods have a significant difference in student performance; the mean difference between the two samples is significantly different from zero.\n",
    "We will use a two-tailed t-test, as the alternative hypothesis is not directional.\n",
    "\n",
    "The test statistic for a t-test comparing two independent samples is calculated using the formula:\n",
    "\n",
    "t = (x̄1 - x̄2) / SE\n",
    "\n",
    "where x̄1 and x̄2 are the sample means, and SE is the standard error of the difference between the means:\n",
    "\n",
    "SE = √(s1^2 / n1 + s2^2 / n2)\n",
    "\n",
    "where s1 and s2 are the sample standard deviations, and n1 and n2 are the sample sizes.\n",
    "\n",
    "Plugging in the values we have, we get:\n",
    "\n",
    "x̄1 = 85, s1 = 6, n1 = ? (sample size for sample A is not given)\n",
    "x̄2 = 82, s2 = 5, n2 = ? (sample size for sample B is not given)\n",
    "\n",
    "We cannot calculate the standard error and t-test statistic without knowing the sample sizes. Therefore, we need to make some assumptions to proceed with the test.\n",
    "\n",
    "Assuming that the sample sizes are equal (n1 = n2 = n), we can estimate the pooled standard deviation:\n",
    "\n",
    "sp = √((n1-1)s1^2 + (n2-1)s2^2) / (n1+n2-2)\n",
    "\n",
    "Plugging in the values we have, we get:\n",
    "\n",
    "sp = √((n-1)(6^2) + (n-1)(5^2)) / (2n - 2)\n",
    "= 5.47\n",
    "\n",
    "Using this estimate, we can calculate the standard error and t-test statistic:\n",
    "\n",
    "SE = sp * √(1/n1 + 1/n2) = 5.47 * √(2/n)\n",
    "t = (85 - 82) / SE = 3 / (5.47 * √(2/n))\n",
    "\n",
    "Using a t-distribution table or calculator with (2n-2) degrees of freedom and a significance level of 0.01, we find the critical value to be ±2.576.\n",
    "\n",
    "If we assume a sample size of n = 30, we get:\n",
    "\n",
    "SE = 5.47 * √(2/30) = 1.00\n",
    "t = 3 / (5.47 * √(2/30)) = 4.99\n",
    "\n",
    "Since our calculated t-value of 4.99 is greater than the critical value of 2.576, we reject the null hypothesis and conclude that the two teaching methods have a significant difference in student performance at a significance level of 0.01.\n",
    "\n",
    "This means that we can be confident that the mean difference in performance between the two teaching methods is not due to chance, and that one method is likely to be more effective than the other. However, we cannot determine from this test which teaching method is more effective.\n",
    "\n",
    "\n",
    "\n"
   ]
  },
  {
   "cell_type": "code",
   "execution_count": null,
   "id": "cacf63b4-ccfd-4fd5-bf1f-80da1353ee79",
   "metadata": {},
   "outputs": [],
   "source": [
    "Q13. A population has a mean of 60 and a standard deviation of 8. A sample of 50 observations has a mean\n",
    "of 65. Calculate the 90% confidence interval for the true population mean."
   ]
  },
  {
   "cell_type": "code",
   "execution_count": null,
   "id": "e2480335-aecc-4919-81ba-83ef58ca6049",
   "metadata": {},
   "outputs": [],
   "source": [
    "To calculate the confidence interval for the population mean, we will use the formula:\n",
    "\n",
    "CI = X̄ ± Zα/2 * (σ/√n)\n",
    "\n",
    "Where:\n",
    "X̄ = sample mean = 65\n",
    "σ = population standard deviation = 8\n",
    "n = sample size = 50\n",
    "α = 1 - confidence level = 1 - 0.90 = 0.10\n",
    "Zα/2 = the z-score corresponding to the α/2 level of the standard normal distribution. From a z-table, we can find that the z-score for α/2 = 0.05 is 1.645.\n",
    "\n",
    "Plugging in the values, we get:\n",
    "\n",
    "CI = 65 ± 1.645 * (8/√50)\n",
    "CI = 65 ± 2.329\n",
    "CI = (62.671, 67.329)\n",
    "\n",
    "Therefore, we can say with 90% confidence that the true population mean lies between 62.671 and 67.329.\n"
   ]
  },
  {
   "cell_type": "code",
   "execution_count": null,
   "id": "f014ac7b-b3a0-4e9d-80d1-bb79acd31665",
   "metadata": {},
   "outputs": [],
   "source": [
    "Q14. In a study of the effects of caffeine on reaction time, a sample of 30 participants had an average\n",
    "reaction time of 0.25 seconds with a standard deviation of 0.05 seconds. Conduct a hypothesis test to\n",
    "determine if the caffeine has a significant effect on reaction time at a 90% confidence level using a t-test."
   ]
  },
  {
   "cell_type": "code",
   "execution_count": null,
   "id": "4731e8d7-9540-4237-ab14-85ab73e68b99",
   "metadata": {},
   "outputs": [],
   "source": [
    "To conduct a hypothesis test to determine if caffeine has a significant effect on reaction time, we need to set up the null and alternative hypotheses. Let μ be the population mean reaction time without caffeine, and μ_c be the population mean reaction time with caffeine. Then:\n",
    "\n",
    "Null Hypothesis: μ = μ_c\n",
    "Alternative Hypothesis: μ ≠ μ_c\n",
    "\n",
    "We will use a two-tailed t-test because we are testing for a difference between two population means. The test statistic can be calculated as:\n",
    "\n",
    "t = (X̄ - X̄_c) / (s / √n)\n",
    "\n",
    "where X̄ is the sample mean without caffeine, X̄_c is the sample mean with caffeine, s is the pooled standard deviation, and n is the sample size.\n",
    "\n",
    "First, we need to calculate the pooled standard deviation:\n",
    "\n",
    "s = √((s1^2 + s2^2) / (n1 + n2 - 2))\n",
    "\n",
    "where s1 is the standard deviation of the sample without caffeine, s2 is the standard deviation of the sample with caffeine, and n1 and n2 are the sample sizes.\n",
    "\n",
    "s = √((0.05^2 + 0.05^2) / (30 + 30 - 2))\n",
    "s = 0.050\n",
    "\n",
    "Next, we can calculate the test statistic:\n",
    "\n",
    "t = (0.25 - X̄_c) / (0.050 / √30)\n",
    "\n",
    "We don't know the population mean reaction time with caffeine, so we can't directly calculate the t-statistic. Instead, we can use the sample mean as an estimate of the population mean reaction time with caffeine. Let's assume that the sample mean reaction time with caffeine is 0.22 seconds. Then:\n",
    "\n",
    "t = (0.25 - 0.22) / (0.050 / √30)\n",
    "t = 1.80\n",
    "\n",
    "Using a t-table with 58 degrees of freedom (df = n1 + n2 - 2 = 30 + 30 - 2), at a 90% confidence level (α = 0.10, two-tailed), the critical values are ±1.67. Since our calculated t-value of 1.80 is greater than the critical value of 1.67, we reject the null hypothesis.\n",
    "\n",
    "Therefore, we can conclude that there is a significant difference in reaction time between the population with caffeine and the population without caffeine. The sample provides evidence that caffeine has a significant effect on reaction time."
   ]
  },
  {
   "cell_type": "code",
   "execution_count": null,
   "id": "a24d3705-e319-42bc-b0d7-aac3b501272c",
   "metadata": {},
   "outputs": [],
   "source": []
  }
 ],
 "metadata": {
  "kernelspec": {
   "display_name": "Python 3 (ipykernel)",
   "language": "python",
   "name": "python3"
  },
  "language_info": {
   "codemirror_mode": {
    "name": "ipython",
    "version": 3
   },
   "file_extension": ".py",
   "mimetype": "text/x-python",
   "name": "python",
   "nbconvert_exporter": "python",
   "pygments_lexer": "ipython3",
   "version": "3.10.8"
  }
 },
 "nbformat": 4,
 "nbformat_minor": 5
}
