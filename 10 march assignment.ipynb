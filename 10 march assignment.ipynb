{
 "cells": [
  {
   "cell_type": "code",
   "execution_count": null,
   "id": "0c167563-d860-4303-a1d5-708b9f8e23c2",
   "metadata": {},
   "outputs": [],
   "source": [
    "Q1: What is Estimation Statistics? Explain point estimate and interval estimate."
   ]
  },
  {
   "cell_type": "code",
   "execution_count": null,
   "id": "d2a7a6a0-d308-465a-89d3-a1bb1b83c859",
   "metadata": {},
   "outputs": [],
   "source": [
    "Estimation statistics is a branch of statistics that involves using sample data to make inferences about a population. The goal of estimation is to estimate one or more unknown population parameters, such as the population mean or proportion, using the information obtained from a sample of data.\n",
    "There are two types of estimates in estimation statistics: point estimates and interval estimates.\n",
    "A point estimate is a single value that is used to estimate an unknown population parameter. For example, the sample mean is a point estimate of the population mean, and the sample proportion is a point estimate of the population proportion. Point estimates are often used when a single value is required, such as in decision making.\n",
    "Interval estimates, on the other hand, provide a range of values within which the true population parameter is likely to fall. For example, a 95% confidence interval for the population mean would provide a range of values within which the true population mean is likely to fall with 95% confidence. Interval estimates are useful when we want to be more precise about the estimate and need to communicate the level of uncertainty in the estimate"
   ]
  },
  {
   "cell_type": "code",
   "execution_count": null,
   "id": "cf1000fb-5ddc-4a18-aedc-556b7d127808",
   "metadata": {},
   "outputs": [],
   "source": [
    "Q2. Write a Python function to estimate the population mean using a sample mean and standard\n",
    "deviation."
   ]
  },
  {
   "cell_type": "code",
   "execution_count": 1,
   "id": "ba5c0bb3-92bb-44d8-bf3b-0549fae7bb9d",
   "metadata": {},
   "outputs": [
    {
     "name": "stdout",
     "output_type": "stream",
     "text": [
      "Population mean estimate: (9.709999999999999, 10.69)\n"
     ]
    }
   ],
   "source": [
    "def estimate_pop_mean(sample_mean, sample_std, sample_size):\n",
    "    import math\n",
    "    # calculate the standard error of the mean\n",
    "    std_err_mean = sample_std / math.sqrt(sample_size)\n",
    "    # calculate the margin of error (using a 95% confidence level)\n",
    "    margin_error = 1.96 * std_err_mean\n",
    "    # calculate the lower and upper bounds of the confidence interval\n",
    "    lower_bound = sample_mean - margin_error\n",
    "    upper_bound = sample_mean + margin_error\n",
    "    # return the confidence interval as a tuple\n",
    "    return (lower_bound, upper_bound)\n",
    "# Example usage\n",
    "sample_mean = 10.2\n",
    "sample_std = 2.5\n",
    "sample_size = 100\n",
    "pop_mean_estimate = estimate_pop_mean(sample_mean, sample_std, sample_size)\n",
    "print(f\"Population mean estimate: {pop_mean_estimate}\")\n"
   ]
  },
  {
   "cell_type": "code",
   "execution_count": null,
   "id": "09f7f3fb-3032-4f4f-9063-d046e2f586c2",
   "metadata": {},
   "outputs": [],
   "source": [
    "Q3: What is Hypothesis testing? Why is it used? State the importance of Hypothesis testing."
   ]
  },
  {
   "cell_type": "code",
   "execution_count": null,
   "id": "bb302b43-ceaa-4587-aa21-703713b28548",
   "metadata": {},
   "outputs": [],
   "source": [
    "Hypothesis testing is a statistical method used to determine whether a statement or assumption about a population parameter is likely to be true or false based on sample data. In hypothesis testing, we start by stating a null hypothesis, which is a statement about the population that we assume to be true. We then collect sample data and use statistical tests to calculate the probability of obtaining a result as extreme as the one we observed, given the null hypothesis. If this probability is very low, we reject the null hypothesis and conclude that our sample data provides evidence in favor of an alternative hypothesis.\n",
    "\n",
    "Hypothesis testing is used to make decisions based on data, such as whether to approve a new drug based on clinical trial results or whether to reject a null hypothesis in a scientific study. It is a powerful tool for testing theories and evaluating evidence, and it helps to ensure that decisions are made based on sound statistical principles rather than intuition or speculation.\n",
    "\n",
    "The importance of hypothesis testing lies in its ability to make objective and evidence-based decisions. By using hypothesis testing, we can determine whether our sample data provides enough evidence to reject a null hypothesis and support an alternative hypothesis, or whether the observed results are likely due to chance."
   ]
  },
  {
   "cell_type": "code",
   "execution_count": null,
   "id": "afb24658-2766-4124-b0dd-9f3ddc7ce758",
   "metadata": {},
   "outputs": [],
   "source": [
    "Q4. Create a hypothesis that states whether the average weight of male college students is greater than\n",
    "the average weight of female college students."
   ]
  },
  {
   "cell_type": "code",
   "execution_count": null,
   "id": "a3474961-cd29-4d1a-94b6-9c43fee4b932",
   "metadata": {},
   "outputs": [],
   "source": [
    "Null hypothesis: The average weight of male college students is equal to the average weight of female college students.\n",
    "\n",
    "Alternative hypothesis: The average weight of male college students is greater than the average weight of female college students."
   ]
  },
  {
   "cell_type": "code",
   "execution_count": null,
   "id": "c6fd90fc-6ef0-42d5-bef0-aae306925793",
   "metadata": {},
   "outputs": [],
   "source": [
    "Q5. Write a Python script to conduct a hypothesis test on the difference between two population means,\n",
    "given a sample from each population."
   ]
  },
  {
   "cell_type": "code",
   "execution_count": 2,
   "id": "38750c3f-2de1-4dd3-a6f5-12faa323b5dc",
   "metadata": {},
   "outputs": [
    {
     "name": "stdout",
     "output_type": "stream",
     "text": [
      "Sample 1 mean: 8.00\n",
      "Sample 2 mean: 7.00\n",
      "Sample 1 standard deviation: 3.16\n",
      "Sample 2 standard deviation: 3.16\n",
      "T-statistic: 0.50\n",
      "P-value: 0.6305\n",
      "We fail to reject the null hypothesis and cannot conclude that the population means are different.\n"
     ]
    }
   ],
   "source": [
    "import numpy as np\n",
    "from scipy.stats import ttest_ind\n",
    "\n",
    "# Set the significance level\n",
    "alpha = 0.05\n",
    "\n",
    "# Define the two samples\n",
    "sample_1 = [4, 6, 8, 10, 12]\n",
    "sample_2 = [3, 5, 7, 9, 11]\n",
    "\n",
    "# Calculate the means and standard deviations of the samples\n",
    "mean_1 = np.mean(sample_1)\n",
    "mean_2 = np.mean(sample_2)\n",
    "std_1 = np.std(sample_1, ddof=1)\n",
    "std_2 = np.std(sample_2, ddof=1)\n",
    "\n",
    "# Calculate the test statistic and p-value using a two-sample t-test\n",
    "t_stat, p_val = ttest_ind(sample_1, sample_2, equal_var=False)\n",
    "\n",
    "# Print the results\n",
    "print(f\"Sample 1 mean: {mean_1:.2f}\")\n",
    "print(f\"Sample 2 mean: {mean_2:.2f}\")\n",
    "print(f\"Sample 1 standard deviation: {std_1:.2f}\")\n",
    "print(f\"Sample 2 standard deviation: {std_2:.2f}\")\n",
    "print(f\"T-statistic: {t_stat:.2f}\")\n",
    "print(f\"P-value: {p_val:.4f}\")\n",
    "\n",
    "# Test the null hypothesis at the specified significance level\n",
    "if p_val < alpha:\n",
    "    print(\"We reject the null hypothesis and conclude that the population means are different.\")\n",
    "else:\n",
    "    print(\"We fail to reject the null hypothesis and cannot conclude that the population means are different.\")\n"
   ]
  },
  {
   "cell_type": "code",
   "execution_count": null,
   "id": "c0a7744b-ef0e-49b7-88ef-a356c3817ce9",
   "metadata": {},
   "outputs": [],
   "source": [
    "Q6: What is a null and alternative hypothesis? Give some examples."
   ]
  },
  {
   "cell_type": "code",
   "execution_count": null,
   "id": "2c92028a-3126-44e4-a6b6-d6d38ef9c48c",
   "metadata": {},
   "outputs": [],
   "source": [
    "In statistics, a null hypothesis (H0) is a statement that assumes there is no significant difference between two groups or variables, or that there is no effect of an intervention or treatment. An alternative hypothesis (Ha) is a statement that contradicts the null hypothesis, assuming that there is a significant difference between two groups or variables, or that there is an effect of an intervention or treatment.\n",
    "\n",
    "Here are some examples of null and alternative hypotheses:\n",
    "\n",
    "Example for comparing two groups:\n",
    "Null hypothesis: There is no difference in mean weight between men and women.\n",
    "Alternative hypothesis: The mean weight of men is significantly different from the mean weight of women.\n",
    "\n",
    "Example for testing a treatment effect:\n",
    "Null hypothesis: The new drug has no effect on blood pressure.\n",
    "Alternative hypothesis: The new drug significantly lowers blood pressure."
   ]
  },
  {
   "cell_type": "code",
   "execution_count": null,
   "id": "6e7e07c4-1135-4daa-ab0f-39fdd15f705b",
   "metadata": {},
   "outputs": [],
   "source": [
    "Q7: Write down the steps involved in hypothesis testing."
   ]
  },
  {
   "cell_type": "code",
   "execution_count": null,
   "id": "6ecc17c3-203b-4de5-a1bb-c4f0d93aa5c3",
   "metadata": {},
   "outputs": [],
   "source": [
    "Hypothesis testing is a statistical method used to determine whether there is enough evidence to support or reject a hypothesis about a population based on a sample of data. The following are the general steps involved in hypothesis testing:\n",
    "\n",
    "1.Formulate the null hypothesis (H0) and alternative hypothesis (Ha): The null hypothesis is the statement of no effect or no difference between two groups, while the alternative hypothesis is the statement of a significant effect or difference.\n",
    "\n",
    "2.Set the significance level (alpha): The significance level is the maximum probability of making a type I error, which is rejecting the null hypothesis when it is actually true. A common choice for alpha is 0.05.\n",
    "\n",
    "3.Collect the sample data: Collect a sample of data from the population of interest.\n",
    "\n",
    "4.Calculate the test statistic: Use the sample data to calculate a test statistic that measures how far the sample result is from the null hypothesis.\n",
    "\n",
    "5.Determine the p-value: The p-value is the probability of obtaining a sample result as extreme or more extreme than the observed result, assuming the null hypothesis is true.\n",
    "\n",
    "6.Make a decision: Compare the p-value to the significance level. If the p-value is less than the significance level, reject the null hypothesis in favor of the alternative hypothesis. Otherwise, fail to reject the null hypothesis.\n",
    "\n",
    "7.Interpret the results: If the null hypothesis is rejected, it means that there is evidence to support the alternative hypothesis. If the null hypothesis is not rejected, it means that there is not enough evidence to support the alternative hypothesis.\n",
    "\n",
    "8.Draw conclusions: Based on the results of the hypothesis test, draw conclusions about the population of interest."
   ]
  },
  {
   "cell_type": "code",
   "execution_count": null,
   "id": "5f4b70c0-cb3b-4e2b-abc9-5a9cfb730078",
   "metadata": {},
   "outputs": [],
   "source": [
    "Q8. Define p-value and explain its significance in hypothesis testing."
   ]
  },
  {
   "cell_type": "code",
   "execution_count": null,
   "id": "51fd185d-316a-412d-b15c-f27a4dbcdebc",
   "metadata": {},
   "outputs": [],
   "source": [
    "In hypothesis testing, the p-value is the probability of obtaining a sample result as extreme or more extreme than the observed result, assuming the null hypothesis is true. In other words, it measures the strength of the evidence against the null hypothesis.\n",
    "The p-value is significant in hypothesis testing because it allows researchers to make an objective decision about whether to reject or fail to reject the null hypothesis. By choosing a significance level, researchers can control the risk of making a type I error, which is important in ensuring that the results of the hypothesis test are valid and reliable. The p-value also provides a measure of the strength of the evidence against the null hypothesis, which can help researchers to draw more accurate conclusions about the population being studied."
   ]
  },
  {
   "cell_type": "code",
   "execution_count": null,
   "id": "2db65519-2c0f-45be-ae77-5768c83e6afc",
   "metadata": {},
   "outputs": [],
   "source": [
    "Q9. Generate a Student's t-distribution plot using Python's matplotlib library, with the degrees of freedom\n",
    "parameter set to 10."
   ]
  },
  {
   "cell_type": "code",
   "execution_count": 3,
   "id": "3487aac7-a378-4b4b-b0e0-b686049aa982",
   "metadata": {},
   "outputs": [
    {
     "data": {
      "image/png": "[encoded data removed]",
      "text/plain": [
       "<Figure size 640x480 with 1 Axes>"
      ]
     },
     "metadata": {},
     "output_type": "display_data"
    }
   ],
   "source": [
    "import numpy as np\n",
    "import matplotlib.pyplot as plt\n",
    "from scipy.stats import t\n",
    "\n",
    "df = 10\n",
    "x = np.linspace(-5, 5, 1000)\n",
    "y = t.pdf(x, df)\n",
    "\n",
    "plt.plot(x, y)\n",
    "plt.title(\"Student's t-distribution plot (df=10)\")\n",
    "plt.xlabel(\"x\")\n",
    "plt.ylabel(\"Probability density\")\n",
    "plt.show()\n"
   ]
  },
  {
   "cell_type": "code",
   "execution_count": null,
   "id": "6478d145-1fa1-4815-9f42-432c060f570f",
   "metadata": {},
   "outputs": [],
   "source": [
    "Q10. Write a Python program to calculate the two-sample t-test for independent samples, given two\n",
    "random samples of equal size and a null hypothesis that the population means are equal."
   ]
  },
  {
   "cell_type": "code",
   "execution_count": 4,
   "id": "1de1a1b6-1e28-4889-995c-1be9c68c65d5",
   "metadata": {},
   "outputs": [
    {
     "name": "stdout",
     "output_type": "stream",
     "text": [
      "t-statistic: -5.28237184323264\n",
      "p-value: 7.70052101050023e-07\n",
      "Reject null hypothesis - population means are not equal.\n"
     ]
    }
   ],
   "source": [
    "import numpy as np\n",
    "from scipy.stats import ttest_ind\n",
    "\n",
    "# Generate two random samples of equal size\n",
    "sample1 = np.random.normal(10, 2, 50)\n",
    "sample2 = np.random.normal(12, 2, 50)\n",
    "\n",
    "# Calculate the t-test\n",
    "t_statistic, p_value = ttest_ind(sample1, sample2)\n",
    "\n",
    "# Print the results\n",
    "print(\"t-statistic:\", t_statistic)\n",
    "print(\"p-value:\", p_value)\n",
    "\n",
    "# Determine if the null hypothesis should be rejected\n",
    "alpha = 0.05\n",
    "if p_value < alpha:\n",
    "    print(\"Reject null hypothesis - population means are not equal.\")\n",
    "else:\n",
    "    print(\"Fail to reject null hypothesis - population means may be equal.\")\n"
   ]
  },
  {
   "cell_type": "code",
   "execution_count": null,
   "id": "45f44c35-8d16-4c23-ac7b-c5828d3d1cbb",
   "metadata": {},
   "outputs": [],
   "source": [
    "Q11: What is Student’s t distribution? When to use the t-Distribution."
   ]
  },
  {
   "cell_type": "code",
   "execution_count": null,
   "id": "f6ece48a-dec1-4d74-9268-c9aff7c6c499",
   "metadata": {},
   "outputs": [],
   "source": [
    "Student's t-distribution is a probability distribution that is used in hypothesis testing when the sample size is small (i.e., less than 30) and the population standard deviation is unknown. It is named after William Gosset, who used the pen name \"Student\" when he published his work on the t-distribution in 1908."
   ]
  },
  {
   "cell_type": "code",
   "execution_count": null,
   "id": "5b511f6f-f762-4407-9422-6d6468c44984",
   "metadata": {},
   "outputs": [],
   "source": [
    "Q12: What is t-statistic? State the formula for t-statistic."
   ]
  },
  {
   "cell_type": "code",
   "execution_count": null,
   "id": "89e0e423-0961-4af3-8785-3fc5e1c501cb",
   "metadata": {},
   "outputs": [],
   "source": [
    "The t-statistic is a measure of how many standard errors the sample mean is away from the null hypothesis (i.e., the population mean). It is used in hypothesis testing to determine if the difference between the sample mean and the null hypothesis is statistically significant.\n",
    "\n",
    "The formula for the t-statistic is:\n",
    "\n",
    "t = (x̄ - μ) / (s / sqrt(n))\n",
    "\n",
    "where:\n",
    "\n",
    "x̄ is the sample mean\n",
    "μ is the null hypothesis (i.e., population mean)\n",
    "s is the sample standard deviation\n",
    "n is the sample size"
   ]
  },
  {
   "cell_type": "code",
   "execution_count": null,
   "id": "2a465a08-3b1b-4061-9b96-a024615dd414",
   "metadata": {},
   "outputs": [],
   "source": [
    "Q13. A coffee shop owner wants to estimate the average daily revenue for their shop. They take a random\n",
    "sample of 50 days and find the sample mean revenue to be $500 with a standard deviation of $50.\n",
    "Estimate the population mean revenue with a 95% confidence interval."
   ]
  },
  {
   "cell_type": "code",
   "execution_count": null,
   "id": "1d6610c1-f0e4-4259-9c19-539e803ae5fe",
   "metadata": {},
   "outputs": [],
   "source": [
    "To estimate the population mean revenue with a 95% confidence interval, we can use the following formula:\n",
    "\n",
    "CI = x̄ ± t*(s / sqrt(n))\n",
    "\n",
    "where:\n",
    "\n",
    "x̄ is the sample mean revenue ($500)\n",
    "s is the sample standard deviation ($50)\n",
    "n is the sample size (50)\n",
    "t is the t-value from the t-distribution with (n-1) degrees of freedom and a confidence level of 95%. We can use a t-table or a t-distribution calculator to find this value.\n",
    "Using a t-table with 49 degrees of freedom (n-1) and a confidence level of 95%, we find the t-value to be 2.009. Substituting the values into the formula, we get:\n",
    "\n",
    "CI = 500 ± 2.009*(50 / sqrt(50))\n",
    "\n",
    "Simplifying the equation, we get:\n",
    "\n",
    "CI = 500 ± 14.14\n",
    "\n",
    "Therefore, the 95% confidence interval for the population mean revenue is (485.86, 514.14). We can interpret this interval as follows: we are 95% confident that the true population mean revenue is between $485.86 and $514.14 based on the sample of 50 days."
   ]
  },
  {
   "cell_type": "code",
   "execution_count": null,
   "id": "e877f159-2582-4d7f-88c4-08004b690398",
   "metadata": {},
   "outputs": [],
   "source": [
    "Q14. A researcher hypothesizes that a new drug will decrease blood pressure by 10 mmHg. They conduct a\n",
    "clinical trial with 100 patients and find that the sample mean decrease in blood pressure is 8 mmHg with a\n",
    "standard deviation of 3 mmHg. Test the hypothesis with a significance level of 0.05."
   ]
  },
  {
   "cell_type": "code",
   "execution_count": null,
   "id": "e5719e12-a281-4ce9-ac64-efecfc70f271",
   "metadata": {},
   "outputs": [],
   "source": [
    "To test the hypothesis that the new drug decreases blood pressure by 10 mmHg with a significance level of 0.05, we can use a one-sample t-test. The null and alternative hypotheses are:\n",
    "\n",
    "Null hypothesis: The new drug does not decrease blood pressure by 10 mmHg (μ = 10)\n",
    "Alternative hypothesis: The new drug decreases blood pressure by 10 mmHg (μ < 10)\n",
    "The test statistic is calculated as:\n",
    "\n",
    "t = (x̄ - μ) / (s / sqrt(n))\n",
    "\n",
    "where:\n",
    "\n",
    "x̄ is the sample mean decrease in blood pressure (8 mmHg)\n",
    "μ is the hypothesized decrease in blood pressure (10 mmHg)\n",
    "s is the sample standard deviation (3 mmHg)\n",
    "n is the sample size (100)\n",
    "Substituting the values, we get:\n",
    "\n",
    "t = (8 - 10) / (3 / sqrt(100)) = -2.82\n",
    "\n",
    "Using a t-distribution table with 99 degrees of freedom (n-1), we find the critical t-value for a one-tailed test with a significance level of 0.05 to be -1.66. Since our calculated t-value (-2.82) is less than the critical t-value (-1.66), we can reject the null hypothesis and conclude that the new drug decreases blood pressure by 10 mmHg with a significance level of 0.05."
   ]
  },
  {
   "cell_type": "code",
   "execution_count": null,
   "id": "7bdc3d4d-6496-4dfe-966a-70a3b049fc76",
   "metadata": {},
   "outputs": [],
   "source": [
    "Q15. An electronics company produces a certain type of product with a mean weight of 5 pounds and a\n",
    "standard deviation of 0.5 pounds. A random sample of 25 products is taken, and the sample mean weight\n",
    "is found to be 4.8 pounds. Test the hypothesis that the true mean weight of the products is less than 5\n",
    "pounds with a significance level of 0.01."
   ]
  },
  {
   "cell_type": "code",
   "execution_count": null,
   "id": "9c72136f-1d9a-47dd-8fd6-553e81e71de4",
   "metadata": {},
   "outputs": [],
   "source": [
    "To test the hypothesis that the true mean weight of the products is less than 5 pounds with a significance level of 0.01, we can use a one-sample t-test. The null and alternative hypotheses are:\n",
    "\n",
    "Null hypothesis: The true mean weight of the products is equal to 5 pounds (μ = 5)\n",
    "Alternative hypothesis: The true mean weight of the products is less than 5 pounds (μ < 5)\n",
    "The test statistic is calculated as:\n",
    "\n",
    "t = (x̄ - μ) / (s / sqrt(n))\n",
    "\n",
    "where:\n",
    "\n",
    "x̄ is the sample mean weight (4.8 pounds)\n",
    "μ is the hypothesized true mean weight (5 pounds)\n",
    "s is the sample standard deviation (0.5 pounds)\n",
    "n is the sample size (25)\n",
    "Substituting the values, we get:\n",
    "\n",
    "t = (4.8 - 5) / (0.5 / sqrt(25)) = -2\n",
    "\n",
    "Using a t-distribution table with 24 degrees of freedom (n-1), we find the critical t-value for a one-tailed test with a significance level of 0.01 to be -2.492. Since our calculated t-value (-2) is greater than the critical t-value (-2.492), we fail to reject the null hypothesis and conclude that there is not enough evidence to suggest that the true mean weight of the products is less than 5 pounds with a significance level of 0.01."
   ]
  },
  {
   "cell_type": "code",
   "execution_count": null,
   "id": "6fbfd75c-4c2c-4a4d-a6da-47b44e31e2a9",
   "metadata": {},
   "outputs": [],
   "source": [
    "Q16. Two groups of students are given different study materials to prepare for a test. The first group (n1 =\n",
    "30) has a mean score of 80 with a standard deviation of 10, and the second group (n2 = 40) has a mean\n",
    "score of 75 with a standard deviation of 8. Test the hypothesis that the population means for the two\n",
    "groups are equal with a significance level of 0.01."
   ]
  },
  {
   "cell_type": "code",
   "execution_count": null,
   "id": "1c29fa27-6eed-4ec0-86e9-776e77754831",
   "metadata": {},
   "outputs": [],
   "source": [
    "To test the hypothesis that the population means for the two groups are equal, we can use the two-sample t-test for independent samples. The null and alternative hypotheses are:\n",
    "\n",
    "H0: μ1 = μ2 (the population means for the two groups are equal)\n",
    "Ha: μ1 ≠ μ2 (the population means for the two groups are not equal)\n",
    "\n",
    "We can use a significance level of 0.01, which corresponds to a critical value of ±2.576 for a two-tailed test with degrees of freedom equal to (n1-1) + (n2-1) = 68.\n",
    "\n",
    "The test statistic for the two-sample t-test is calculated as follows:\n",
    "\n",
    "t = (x̄1 - x̄2) / sqrt(s1^2/n1 + s2^2/n2)\n",
    "\n",
    "where:\n",
    "\n",
    "x̄1 and x̄2 are the sample means for the two groups (80 and 75, respectively)\n",
    "s1 and s2 are the sample standard deviations for the two groups (10 and 8, respectively)\n",
    "n1 and n2 are the sample sizes for the two groups (30 and 40, respectively).\n",
    "Substituting the values, we get:\n",
    "\n",
    "t = (80 - 75) / sqrt(10^2/30 + 8^2/40) ≈ 2.53\n",
    "\n",
    "Since the absolute value of t (2.53) is greater than the critical value of 2.576, we reject the null hypothesis and conclude that there is evidence to suggest that the population means for the two groups are not equal at a significance level of 0.01."
   ]
  },
  {
   "cell_type": "code",
   "execution_count": null,
   "id": "19a0d0e2-fbc2-48aa-be26-1d1c41fd06c0",
   "metadata": {},
   "outputs": [],
   "source": [
    "Q17. A marketing company wants to estimate the average number of ads watched by viewers during a TV\n",
    "program. They take a random sample of 50 viewers and find that the sample mean is 4 with a standard\n",
    "deviation of 1.5. Estimate the population mean with a 99% confidence interval."
   ]
  },
  {
   "cell_type": "code",
   "execution_count": null,
   "id": "d75531c2-679e-4c74-8510-a4ad4d8d80f1",
   "metadata": {},
   "outputs": [],
   "source": [
    "To estimate the population mean with a 99% confidence interval, we can use the following formula:\n",
    "\n",
    "CI = x̄ ± t(α/2, n-1) * (s / sqrt(n))\n",
    "\n",
    "where:\n",
    "\n",
    "x̄ is the sample mean (4)\n",
    "t(α/2, n-1) is the t-value for a two-tailed test with a 99% confidence level and n-1 degrees of freedom. From the t-distribution table with 49 degrees of freedom, the t-value is approximately 2.681.\n",
    "s is the sample standard deviation (1.5)\n",
    "n is the sample size (50)\n",
    "α is the significance level, which is 1 - 0.99 = 0.01 for a 99% confidence level.\n",
    "Substituting the values, we get:\n",
    "\n",
    "CI = 4 ± 2.681 * (1.5 / sqrt(50)) ≈ 4 ± 0.61\n",
    "\n",
    "Therefore, the 99% confidence interval for the population mean is [3.39, 4.61]. We can interpret this interval as follows: if we were to repeat the sampling process many times and compute a 99% confidence interval each time, then approximately 99% of those intervals would contain the true population mean."
   ]
  },
  {
   "cell_type": "code",
   "execution_count": null,
   "id": "5432ed33-9530-4749-92dc-205da1f4e1cd",
   "metadata": {},
   "outputs": [],
   "source": []
  }
 ],
 "metadata": {
  "kernelspec": {
   "display_name": "Python 3 (ipykernel)",
   "language": "python",
   "name": "python3"
  },
  "language_info": {
   "codemirror_mode": {
    "name": "ipython",
    "version": 3
   },
   "file_extension": ".py",
   "mimetype": "text/x-python",
   "name": "python",
   "nbconvert_exporter": "python",
   "pygments_lexer": "ipython3",
   "version": "3.10.8"
  }
 },
 "nbformat": 4,
 "nbformat_minor": 5
}
