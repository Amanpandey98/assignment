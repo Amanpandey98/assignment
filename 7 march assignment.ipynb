{
 "cells": [
  {
   "cell_type": "code",
   "execution_count": null,
   "id": "f028118d-38ae-4134-a2f7-169f6e957be2",
   "metadata": {},
   "outputs": [],
   "source": [
    "Q1. What are the three measures of central tendency?"
   ]
  },
  {
   "cell_type": "code",
   "execution_count": null,
   "id": "4cca876d-cdc9-4aaf-93a6-6266cfd59954",
   "metadata": {},
   "outputs": [],
   "source": [
    "the three measure of central tendancy are Mean,Median and Mode."
   ]
  },
  {
   "cell_type": "code",
   "execution_count": null,
   "id": "5f608d18-55a7-4fa2-951f-0f4fa2d9c915",
   "metadata": {},
   "outputs": [],
   "source": [
    "Q2. What is the difference between the mean, median, and mode? How are they used to measure the\n",
    "central tendency of a dataset?"
   ]
  },
  {
   "cell_type": "code",
   "execution_count": null,
   "id": "b41f5a97-e010-4336-940f-31cc94f4d77a",
   "metadata": {},
   "outputs": [],
   "source": [
    "The difference between mean, median and mode are: Mean is the average value of the given observations. Median is the middle value of the given observations. Mode is the most repeated value in the given observation.\n"
   ]
  },
  {
   "cell_type": "code",
   "execution_count": null,
   "id": "da8aac8b-d8ef-423d-b7c1-f4a4601c4fe0",
   "metadata": {},
   "outputs": [],
   "source": [
    "Q3. Measure the three measures of central tendency for the given height data:\n",
    "[178,177,176,177,178.2,178,175,179,180,175,178.9,176.2,177,172.5,178,176.5]"
   ]
  },
  {
   "cell_type": "code",
   "execution_count": 9,
   "id": "5b393bb6-ab97-46b9-8fe9-2f407cfa60b9",
   "metadata": {},
   "outputs": [
    {
     "name": "stderr",
     "output_type": "stream",
     "text": [
      "/tmp/ipykernel_145/1021516105.py:9: FutureWarning: Unlike other reduction functions (e.g. `skew`, `kurtosis`), the default behavior of `mode` typically preserves the axis it acts along. In SciPy 1.11.0, this behavior will change: the default value of `keepdims` will become False, the `axis` over which the statistic is taken will be eliminated, and the value None will no longer be accepted. Set `keepdims` to True or False to avoid this warning.\n",
      "  stats.mode(height_data)##mode of the given data is 177\n"
     ]
    },
    {
     "data": {
      "text/plain": [
       "ModeResult(mode=array([177.]), count=array([3]))"
      ]
     },
     "execution_count": 9,
     "metadata": {},
     "output_type": "execute_result"
    }
   ],
   "source": [
    "import numpy as np\n",
    "from scipy import stats\n",
    "#mean\n",
    "height_data=[178,177,176,177,178.2,178,175,179,180,175,178.9,176.2,177,172.5,178,176.5]\n",
    "np.mean(height_data)##mean of the given data is 177.01875\n",
    "#median\n",
    "np.median(height_data)##median of the given data is 177.0\n",
    "#Mode\n",
    "stats.mode(height_data)##mode of the given data is 177\n",
    "\n"
   ]
  },
  {
   "cell_type": "code",
   "execution_count": null,
   "id": "eb9db3b0-0c13-4be4-8665-ad64dd38069f",
   "metadata": {},
   "outputs": [],
   "source": [
    "Q4. Find the standard deviation for the given data:\n",
    "[178,177,176,177,178.2,178,175,179,180,175,178.9,176.2,177,172.5,178,176.5]"
   ]
  },
  {
   "cell_type": "code",
   "execution_count": 10,
   "id": "ff6e9979-a26d-411b-9424-f6c3e15babd2",
   "metadata": {},
   "outputs": [
    {
     "data": {
      "text/plain": [
       "1.7885814036548633"
      ]
     },
     "execution_count": 10,
     "metadata": {},
     "output_type": "execute_result"
    }
   ],
   "source": [
    "import numpy as np\n",
    "data=[178,177,176,177,178.2,178,175,179,180,175,178.9,176.2,177,172.5,178,176.5]\n",
    "np.std(data)"
   ]
  },
  {
   "cell_type": "code",
   "execution_count": null,
   "id": "991414e6-beb9-4c45-950d-db2b93580865",
   "metadata": {},
   "outputs": [],
   "source": [
    "Q5. How are measures of dispersion such as range, variance, and standard deviation used to describe\n",
    "the spread of a dataset? Provide an example."
   ]
  },
  {
   "cell_type": "code",
   "execution_count": null,
   "id": "84862f84-f20f-46b9-9af5-6f3a2a751968",
   "metadata": {},
   "outputs": [],
   "source": [
    "The most important use of measures of dispersion is that they help to get an understanding of the distribution of data. As the data becomes more diverse, the value of the measure of dispersion increases.\n",
    "Suppose we have two data sets A = {3, 1, 6, 2} and B = {1, 5, 9, 10}. The variance(population) of A is 3.5 and the variance(population) of B is 12.68. This implies that data set B is more variable than data set A. Thus, the variance helps to draw a comparison between the two data sets A and B on the basis of variability."
   ]
  },
  {
   "cell_type": "code",
   "execution_count": null,
   "id": "466b68fa-e1c3-4cd3-81b8-b0f95029ccd7",
   "metadata": {},
   "outputs": [],
   "source": [
    "Q6. What is a Venn diagram?"
   ]
  },
  {
   "cell_type": "code",
   "execution_count": null,
   "id": "35ddd03b-ed1f-47cd-b805-a66bace45de1",
   "metadata": {},
   "outputs": [],
   "source": [
    "A Venn diagram is an illustration that uses circles to show the relationships among things or finite groups of things. Circles that overlap have a commonality while circles that do not overlap do not share those traits. Venn diagrams help to visually represent the similarities and differences between two concepts"
   ]
  },
  {
   "cell_type": "code",
   "execution_count": null,
   "id": "c790535b-a297-4cbc-8e25-b1963ccd33d1",
   "metadata": {},
   "outputs": [],
   "source": [
    "Q7. For the two given sets A = (2,3,4,5,6,7) & B = (0,2,6,8,10). Find:\n",
    "(i) A B\n",
    "(ii) A ⋃ B"
   ]
  },
  {
   "cell_type": "code",
   "execution_count": null,
   "id": "846e7935-25b4-4a96-9d58-ba77849a24eb",
   "metadata": {},
   "outputs": [],
   "source": [
    "(i)(2,6)\n",
    "(ii)(2,3,4,5,6,7,0,2,6,8,10)"
   ]
  },
  {
   "cell_type": "code",
   "execution_count": null,
   "id": "84d26f18-1841-4e7c-8848-0c08dbe5acf3",
   "metadata": {},
   "outputs": [],
   "source": [
    "Q8. What do you understand about skewness in data?"
   ]
  },
  {
   "cell_type": "code",
   "execution_count": null,
   "id": "b59bc0f5-886c-4194-b9fd-7130d4080db5",
   "metadata": {},
   "outputs": [],
   "source": [
    "Skewness is a measurement of the distortion of symmetrical distribution or asymmetry in a data set. Skewness is demonstrated on a bell curve when data points are not distributed symmetrically to the left and right sides of the median on a bell curve."
   ]
  },
  {
   "cell_type": "code",
   "execution_count": null,
   "id": "5575228c-5b64-4daa-8777-282e0ceae9c1",
   "metadata": {},
   "outputs": [],
   "source": [
    "Q9. If a data is right skewed then what will be the position of median with respect to mean?"
   ]
  },
  {
   "cell_type": "code",
   "execution_count": null,
   "id": "ee906c77-7873-4465-9a68-f7412d5b0ec9",
   "metadata": {},
   "outputs": [],
   "source": [
    "If the distribution of data is skewed to the right, the mode is often less than the median, which is less than the mean."
   ]
  },
  {
   "cell_type": "code",
   "execution_count": null,
   "id": "f7cecf2f-bee0-42e7-98b4-d42b21c77028",
   "metadata": {},
   "outputs": [],
   "source": [
    "Q10. Explain the difference between covariance and correlation. How are these measures used in\n",
    "statistical analysis?"
   ]
  },
  {
   "cell_type": "code",
   "execution_count": null,
   "id": "84dc4e68-de5f-44ad-b462-cde225ad587b",
   "metadata": {},
   "outputs": [],
   "source": [
    "Covariance is an indicator of the extent to which 2 random variables are dependent on each other. A higher number denotes higher dependency. Correlation is a statistical measure that indicates how strongly two variables are related. The value of covariance lies in the range of -∞ and +∞."
   ]
  },
  {
   "cell_type": "code",
   "execution_count": null,
   "id": "00ce0a52-42e6-4eda-95fd-07cef4ef0a0e",
   "metadata": {},
   "outputs": [],
   "source": [
    "Q11. What is the formula for calculating the sample mean? Provide an example calculation for a\n",
    "dataset."
   ]
  },
  {
   "cell_type": "code",
   "execution_count": null,
   "id": "16b4952e-608e-4b75-8445-7c24303807b5",
   "metadata": {},
   "outputs": [],
   "source": [
    "Sample Mean = (Sum of terms) ÷ (Number of Terms) =∑xi/n =(x1+x2+x3+⋯+x/n)\n",
    "Example 1: Find the sample mean of 60, 57, 109, 50.\n",
    "\n",
    "Solution: \n",
    "\n",
    "To find: Sample mean\n",
    "Sum of terms = 60 + 57 + 109 + 50 = 276\n",
    "Number of terms = 4\n",
    "Using sample mean formula,\n",
    "mean = (sum of terms)/(number of terms)\n",
    "mean = 276/4 = 69\n",
    "\n",
    "Answer: The sample mean of 60, 57, 109, 50 is  69."
   ]
  },
  {
   "cell_type": "code",
   "execution_count": null,
   "id": "b14f564a-350f-4d80-8ca6-66f474963674",
   "metadata": {},
   "outputs": [],
   "source": [
    "Q12. For a normal distribution data what is the relationship between its measure of central tendency?"
   ]
  },
  {
   "cell_type": "code",
   "execution_count": null,
   "id": "2e0ae6c0-34b8-4078-a6b8-37fa509ba156",
   "metadata": {},
   "outputs": [],
   "source": [
    "Any normal distribution has a graph that is perfectly symmetric about a vertical line through its peak. Therefore, all measures of central tendency (most commonly, the mean, median, and mode) give the same answer: the \n",
    "x-value of the peak"
   ]
  },
  {
   "cell_type": "code",
   "execution_count": null,
   "id": "0fa27f56-de90-412d-931c-f872d9a96841",
   "metadata": {},
   "outputs": [],
   "source": [
    "Q13. How is covariance different from correlation?"
   ]
  },
  {
   "cell_type": "code",
   "execution_count": null,
   "id": "3e03ead3-0ce3-4202-bcba-43e685f921d3",
   "metadata": {},
   "outputs": [],
   "source": [
    "Covariance and correlation are two terms that are opposed and are both used in statistics and regression analysis. Covariance shows you how the two variables differ, whereas correlation shows you how the two variables are related."
   ]
  },
  {
   "cell_type": "code",
   "execution_count": null,
   "id": "c6bf70cf-6d50-467f-8076-3cb640da8de4",
   "metadata": {},
   "outputs": [],
   "source": [
    "Q14. How do outliers affect measures of central tendency and dispersion? Provide an example."
   ]
  },
  {
   "cell_type": "code",
   "execution_count": null,
   "id": "afbbc1cb-54b2-4f68-85dc-282285f2b5e9",
   "metadata": {},
   "outputs": [],
   "source": [
    "Outliers Measures of central tendency and dispersion can give misleading impressions of a data set if the set contains one or more outliers. An outlier is a value that is much greater than or much less than most of the other values in a data set.\n",
    "example=[2,3,5,6,7,100] \n",
    "here 100 is an outlier if we find the mean of the data it will give us misleading impression or answer."
   ]
  },
  {
   "cell_type": "code",
   "execution_count": null,
   "id": "5e0eca4e-bb1d-4d96-ab86-eb88757f6150",
   "metadata": {},
   "outputs": [],
   "source": []
  },
  {
   "cell_type": "code",
   "execution_count": null,
   "id": "36b95c63-bf6c-4e7e-a144-341a2c501fdc",
   "metadata": {},
   "outputs": [],
   "source": []
  },
  {
   "cell_type": "code",
   "execution_count": null,
   "id": "9835b6e2-1fab-4768-b0b1-4107ca240f8c",
   "metadata": {},
   "outputs": [],
   "source": []
  },
  {
   "cell_type": "code",
   "execution_count": null,
   "id": "79b50224-a445-4a7d-805f-12759535b792",
   "metadata": {},
   "outputs": [],
   "source": []
  },
  {
   "cell_type": "code",
   "execution_count": null,
   "id": "dcd90325-cb6e-400a-b0a5-e219b12b8335",
   "metadata": {},
   "outputs": [],
   "source": []
  },
  {
   "cell_type": "code",
   "execution_count": null,
   "id": "7cc93163-a294-4549-945e-253efc4e85e9",
   "metadata": {},
   "outputs": [],
   "source": []
  }
 ],
 "metadata": {
  "kernelspec": {
   "display_name": "Python 3 (ipykernel)",
   "language": "python",
   "name": "python3"
  },
  "language_info": {
   "codemirror_mode": {
    "name": "ipython",
    "version": 3
   },
   "file_extension": ".py",
   "mimetype": "text/x-python",
   "name": "python",
   "nbconvert_exporter": "python",
   "pygments_lexer": "ipython3",
   "version": "3.10.8"
  }
 },
 "nbformat": 4,
 "nbformat_minor": 5
}
