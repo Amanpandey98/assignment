{
 "cells": [
  {
   "cell_type": "code",
   "execution_count": null,
   "id": "29fe61a5-ce6f-4211-ae2c-25a4a381de68",
   "metadata": {},
   "outputs": [],
   "source": [
    "Q1. You are writing code for a company. The requirement of the company is that you create a python\n",
    "function that will check whether the password entered by the user is correct or not. The function should\n",
    "take the password as input and return the string “Valid Password” if the entered password follows the\n",
    "below-given password guidelines else it should return “Invalid Password”.\n",
    "Note: 1. The Password should contain at least two uppercase letters and at least two lowercase letters.\n",
    "2. The Password should contain at least a number and three special characters.\n",
    "3. The length of the password should be 10 characters long."
   ]
  },
  {
   "cell_type": "code",
   "execution_count": 30,
   "id": "63da39ed-3db9-4de4-b906-43429c35cd89",
   "metadata": {},
   "outputs": [],
   "source": [
    "def password_checker(password):\n",
    "    if len(password) != 10:\n",
    "        return \"Invalid Password\"\n",
    "\n",
    "    has_upper = sum(i.isupper() for i in password) >= 2\n",
    "    has_lower = sum(i.islower() for i in password) >= 2\n",
    "    has_number = sum(i.isdigit() for i in password) >= 1\n",
    "    has_special = sum(not i.isalnum() for i in password) >= 3\n",
    "\n",
    "    if has_upper and has_lower and has_number and has_special:\n",
    "        return \"Valid Password\"\n",
    "    else:\n",
    "        return \"Invalid Password\"\n"
   ]
  },
  {
   "cell_type": "code",
   "execution_count": null,
   "id": "4386ddd4-4077-446a-9688-5822645a0c70",
   "metadata": {},
   "outputs": [],
   "source": [
    "ques=Check if the string starts with a particular letter."
   ]
  },
  {
   "cell_type": "code",
   "execution_count": 76,
   "id": "ee163be4-ab51-4cfb-b765-db5f4ae786e9",
   "metadata": {},
   "outputs": [
    {
     "name": "stdout",
     "output_type": "stream",
     "text": [
      "['apple', 'apricot']\n"
     ]
    }
   ],
   "source": [
    "strings = [\"apple\", \"banana\", \"apricot\"]\n",
    "start_letter = \"a\"\n",
    "def check_letter(strings, start_letter):\n",
    "    return list(filter(lambda x: x[0] == start_letter, strings))\n",
    "\n",
    "print(check_letter(strings, start_letter)) # Output: [\"apple\", \"apricot\"]\n"
   ]
  },
  {
   "cell_type": "code",
   "execution_count": null,
   "id": "cb047a32-a0b0-45ea-87af-f4724de3d351",
   "metadata": {},
   "outputs": [],
   "source": [
    "ques= Check if the string is numeric.\n",
    "\n"
   ]
  },
  {
   "cell_type": "code",
   "execution_count": 11,
   "id": "f79a8e9c-6a87-48fe-8390-207f7f6676ff",
   "metadata": {},
   "outputs": [
    {
     "name": "stdout",
     "output_type": "stream",
     "text": [
      "True\n"
     ]
    }
   ],
   "source": [
    "string = \"1234\"\n",
    "is_numeric = lambda x: x.isdigit()\n",
    "print(is_numeric(string))\n"
   ]
  },
  {
   "cell_type": "code",
   "execution_count": null,
   "id": "e4053193-3d11-4186-a7c2-a397bb9a5b13",
   "metadata": {},
   "outputs": [],
   "source": [
    "ques= Sort a list of tuples having fruit names and their quantity. [(\"mango\",99),(\"orange\",80), (\"grapes\", 1000)"
   ]
  },
  {
   "cell_type": "code",
   "execution_count": 21,
   "id": "6aba619c-3f7e-4f39-9221-0970b40a50a6",
   "metadata": {},
   "outputs": [
    {
     "name": "stdout",
     "output_type": "stream",
     "text": [
      "[('orange', 80), ('mango', 99), ('grapes', 1000)]\n"
     ]
    }
   ],
   "source": [
    "l=[(\"mango\",99),(\"orange\",80), (\"grapes\", 1000)]\n",
    "sorted_lst=sorted(l,key=lambda x:x[1])\n",
    "print(sorted_lst)"
   ]
  },
  {
   "cell_type": "code",
   "execution_count": null,
   "id": "479b9fd1-f328-4bbc-988a-58e27821123f",
   "metadata": {},
   "outputs": [],
   "source": [
    "ques= Find the squares of numbers from 1 to 10.\n"
   ]
  },
  {
   "cell_type": "code",
   "execution_count": 38,
   "id": "f6432195-fac7-452d-92a4-cc21b3e797c7",
   "metadata": {},
   "outputs": [
    {
     "name": "stdout",
     "output_type": "stream",
     "text": [
      "[1, 4, 9, 16, 25, 36, 49, 64, 81, 100]\n"
     ]
    }
   ],
   "source": [
    "num=range(1,11)\n",
    "square_num=list(map(lambda x:x**2,l))\n",
    "print(square_num)"
   ]
  },
  {
   "cell_type": "code",
   "execution_count": null,
   "id": "45645ad1-ae10-4a7c-a529-043075312738",
   "metadata": {},
   "outputs": [],
   "source": [
    "ques= Find the cube root of numbers from 1 to 10."
   ]
  },
  {
   "cell_type": "code",
   "execution_count": 39,
   "id": "783c9cf2-b2ea-454e-8968-4ece1579f9ba",
   "metadata": {},
   "outputs": [
    {
     "name": "stdout",
     "output_type": "stream",
     "text": [
      "[1, 8, 27, 64, 125, 216, 343, 512, 729, 1000]\n"
     ]
    }
   ],
   "source": [
    "num=range(1,11)\n",
    "cube_num=list(map(lambda x:x**3,num))\n",
    "print(cube_num)"
   ]
  },
  {
   "cell_type": "code",
   "execution_count": null,
   "id": "841891b2-c420-45e7-9263-44eb22afe075",
   "metadata": {},
   "outputs": [],
   "source": [
    "ques=Check if a given number is even."
   ]
  },
  {
   "cell_type": "code",
   "execution_count": 50,
   "id": "26e17767-fa4a-4dec-9d18-4cd055a6ae8b",
   "metadata": {},
   "outputs": [
    {
     "name": "stdout",
     "output_type": "stream",
     "text": [
      "[True]\n"
     ]
    }
   ],
   "source": [
    "n=[4]      \n",
    "find_even=list(map(lambda x:x%2==0,n))\n",
    "print(find_even)"
   ]
  },
  {
   "cell_type": "code",
   "execution_count": null,
   "id": "98574ba8-390f-4949-9c8e-37e623e61f18",
   "metadata": {},
   "outputs": [],
   "source": [
    "ques= Filter odd numbers from the given list.\n",
    "[1,2,3,4,5,6,7,8,9,10]"
   ]
  },
  {
   "cell_type": "code",
   "execution_count": 53,
   "id": "92c02094-5d69-45cb-ba37-5fa7c832660e",
   "metadata": {},
   "outputs": [
    {
     "name": "stdout",
     "output_type": "stream",
     "text": [
      "[1, 3, 5, 7, 9]\n"
     ]
    }
   ],
   "source": [
    "lst=[1,2,3,4,5,6,7,8,9,10]\n",
    "odd_no=list(filter(lambda x:x%2!=0,lst))\n",
    "print(odd_no)"
   ]
  },
  {
   "cell_type": "code",
   "execution_count": null,
   "id": "f3917c99-7563-47e1-aa91-221bca34b0c9",
   "metadata": {},
   "outputs": [],
   "source": [
    "ques= Sort a list of integers into positive and negative integers lists.\n",
    "[1,2,3,4,5,6,-1,-2,-3,-4,-5,0]"
   ]
  },
  {
   "cell_type": "code",
   "execution_count": null,
   "id": "2e9de2a5-60bc-4516-acd5-3509dd3a9f68",
   "metadata": {},
   "outputs": [],
   "source": [
    "l=[1,2,3,4,5,6,-1,-2,-3,-4,-5,0]\n"
   ]
  },
  {
   "cell_type": "code",
   "execution_count": null,
   "id": "9ca38978-72be-4b0b-8a49-fabfa6d4d899",
   "metadata": {},
   "outputs": [],
   "source": []
  }
 ],
 "metadata": {
  "kernelspec": {
   "display_name": "Python 3 (ipykernel)",
   "language": "python",
   "name": "python3"
  },
  "language_info": {
   "codemirror_mode": {
    "name": "ipython",
    "version": 3
   },
   "file_extension": ".py",
   "mimetype": "text/x-python",
   "name": "python",
   "nbconvert_exporter": "python",
   "pygments_lexer": "ipython3",
   "version": "3.10.8"
  }
 },
 "nbformat": 4,
 "nbformat_minor": 5
}
